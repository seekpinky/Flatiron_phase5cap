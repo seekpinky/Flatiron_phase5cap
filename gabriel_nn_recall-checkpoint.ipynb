{
 "cells": [
  {
   "cell_type": "code",
   "execution_count": 171,
   "metadata": {},
   "outputs": [],
   "source": [
    "import pandas as pd\n",
    "from imblearn.pipeline import Pipeline\n",
    "from imblearn.over_sampling import SMOTE\n",
    "from sklearn.model_selection import train_test_split"
   ]
  },
  {
   "cell_type": "code",
   "execution_count": 172,
   "metadata": {},
   "outputs": [],
   "source": [
    "# data analysis and wrangling\n",
    "import pandas as pd\n",
    "from pandas import DataFrame\n",
    "import numpy as np\n",
    "import random as rnd\n",
    "import math\n",
    "import seaborn as sns\n",
    "from matplotlib import pyplot as plt\n",
    "from scipy import stats as stats\n",
    "\n",
    "# visualization\n",
    "import seaborn as sns\n",
    "sns.set_style('darkgrid')\n",
    "import matplotlib.pyplot as plt\n",
    "%matplotlib inline\n",
    "\n",
    "# scaling and train test split\n",
    "#from sklearn.model_selection import train_test_split,cross_val_score\n",
    "from sklearn.model_selection import train_test_split, cross_validate, GridSearchCV\n",
    "from sklearn.preprocessing import MinMaxScaler\n",
    "\n",
    "# pipeline setup\n",
    "from sklearn.base import BaseEstimator, TransformerMixin\n",
    "#from sklearn.pipeline import Pipeline\n",
    "from sklearn.impute import SimpleImputer\n",
    "from sklearn.preprocessing import LabelEncoder\n",
    "from sklearn.preprocessing import OrdinalEncoder\n",
    "from sklearn.preprocessing import OneHotEncoder\n",
    "from sklearn.preprocessing import StandardScaler\n",
    "from sklearn.preprocessing import Normalizer\n",
    "from sklearn.preprocessing import MaxAbsScaler\n",
    "from sklearn.compose import ColumnTransformer\n",
    "from sklearn.impute import KNNImputer\n",
    "from sklearn.dummy import DummyClassifier\n",
    "from sklearn.linear_model import LogisticRegression\n",
    "from sklearn.neighbors import KNeighborsClassifier\n",
    "from sklearn.tree import DecisionTreeClassifier\n",
    "from sklearn.decomposition import PCA\n",
    "# cross validation\n",
    "from sklearn.model_selection import KFold\n",
    "# Import the evaluation matrics\n",
    "from sklearn.metrics import precision_score, recall_score, accuracy_score, f1_score\n",
    "from sklearn.metrics import precision_recall_curve\n",
    "from sklearn.metrics import average_precision_score, precision_recall_curve\n",
    "from sklearn.metrics import auc, plot_precision_recall_curve\n",
    "\n",
    "\n",
    "from sklearn.metrics import precision_score, recall_score, plot_confusion_matrix\n",
    "from sklearn.model_selection import train_test_split, GridSearchCV,\\\n",
    "cross_val_score, RandomizedSearchCV\n",
    "from sklearn.metrics import plot_precision_recall_curve\n",
    "\n",
    "from sklearn.tree import DecisionTreeClassifier \n",
    "from sklearn.metrics import accuracy_score, roc_curve, auc\n",
    "from sklearn.preprocessing import OneHotEncoder\n",
    "from sklearn import tree\n",
    "\n",
    "# evaluation on test data\n",
    "from sklearn import metrics\n",
    "from sklearn.metrics import mean_squared_error,mean_absolute_error,explained_variance_score\n",
    "from sklearn.metrics import classification_report,confusion_matrix\n",
    "# import library for Gradient Boosting\n",
    "\n",
    "from sklearn.ensemble import AdaBoostClassifier, GradientBoostingClassifier, RandomForestClassifier\n",
    "from sklearn.metrics import accuracy_score, confusion_matrix,roc_curve, roc_auc_score, precision_score \n",
    "#import imbalance for SMOTE\n",
    "from imblearn.over_sampling import SMOTE, ADASYN\n",
    "from imblearn.pipeline import Pipeline\n",
    "\n",
    "#import pickle\n",
    "import pickle\n",
    "import joblib\n",
    "from joblib import parallel_backend\n",
    "from sklearn.utils import class_weight\n",
    "\n",
    "#for NN network\n",
    "import tensorflow as tf    \n",
    "from tensorflow import keras  \n",
    "\n",
    "from keras.utils.all_utils import to_categorical\n",
    "from keras.models import Sequential\n",
    "from keras.layers import Dense, Dropout\n",
    "from keras import optimizers\n",
    "#from keras import losses, metrics\n",
    "from keras.wrappers.scikit_learn import KerasClassifier\n",
    "from keras.layers import Dense, LSTM, Dropout, GRU, Bidirectional\n",
    "\n",
    "from xgboost import XGBClassifier\n",
    "from sklearn.neural_network import MLPClassifier"
   ]
  },
  {
   "cell_type": "code",
   "execution_count": 173,
   "metadata": {},
   "outputs": [
    {
     "name": "stderr",
     "output_type": "stream",
     "text": [
      "C:\\Users\\eggfr\\AppData\\Local\\Temp\\ipykernel_8836\\1222194879.py:1: DtypeWarning: Columns (1,7,8,16,17,18,19,20,35) have mixed types. Specify dtype option on import or set low_memory=False.\n",
      "  data = pd.read_csv('\\\\Users\\\\eggfr\\\\Flatiron\\\\Flatiron_phase5_project\\\\data\\\\Auto_Train_Dataset.csv')\n"
     ]
    },
    {
     "data": {
      "text/plain": [
       "0    112011\n",
       "1      9845\n",
       "Name: Default, dtype: int64"
      ]
     },
     "execution_count": 173,
     "metadata": {},
     "output_type": "execute_result"
    }
   ],
   "source": [
    "data = pd.read_csv('\\\\Users\\\\eggfr\\\\Flatiron\\\\Flatiron_phase5_project\\\\data\\\\Auto_Train_Dataset.csv')\n",
    "data[\"Default\"].value_counts()\n"
   ]
  },
  {
   "cell_type": "code",
   "execution_count": 174,
   "metadata": {},
   "outputs": [],
   "source": [
    "x = data.drop([\"Default\"], axis=1)\n",
    "y = data[\"Default\"]"
   ]
  },
  {
   "cell_type": "code",
   "execution_count": 175,
   "metadata": {},
   "outputs": [],
   "source": [
    "from sklearn.preprocessing import LabelEncoder\n",
    "from sklearn.preprocessing import OrdinalEncoder\n",
    "from sklearn.preprocessing import OneHotEncoder\n",
    "from sklearn.preprocessing import StandardScaler\n",
    "from sklearn.preprocessing import Normalizer\n",
    "from sklearn.preprocessing import MaxAbsScaler\n",
    "from sklearn.impute import SimpleImputer\n",
    "from sklearn.compose import ColumnTransformer\n",
    "from sklearn.linear_model import LogisticRegression\n",
    "from sklearn.metrics import precision_score, recall_score, plot_confusion_matrix\n",
    "from sklearn.tree import DecisionTreeClassifier\n",
    "\n",
    "Client_Education_list = ['Junior secondary','Secondary','Graduation dropout','Graduation','Post Grad']\n",
    "Client_Marital_Status_list = ['D','W','M','S']\n",
    "ohe_cols = ['Accompany_Client','Client_Income_Type','Client_Gender','Loan_Contract_Type','Client_Housing_Type','Application_Process_Day','Application_Process_Hour']\n",
    "num_cols = list(x.select_dtypes(['int', 'float']).columns)\n",
    "\n",
    "nominal_Client_Occupation_pipeline = Pipeline([\n",
    "    ('onehotimputer',SimpleImputer(strategy = 'constant',fill_value= \"Other\") ),\n",
    "    ('onehotenc', OneHotEncoder(sparse = False, handle_unknown='ignore')), \n",
    "    ('onehotnorm', StandardScaler())])\n",
    "\n",
    "numeric_pipeline = Pipeline([\n",
    "    ('numimputer', SimpleImputer(strategy = 'mean')), \n",
    "    ('numnorm', StandardScaler())])\n",
    "\n",
    "nominal_pipeline = Pipeline([\n",
    "    ('onehotimputer', SimpleImputer(strategy = 'most_frequent')),\n",
    "    ('onehotenc', OneHotEncoder(sparse = False,handle_unknown='ignore')), \n",
    "    ('onehotnorm', StandardScaler())])\n",
    "\n",
    "ordinal_Client_Marital_Status_pipeline = Pipeline([\n",
    "    ('ordimputer', SimpleImputer(strategy = 'most_frequent')),\n",
    "    ('ordenc', OrdinalEncoder(categories = [Client_Marital_Status_list])),\n",
    "    ('ordnorm', StandardScaler())])\n",
    "\n",
    "ordinal_Client_Education_pipeline = Pipeline([\n",
    "     ('ordimputer', SimpleImputer(strategy = 'most_frequent')),\n",
    "    ('ordenc', OrdinalEncoder(categories = [Client_Education_list])),\n",
    "     ('ordnorm', StandardScaler())])\n",
    "\n",
    "ct = ColumnTransformer(\n",
    "    [ (\"ordinalpipe\", ordinal_Client_Education_pipeline, ['Client_Education']),\n",
    "       (\"ordinalpipe2\", ordinal_Client_Marital_Status_pipeline, ['Client_Marital_Status']),\n",
    "       #(\"ordinalpipe3\", ordinal_emp_status_pipeline, ['employment_status']),\n",
    "       #(\"ordinalpipe4\", ordinal_edu_pipeline, ['education']),\n",
    "       #(\"ordinalpipe5\", ordinal_census_pipeline, ['census_msa']),\n",
    "       #(\"ordinalpipe6\", ordinal_hhs_pipeline, ['hhs_geo_region']),\n",
    "       (\"nominalpipe\", nominal_pipeline,ohe_cols),\n",
    "       (\"nominalpipe2\", nominal_Client_Occupation_pipeline,['Client_Occupation']),\n",
    "       #(\"nominalpipe3\", nominal_doc_rec_pipeline,['doctor_recc_h1n1']),\n",
    "       (\"numpipe\", numeric_pipeline, num_cols)])\n",
    "        #(\"numpipe2\", numeric_Credit_Bureau_pipeline, num_cols)])\n",
    "\n",
    "pipeline = Pipeline([('ct',ct), ('smote', SMOTE(random_state=42)), ('classifier', LogisticRegression())])"
   ]
  },
  {
   "cell_type": "code",
   "execution_count": 176,
   "metadata": {},
   "outputs": [
    {
     "data": {
      "text/plain": [
       "(121856, 39)"
      ]
     },
     "execution_count": 176,
     "metadata": {},
     "output_type": "execute_result"
    }
   ],
   "source": [
    "x.shape"
   ]
  },
  {
   "cell_type": "code",
   "execution_count": 177,
   "metadata": {},
   "outputs": [
    {
     "data": {
      "text/plain": [
       "0    112011\n",
       "1      9845\n",
       "Name: Default, dtype: int64"
      ]
     },
     "execution_count": 177,
     "metadata": {},
     "output_type": "execute_result"
    }
   ],
   "source": [
    "y.value_counts()"
   ]
  },
  {
   "cell_type": "code",
   "execution_count": 178,
   "metadata": {},
   "outputs": [],
   "source": [
    "x_train, x_test, y_train, y_test = train_test_split(x, y, test_size=0.2, random_state=42)"
   ]
  },
  {
   "cell_type": "code",
   "execution_count": 179,
   "metadata": {
    "scrolled": true
   },
   "outputs": [
    {
     "name": "stdout",
     "output_type": "stream",
     "text": [
      "Fold:  0\n",
      "0    59727\n",
      "1    59727\n",
      "Name: Default, dtype: int64\n",
      "0.13198412698412698\n",
      "Fold:  1\n",
      "0    59736\n",
      "1    59736\n",
      "Name: Default, dtype: int64\n",
      "0.11994619236230476\n",
      "Fold:  2\n",
      "0    59709\n",
      "1    59709\n",
      "Name: Default, dtype: int64\n",
      "0.12982456140350876\n"
     ]
    }
   ],
   "source": [
    "from sklearn.model_selection import cross_validate\n",
    "from sklearn.model_selection import KFold\n",
    "from sklearn.metrics import accuracy_score, confusion_matrix, roc_curve, roc_auc_score, precision_score \n",
    "from sklearn.decomposition import PCA\n",
    "from sklearn.dummy import DummyClassifier\n",
    "from sklearn.metrics import classification_report,confusion_matrix\n",
    "import matplotlib.pyplot as plt\n",
    "from sklearn.metrics import accuracy_score, roc_curve, auc\n",
    "kf = KFold(n_splits=3)\n",
    "\n",
    "pipeline = Pipeline([('ct',ct), ('smote', SMOTE(random_state=42))])\n",
    "pipeline2 = Pipeline([('PCA',PCA(n_components= .9)),\n",
    "                      ('classifier', LogisticRegression())])\n",
    "\n",
    "# loop over the splits for cross-validation\n",
    "i = 0\n",
    "for train_index, val_index in kf.split(x_train):\n",
    "    print(\"Fold: \", i)\n",
    "    x_train_cv = x_train.iloc[train_index,:]\n",
    "    y_train_cv = y_train.iloc[train_index]\n",
    "    x_val_cv = x_train.iloc[val_index,:]\n",
    "    y_val_cv = y_train.iloc[val_index]\n",
    "\n",
    "    x_resampled, y_resampled = pipeline.fit_resample(x_train_cv, y_train_cv)\n",
    "    # print(x_resampled.shape)\n",
    "    print(y_resampled.value_counts())\n",
    "\n",
    "    pipeline2.fit(x_resampled, y_resampled)\n",
    "\n",
    "    # Three ways to preprocess the test data\n",
    "    # -----------------------------------\n",
    "\n",
    "    # Option 1: resample the test set \n",
    "    # Why not: our performance metrics will be computed on synthetic data from SMOTE\n",
    "    # Unless we have a good reason, we usually prefer to use natural data for testing\n",
    "\n",
    "    # x_test_processed, y_test_processed = pipeline.fit_resample(x_val_cv, y_val_cv)\n",
    "    # print(x_test_processed.shape)\n",
    "\n",
    "    # Option 2: apply a new ColumnTransformer on the test set\n",
    "    # Why not: the new CT parameters will be slightly different from the CT used on the train data\n",
    "\n",
    "    # ct_only = Pipeline([('ct',ct)])\n",
    "    # x_test_processed = ct_only.fit_transform(x_val_cv)\n",
    "    # print(x_test_processed.shape)\n",
    "\n",
    "    # Option 3 (best): apply the same ColumnTransformer that was fitted on train on the test set, \n",
    "    # without refitting\n",
    "\n",
    "    # we can access one part of the fitted pipeline by using the .named_steps dictionary\n",
    "    x_test_processed = pipeline.named_steps['ct'].transform(x_val_cv)\n",
    "\n",
    "    # Get predictions\n",
    "    y_pred = pipeline2.predict(x_test_processed)\n",
    "\n",
    "    # score the predictions (compare y_pred to y_val_cv)\n",
    "    precision = precision_score(y_val_cv, y_pred)\n",
    "    print(precision)\n",
    "    i += 1"
   ]
  },
  {
   "cell_type": "markdown",
   "metadata": {},
   "source": [
    "# baseline"
   ]
  },
  {
   "cell_type": "code",
   "execution_count": 180,
   "metadata": {},
   "outputs": [],
   "source": [
    "pre_pipe = Pipeline([('ct', ct),\n",
    "                     ('smote', SMOTE(random_state=11))\n",
    "                    ])  #setup preprocessing pipeline\n",
    "\n",
    "baseline_pipe = Pipeline([\n",
    "                          ('classifier', DummyClassifier(strategy='most_frequent'))]) #set up model pipeline"
   ]
  },
  {
   "cell_type": "code",
   "execution_count": 181,
   "metadata": {},
   "outputs": [
    {
     "name": "stdout",
     "output_type": "stream",
     "text": [
      "Fold:  0\n",
      "Fold:  1\n",
      "Fold:  2\n"
     ]
    }
   ],
   "source": [
    "i = 0\n",
    "for train_index, test_index in kf.split(x_train):\n",
    "    print(\"Fold: \", i)\n",
    "    #print(x_train_cv.shape)\n",
    "    x_train_cv = x_train.iloc[train_index,:]\n",
    "    y_train_cv = y_train.iloc[train_index]\n",
    "    x_test_cv = x_train.iloc[test_index,:]\n",
    "    y_test_cv = y_train.iloc[test_index]\n",
    "    #print(x_train_cv.shape)\n",
    "    x_resampled, y_resampled = pre_pipe.fit_resample(x_train_cv, y_train_cv) # train prepipeline get balanced data\n",
    "    \n",
    "    baseline_pipe.fit(x_resampled, y_resampled)  #train the baseline model\n",
    "    x_test_processed = pre_pipe.named_steps['ct'].transform(x_test_cv) #transform the test data (option 3)\n",
    "    y_pred0 = baseline_pipe.predict(x_test_processed) #prediction\n",
    "    i += 1"
   ]
  },
  {
   "cell_type": "code",
   "execution_count": 182,
   "metadata": {
    "scrolled": true
   },
   "outputs": [
    {
     "name": "stderr",
     "output_type": "stream",
     "text": [
      "C:\\Users\\eggfr\\anaconda3\\envs\\tensor_flow\\lib\\site-packages\\sklearn\\utils\\deprecation.py:87: FutureWarning: Function plot_confusion_matrix is deprecated; Function `plot_confusion_matrix` is deprecated in 1.0 and will be removed in 1.2. Use one of the class methods: ConfusionMatrixDisplay.from_predictions or ConfusionMatrixDisplay.from_estimator.\n",
      "  warnings.warn(msg, category=FutureWarning)\n"
     ]
    },
    {
     "data": {
      "image/png": "[encoded data removed]",
      "text/plain": [
       "<Figure size 432x288 with 2 Axes>"
      ]
     },
     "metadata": {
      "needs_background": "light"
     },
     "output_type": "display_data"
    },
    {
     "name": "stdout",
     "output_type": "stream",
     "text": [
      "              precision    recall  f1-score   support\n",
      "\n",
      "           0       0.92      1.00      0.96     29877\n",
      "           1       0.00      0.00      0.00      2617\n",
      "\n",
      "    accuracy                           0.92     32494\n",
      "   macro avg       0.46      0.50      0.48     32494\n",
      "weighted avg       0.85      0.92      0.88     32494\n",
      "\n"
     ]
    },
    {
     "name": "stderr",
     "output_type": "stream",
     "text": [
      "C:\\Users\\eggfr\\anaconda3\\envs\\tensor_flow\\lib\\site-packages\\sklearn\\metrics\\_classification.py:1334: UndefinedMetricWarning: Precision and F-score are ill-defined and being set to 0.0 in labels with no predicted samples. Use `zero_division` parameter to control this behavior.\n",
      "  _warn_prf(average, modifier, msg_start, len(result))\n",
      "C:\\Users\\eggfr\\anaconda3\\envs\\tensor_flow\\lib\\site-packages\\sklearn\\metrics\\_classification.py:1334: UndefinedMetricWarning: Precision and F-score are ill-defined and being set to 0.0 in labels with no predicted samples. Use `zero_division` parameter to control this behavior.\n",
      "  _warn_prf(average, modifier, msg_start, len(result))\n",
      "C:\\Users\\eggfr\\anaconda3\\envs\\tensor_flow\\lib\\site-packages\\sklearn\\metrics\\_classification.py:1334: UndefinedMetricWarning: Precision and F-score are ill-defined and being set to 0.0 in labels with no predicted samples. Use `zero_division` parameter to control this behavior.\n",
      "  _warn_prf(average, modifier, msg_start, len(result))\n"
     ]
    }
   ],
   "source": [
    "status_labels = ['0: Normal', '1: Default']\n",
    "plot_confusion_matrix(baseline_pipe,x_test_cv,y_test_cv,display_labels = status_labels)\n",
    "plt.grid(False)\n",
    "plt.title('Confusion Matrix - Baseline')\n",
    "plt.show()\n",
    "\n",
    "baseline_classification_report = classification_report(y_test_cv, y_pred0)\n",
    "print(baseline_classification_report)"
   ]
  },
  {
   "cell_type": "code",
   "execution_count": 183,
   "metadata": {},
   "outputs": [],
   "source": [
    "from sklearn.metrics import accuracy_score, roc_curve, auc"
   ]
  },
  {
   "cell_type": "code",
   "execution_count": 184,
   "metadata": {},
   "outputs": [],
   "source": [
    "from sklearn.metrics import precision_score, recall_score, accuracy_score, f1_score"
   ]
  },
  {
   "cell_type": "code",
   "execution_count": 185,
   "metadata": {},
   "outputs": [],
   "source": [
    "#baseline_pipe_pred_proba = baseline_pipe.predict_proba(x_test_cv)[:,1]\n",
    "\n",
    "#baseline_roc_auc = metrics.roc_auc_score(y_test_cv, baseline_pipe_pred_proba)\n",
    "#print('ROC_AUC: ', baseline_roc_auc)\n",
    "\n",
    "#rf_fpr, rf_tpr, thresholds = metrics.roc_curve(y_test_cv, baseline_pipe_pred_proba)\n",
    "\n",
    "#plt.plot(rf_fpr,rf_tpr, label = 'ROC_AUC = %0.3f' % baseline_roc_auc)\n",
    "\n",
    "#plt.xlabel(\"False Positive Rate\", fontsize= 12)\n",
    "#plt.ylabel(\"True Positive Rate\", fontsize= 12)\n",
    "#plt.legend(loc=\"lower right\")\n",
    "\n",
    "#plt.show()"
   ]
  },
  {
   "cell_type": "code",
   "execution_count": 186,
   "metadata": {},
   "outputs": [
    {
     "name": "stderr",
     "output_type": "stream",
     "text": [
      "C:\\Users\\eggfr\\anaconda3\\envs\\tensor_flow\\lib\\site-packages\\sklearn\\metrics\\_classification.py:1334: UndefinedMetricWarning: Precision is ill-defined and being set to 0.0 due to no predicted samples. Use `zero_division` parameter to control this behavior.\n",
      "  _warn_prf(average, modifier, msg_start, len(result))\n"
     ]
    },
    {
     "data": {
      "text/html": [
       "<div>\n",
       "<style scoped>\n",
       "    .dataframe tbody tr th:only-of-type {\n",
       "        vertical-align: middle;\n",
       "    }\n",
       "\n",
       "    .dataframe tbody tr th {\n",
       "        vertical-align: top;\n",
       "    }\n",
       "\n",
       "    .dataframe thead th {\n",
       "        text-align: right;\n",
       "    }\n",
       "</style>\n",
       "<table border=\"1\" class=\"dataframe\">\n",
       "  <thead>\n",
       "    <tr style=\"text-align: right;\">\n",
       "      <th></th>\n",
       "      <th>Model</th>\n",
       "      <th>Accuracy</th>\n",
       "      <th>Precision</th>\n",
       "      <th>Recall</th>\n",
       "      <th>F1 Score</th>\n",
       "      <th>ROC</th>\n",
       "    </tr>\n",
       "  </thead>\n",
       "  <tbody>\n",
       "    <tr>\n",
       "      <th>0</th>\n",
       "      <td>Baseline</td>\n",
       "      <td>0.919462</td>\n",
       "      <td>0.0</td>\n",
       "      <td>0.0</td>\n",
       "      <td>0.0</td>\n",
       "      <td>0.5</td>\n",
       "    </tr>\n",
       "  </tbody>\n",
       "</table>\n",
       "</div>"
      ],
      "text/plain": [
       "      Model  Accuracy  Precision  Recall  F1 Score  ROC\n",
       "0  Baseline  0.919462        0.0     0.0       0.0  0.5"
      ]
     },
     "execution_count": 186,
     "metadata": {},
     "output_type": "execute_result"
    }
   ],
   "source": [
    "roc=roc_auc_score(y_test_cv, y_pred0)\n",
    "acc = accuracy_score(y_test_cv, y_pred0)\n",
    "prec = precision_score(y_test_cv, y_pred0)\n",
    "rec = recall_score(y_test_cv, y_pred0)\n",
    "f1 = f1_score(y_test_cv, y_pred0)\n",
    "\n",
    "sum_results = pd.DataFrame([['Baseline', acc,prec,rec, f1,roc]],\n",
    "               columns = ['Model', 'Accuracy', 'Precision', 'Recall', 'F1 Score','ROC'])\n",
    "sum_results"
   ]
  },
  {
   "cell_type": "markdown",
   "metadata": {},
   "source": [
    "Logistic Regression"
   ]
  },
  {
   "cell_type": "code",
   "execution_count": 187,
   "metadata": {},
   "outputs": [],
   "source": [
    "pre_pipe = Pipeline([('ct', ct),\n",
    "                     ('smote', SMOTE(random_state=11))])  #setup preprocessing pipeline \n",
    "\n",
    "logreg_pipe = Pipeline([\n",
    "                          ('logreg', LogisticRegression(random_state=42))]) #set up model pipeline\n"
   ]
  },
  {
   "cell_type": "code",
   "execution_count": 188,
   "metadata": {},
   "outputs": [
    {
     "name": "stdout",
     "output_type": "stream",
     "text": [
      "Fold:  0\n",
      "(32495, 97)\n",
      "Fold:  1\n",
      "(32495, 96)\n",
      "Fold:  2\n",
      "(32494, 97)\n"
     ]
    }
   ],
   "source": [
    "i = 0\n",
    "for train_index, test_index in kf.split(x_train):\n",
    "    print(\"Fold: \", i)\n",
    "    #print(x_train_cv.shape)\n",
    "    x_train_cv = x_train.iloc[train_index,:]\n",
    "    y_train_cv = y_train.iloc[train_index]\n",
    "    x_test_cv = x_train.iloc[test_index,:]\n",
    "    y_test_cv = y_train.iloc[test_index]\n",
    "    #print(x_train_cv.shape)\n",
    "    x_resampled, y_resampled = pre_pipe.fit_resample(x_train_cv, y_train_cv) # train prepipeline get balanced data from SMOAT\n",
    "    \n",
    "    logreg_pipe.fit(x_resampled, y_resampled)  #train the logestic regression model\n",
    "    x_test_processed = pre_pipe.named_steps['ct'].transform(x_test_cv) #transform the test data (option 3)\n",
    "    print(x_test_processed.shape)\n",
    "    y_pred1 = logreg_pipe.predict(x_test_processed) #prediction\n",
    "    i += 1"
   ]
  },
  {
   "cell_type": "code",
   "execution_count": 189,
   "metadata": {
    "scrolled": true
   },
   "outputs": [
    {
     "name": "stderr",
     "output_type": "stream",
     "text": [
      "C:\\Users\\eggfr\\anaconda3\\envs\\tensor_flow\\lib\\site-packages\\sklearn\\utils\\deprecation.py:87: FutureWarning: Function plot_confusion_matrix is deprecated; Function `plot_confusion_matrix` is deprecated in 1.0 and will be removed in 1.2. Use one of the class methods: ConfusionMatrixDisplay.from_predictions or ConfusionMatrixDisplay.from_estimator.\n",
      "  warnings.warn(msg, category=FutureWarning)\n"
     ]
    },
    {
     "data": {
      "image/png": "[encoded data removed]",
      "text/plain": [
       "<Figure size 432x288 with 2 Axes>"
      ]
     },
     "metadata": {
      "needs_background": "light"
     },
     "output_type": "display_data"
    },
    {
     "name": "stdout",
     "output_type": "stream",
     "text": [
      "              precision    recall  f1-score   support\n",
      "\n",
      "           0       0.95      0.66      0.78     29877\n",
      "           1       0.13      0.61      0.22      2617\n",
      "\n",
      "    accuracy                           0.65     32494\n",
      "   macro avg       0.54      0.63      0.50     32494\n",
      "weighted avg       0.88      0.65      0.73     32494\n",
      "\n"
     ]
    }
   ],
   "source": [
    "status_labels = ['0: Normal', '1: Default']\n",
    "plot_confusion_matrix(logreg_pipe,x_test_processed,y_test_cv,display_labels = status_labels)\n",
    "plt.grid(False)\n",
    "plt.title('Confusion Matrix - logreg')\n",
    "plt.show()\n",
    "\n",
    "logreg_classification_report = classification_report(y_test_cv, y_pred1)\n",
    "print(logreg_classification_report)"
   ]
  },
  {
   "cell_type": "code",
   "execution_count": 190,
   "metadata": {},
   "outputs": [
    {
     "name": "stderr",
     "output_type": "stream",
     "text": [
      "C:\\Users\\eggfr\\AppData\\Local\\Temp\\ipykernel_8836\\3258277982.py:10: FutureWarning: The frame.append method is deprecated and will be removed from pandas in a future version. Use pandas.concat instead.\n",
      "  sum_results = sum_results.append(results, ignore_index = True)\n"
     ]
    },
    {
     "data": {
      "text/html": [
       "<div>\n",
       "<style scoped>\n",
       "    .dataframe tbody tr th:only-of-type {\n",
       "        vertical-align: middle;\n",
       "    }\n",
       "\n",
       "    .dataframe tbody tr th {\n",
       "        vertical-align: top;\n",
       "    }\n",
       "\n",
       "    .dataframe thead th {\n",
       "        text-align: right;\n",
       "    }\n",
       "</style>\n",
       "<table border=\"1\" class=\"dataframe\">\n",
       "  <thead>\n",
       "    <tr style=\"text-align: right;\">\n",
       "      <th></th>\n",
       "      <th>Model</th>\n",
       "      <th>Accuracy</th>\n",
       "      <th>Precision</th>\n",
       "      <th>Recall</th>\n",
       "      <th>F1 Score</th>\n",
       "      <th>ROC</th>\n",
       "    </tr>\n",
       "  </thead>\n",
       "  <tbody>\n",
       "    <tr>\n",
       "      <th>0</th>\n",
       "      <td>Baseline</td>\n",
       "      <td>0.919462</td>\n",
       "      <td>0.000000</td>\n",
       "      <td>0.000000</td>\n",
       "      <td>0.000000</td>\n",
       "      <td>0.500000</td>\n",
       "    </tr>\n",
       "    <tr>\n",
       "      <th>1</th>\n",
       "      <td>Logistic Regression</td>\n",
       "      <td>0.651166</td>\n",
       "      <td>0.133389</td>\n",
       "      <td>0.606037</td>\n",
       "      <td>0.218653</td>\n",
       "      <td>0.630578</td>\n",
       "    </tr>\n",
       "  </tbody>\n",
       "</table>\n",
       "</div>"
      ],
      "text/plain": [
       "                 Model  Accuracy  Precision    Recall  F1 Score       ROC\n",
       "0             Baseline  0.919462   0.000000  0.000000  0.000000  0.500000\n",
       "1  Logistic Regression  0.651166   0.133389  0.606037  0.218653  0.630578"
      ]
     },
     "execution_count": 190,
     "metadata": {},
     "output_type": "execute_result"
    }
   ],
   "source": [
    "roc=roc_auc_score(y_test_cv, y_pred1)\n",
    "acc = accuracy_score(y_test_cv, y_pred1)\n",
    "prec = precision_score(y_test_cv, y_pred1)\n",
    "rec = recall_score(y_test_cv, y_pred1)\n",
    "f1 = f1_score(y_test_cv, y_pred1)\n",
    "\n",
    "results = pd.DataFrame([['Logistic Regression', acc,prec,rec, f1,roc]],\n",
    "               columns = ['Model', 'Accuracy', 'Precision', 'Recall', 'F1 Score','ROC'])\n",
    "\n",
    "sum_results = sum_results.append(results, ignore_index = True)\n",
    "sum_results"
   ]
  },
  {
   "cell_type": "code",
   "execution_count": 191,
   "metadata": {},
   "outputs": [],
   "source": [
    "# steps=[('preprocessing', ct), \n",
    "#       ('smote', SMOTE(random_state=11)),\n",
    "#       ('standardscaler', StandardScaler()),\n",
    "#       ('PCA',PCA(n_components= .9)),\n",
    "#       ('logreg', LogisticRegression(random_state=42))]\n",
    "\n",
    "#model_2_pipe = Pipeline(steps)\n",
    "\n",
    "#pipe_grid = {'logreg__C': [12, 18, 24], \n",
    "#             'logreg__max_iter': [100, 200]\n",
    "            \n",
    "#            }\n",
    "\n",
    "#model_2_gs_pipe = GridSearchCV(estimator= model_2_pipe, \n",
    "#                             param_grid=pipe_grid, \n",
    "#                             cv=5,  # 5-fold cross-validation\n",
    "#                             scoring= \"roc_auc\",\n",
    "#                             n_jobs=-1,  # Speed up computational time by using all processors\n",
    "#                             verbose=True)  # Print how many folds, candidates, and fits we're solving for\n",
    "#with parallel_backend('threading', n_jobs=-1):\n",
    "#     model_2_gs_pipe.fit(x_train, y_train.values.ravel())"
   ]
  },
  {
   "cell_type": "markdown",
   "metadata": {},
   "source": [
    "How do i do a gridsearch????"
   ]
  },
  {
   "cell_type": "code",
   "execution_count": null,
   "metadata": {},
   "outputs": [],
   "source": []
  },
  {
   "cell_type": "markdown",
   "metadata": {},
   "source": [
    "# Decision Tree"
   ]
  },
  {
   "cell_type": "code",
   "execution_count": 192,
   "metadata": {},
   "outputs": [],
   "source": [
    "pre_pipe = Pipeline([('ct', ct),\n",
    "                     ('smote', SMOTE(random_state=11))])  #setup preprocessing pipeline   \n",
    "\n",
    "dt_pipe = Pipeline([('dt', DecisionTreeClassifier(random_state=42))]) #set up model pipeline  \n"
   ]
  },
  {
   "cell_type": "code",
   "execution_count": 193,
   "metadata": {},
   "outputs": [
    {
     "name": "stdout",
     "output_type": "stream",
     "text": [
      "Fold:  0\n",
      "(32495, 97)\n",
      "Fold:  1\n",
      "(32495, 96)\n",
      "Fold:  2\n",
      "(32494, 97)\n"
     ]
    }
   ],
   "source": [
    "i = 0\n",
    "for train_index, test_index in kf.split(x_train):\n",
    "    print(\"Fold: \", i)\n",
    "    #print(x_train_cv.shape)\n",
    "    x_train_cv = x_train.iloc[train_index,:]\n",
    "    y_train_cv = y_train.iloc[train_index]\n",
    "    x_test_cv = x_train.iloc[test_index,:]\n",
    "    y_test_cv = y_train.iloc[test_index]\n",
    "    #print(x_train_cv.shape)\n",
    "    x_resampled, y_resampled = pre_pipe.fit_resample(x_train_cv, y_train_cv) #train prepipeline get balanced data from SMOAT\n",
    "    dt_pipe.fit(x_resampled, y_resampled)  #train the DT model\n",
    "    x_test_processed = pre_pipe.named_steps['ct'].transform(x_test_cv) #transform the test data (option 3)\n",
    "    print(x_test_processed.shape)\n",
    "    y_pred3 = dt_pipe.predict(x_test_processed) #prediction\n",
    "    i += 1"
   ]
  },
  {
   "cell_type": "code",
   "execution_count": 194,
   "metadata": {},
   "outputs": [
    {
     "name": "stderr",
     "output_type": "stream",
     "text": [
      "C:\\Users\\eggfr\\anaconda3\\envs\\tensor_flow\\lib\\site-packages\\sklearn\\utils\\deprecation.py:87: FutureWarning: Function plot_confusion_matrix is deprecated; Function `plot_confusion_matrix` is deprecated in 1.0 and will be removed in 1.2. Use one of the class methods: ConfusionMatrixDisplay.from_predictions or ConfusionMatrixDisplay.from_estimator.\n",
      "  warnings.warn(msg, category=FutureWarning)\n"
     ]
    },
    {
     "data": {
      "image/png": "[encoded data removed]",
      "text/plain": [
       "<Figure size 432x288 with 2 Axes>"
      ]
     },
     "metadata": {
      "needs_background": "light"
     },
     "output_type": "display_data"
    },
    {
     "name": "stdout",
     "output_type": "stream",
     "text": [
      "              precision    recall  f1-score   support\n",
      "\n",
      "           0       0.93      0.91      0.92     29877\n",
      "           1       0.16      0.21      0.18      2617\n",
      "\n",
      "    accuracy                           0.85     32494\n",
      "   macro avg       0.55      0.56      0.55     32494\n",
      "weighted avg       0.87      0.85      0.86     32494\n",
      "\n"
     ]
    }
   ],
   "source": [
    "status_labels = ['0: Normal', '1: Default']\n",
    "plot_confusion_matrix(dt_pipe,x_test_processed,y_test_cv,display_labels = status_labels)\n",
    "plt.grid(False)\n",
    "plt.title('Confusion Matrix - Decision Tree')\n",
    "plt.show()\n",
    "\n",
    "dt_classification_report = classification_report(y_test_cv, y_pred3)\n",
    "print(dt_classification_report)"
   ]
  },
  {
   "cell_type": "code",
   "execution_count": 195,
   "metadata": {},
   "outputs": [
    {
     "name": "stderr",
     "output_type": "stream",
     "text": [
      "C:\\Users\\eggfr\\AppData\\Local\\Temp\\ipykernel_8836\\941666204.py:10: FutureWarning: The frame.append method is deprecated and will be removed from pandas in a future version. Use pandas.concat instead.\n",
      "  sum_results = sum_results.append(results, ignore_index = True)\n"
     ]
    },
    {
     "data": {
      "text/html": [
       "<div>\n",
       "<style scoped>\n",
       "    .dataframe tbody tr th:only-of-type {\n",
       "        vertical-align: middle;\n",
       "    }\n",
       "\n",
       "    .dataframe tbody tr th {\n",
       "        vertical-align: top;\n",
       "    }\n",
       "\n",
       "    .dataframe thead th {\n",
       "        text-align: right;\n",
       "    }\n",
       "</style>\n",
       "<table border=\"1\" class=\"dataframe\">\n",
       "  <thead>\n",
       "    <tr style=\"text-align: right;\">\n",
       "      <th></th>\n",
       "      <th>Model</th>\n",
       "      <th>Accuracy</th>\n",
       "      <th>Precision</th>\n",
       "      <th>Recall</th>\n",
       "      <th>F1 Score</th>\n",
       "      <th>ROC</th>\n",
       "    </tr>\n",
       "  </thead>\n",
       "  <tbody>\n",
       "    <tr>\n",
       "      <th>0</th>\n",
       "      <td>Baseline</td>\n",
       "      <td>0.919462</td>\n",
       "      <td>0.000000</td>\n",
       "      <td>0.000000</td>\n",
       "      <td>0.000000</td>\n",
       "      <td>0.500000</td>\n",
       "    </tr>\n",
       "    <tr>\n",
       "      <th>1</th>\n",
       "      <td>Logistic Regression</td>\n",
       "      <td>0.651166</td>\n",
       "      <td>0.133389</td>\n",
       "      <td>0.606037</td>\n",
       "      <td>0.218653</td>\n",
       "      <td>0.630578</td>\n",
       "    </tr>\n",
       "    <tr>\n",
       "      <th>2</th>\n",
       "      <td>Decision Tree</td>\n",
       "      <td>0.849757</td>\n",
       "      <td>0.162243</td>\n",
       "      <td>0.207872</td>\n",
       "      <td>0.182245</td>\n",
       "      <td>0.556926</td>\n",
       "    </tr>\n",
       "  </tbody>\n",
       "</table>\n",
       "</div>"
      ],
      "text/plain": [
       "                 Model  Accuracy  Precision    Recall  F1 Score       ROC\n",
       "0             Baseline  0.919462   0.000000  0.000000  0.000000  0.500000\n",
       "1  Logistic Regression  0.651166   0.133389  0.606037  0.218653  0.630578\n",
       "2        Decision Tree  0.849757   0.162243  0.207872  0.182245  0.556926"
      ]
     },
     "execution_count": 195,
     "metadata": {},
     "output_type": "execute_result"
    }
   ],
   "source": [
    "roc=roc_auc_score(y_test_cv, y_pred3)\n",
    "acc = accuracy_score(y_test_cv, y_pred3)\n",
    "prec = precision_score(y_test_cv, y_pred3)\n",
    "rec = recall_score(y_test_cv, y_pred3)\n",
    "f1 = f1_score(y_test_cv, y_pred3)\n",
    "\n",
    "results = pd.DataFrame([['Decision Tree', acc,prec,rec, f1,roc]],\n",
    "               columns = ['Model', 'Accuracy', 'Precision', 'Recall', 'F1 Score','ROC'])\n",
    "\n",
    "sum_results = sum_results.append(results, ignore_index = True)\n",
    "sum_results"
   ]
  },
  {
   "cell_type": "markdown",
   "metadata": {},
   "source": [
    "# Random forest"
   ]
  },
  {
   "cell_type": "code",
   "execution_count": 196,
   "metadata": {},
   "outputs": [],
   "source": [
    "pre_pipe = Pipeline([('ct', ct),\n",
    "                     ('smote', SMOTE(random_state=11))])  #setup preprocessing pipeline \n",
    "\n",
    "rf_pipe = Pipeline([('rf_clf', RandomForestClassifier(random_state=42))]) #set up model pipeline"
   ]
  },
  {
   "cell_type": "code",
   "execution_count": 197,
   "metadata": {},
   "outputs": [
    {
     "name": "stdout",
     "output_type": "stream",
     "text": [
      "Fold:  0\n",
      "0    59727\n",
      "1    59727\n",
      "Name: Default, dtype: int64\n",
      "Fold:  1\n",
      "0    59736\n",
      "1    59736\n",
      "Name: Default, dtype: int64\n",
      "Fold:  2\n",
      "0    59709\n",
      "1    59709\n",
      "Name: Default, dtype: int64\n"
     ]
    }
   ],
   "source": [
    "i = 0\n",
    "for train_index, test_index in kf.split(x_train):\n",
    "    print(\"Fold: \", i)\n",
    "    #print(x_train_cv.shape)\n",
    "    x_train_cv = x_train.iloc[train_index,:]\n",
    "    y_train_cv = y_train.iloc[train_index]\n",
    "    x_test_cv = x_train.iloc[test_index,:]\n",
    "    y_test_cv = y_train.iloc[test_index]\n",
    "    #print(x_train_cv.shape)\n",
    "    x_resampled, y_resampled = pre_pipe.fit_resample(x_train_cv, y_train_cv) #train prepipeline get balanced data from SMOAT\n",
    "    print(y_resampled.value_counts())\n",
    "    rf_pipe.fit(x_resampled, y_resampled)  #train the Random Forest model\n",
    "    x_test_processed = pre_pipe.named_steps['ct'].transform(x_test_cv) #transform the test data (option 3)\n",
    "    #print(x_test_processed.shape)\n",
    "    y_pred4 = rf_pipe.predict(x_test_processed) #prediction\n",
    "    i += 1"
   ]
  },
  {
   "cell_type": "code",
   "execution_count": 198,
   "metadata": {},
   "outputs": [
    {
     "name": "stderr",
     "output_type": "stream",
     "text": [
      "C:\\Users\\eggfr\\anaconda3\\envs\\tensor_flow\\lib\\site-packages\\sklearn\\utils\\deprecation.py:87: FutureWarning: Function plot_confusion_matrix is deprecated; Function `plot_confusion_matrix` is deprecated in 1.0 and will be removed in 1.2. Use one of the class methods: ConfusionMatrixDisplay.from_predictions or ConfusionMatrixDisplay.from_estimator.\n",
      "  warnings.warn(msg, category=FutureWarning)\n"
     ]
    },
    {
     "data": {
      "image/png": "[encoded data removed]",
      "text/plain": [
       "<Figure size 432x288 with 2 Axes>"
      ]
     },
     "metadata": {
      "needs_background": "light"
     },
     "output_type": "display_data"
    },
    {
     "name": "stdout",
     "output_type": "stream",
     "text": [
      "              precision    recall  f1-score   support\n",
      "\n",
      "           0       0.92      1.00      0.96     29877\n",
      "           1       0.74      0.07      0.13      2617\n",
      "\n",
      "    accuracy                           0.92     32494\n",
      "   macro avg       0.83      0.53      0.54     32494\n",
      "weighted avg       0.91      0.92      0.89     32494\n",
      "\n"
     ]
    }
   ],
   "source": [
    "status_labels = ['0: Normal', '1: Default']\n",
    "plot_confusion_matrix(rf_pipe,x_test_processed,y_test_cv,display_labels = status_labels)\n",
    "plt.grid(False)\n",
    "plt.title('Confusion Matrix - Random Forest')\n",
    "plt.show()\n",
    "\n",
    "rf_classification_report = classification_report(y_test_cv, y_pred4)\n",
    "print(rf_classification_report)"
   ]
  },
  {
   "cell_type": "code",
   "execution_count": 199,
   "metadata": {},
   "outputs": [
    {
     "name": "stderr",
     "output_type": "stream",
     "text": [
      "C:\\Users\\eggfr\\AppData\\Local\\Temp\\ipykernel_8836\\1094752029.py:10: FutureWarning: The frame.append method is deprecated and will be removed from pandas in a future version. Use pandas.concat instead.\n",
      "  sum_results = sum_results.append(results, ignore_index = True)\n"
     ]
    },
    {
     "data": {
      "text/html": [
       "<div>\n",
       "<style scoped>\n",
       "    .dataframe tbody tr th:only-of-type {\n",
       "        vertical-align: middle;\n",
       "    }\n",
       "\n",
       "    .dataframe tbody tr th {\n",
       "        vertical-align: top;\n",
       "    }\n",
       "\n",
       "    .dataframe thead th {\n",
       "        text-align: right;\n",
       "    }\n",
       "</style>\n",
       "<table border=\"1\" class=\"dataframe\">\n",
       "  <thead>\n",
       "    <tr style=\"text-align: right;\">\n",
       "      <th></th>\n",
       "      <th>Model</th>\n",
       "      <th>Accuracy</th>\n",
       "      <th>Precision</th>\n",
       "      <th>Recall</th>\n",
       "      <th>F1 Score</th>\n",
       "      <th>ROC</th>\n",
       "    </tr>\n",
       "  </thead>\n",
       "  <tbody>\n",
       "    <tr>\n",
       "      <th>0</th>\n",
       "      <td>Baseline</td>\n",
       "      <td>0.919462</td>\n",
       "      <td>0.000000</td>\n",
       "      <td>0.000000</td>\n",
       "      <td>0.000000</td>\n",
       "      <td>0.500000</td>\n",
       "    </tr>\n",
       "    <tr>\n",
       "      <th>1</th>\n",
       "      <td>Logistic Regression</td>\n",
       "      <td>0.651166</td>\n",
       "      <td>0.133389</td>\n",
       "      <td>0.606037</td>\n",
       "      <td>0.218653</td>\n",
       "      <td>0.630578</td>\n",
       "    </tr>\n",
       "    <tr>\n",
       "      <th>2</th>\n",
       "      <td>Decision Tree</td>\n",
       "      <td>0.849757</td>\n",
       "      <td>0.162243</td>\n",
       "      <td>0.207872</td>\n",
       "      <td>0.182245</td>\n",
       "      <td>0.556926</td>\n",
       "    </tr>\n",
       "    <tr>\n",
       "      <th>3</th>\n",
       "      <td>Random Forrest</td>\n",
       "      <td>0.923155</td>\n",
       "      <td>0.743902</td>\n",
       "      <td>0.069927</td>\n",
       "      <td>0.127838</td>\n",
       "      <td>0.533909</td>\n",
       "    </tr>\n",
       "  </tbody>\n",
       "</table>\n",
       "</div>"
      ],
      "text/plain": [
       "                 Model  Accuracy  Precision    Recall  F1 Score       ROC\n",
       "0             Baseline  0.919462   0.000000  0.000000  0.000000  0.500000\n",
       "1  Logistic Regression  0.651166   0.133389  0.606037  0.218653  0.630578\n",
       "2        Decision Tree  0.849757   0.162243  0.207872  0.182245  0.556926\n",
       "3       Random Forrest  0.923155   0.743902  0.069927  0.127838  0.533909"
      ]
     },
     "execution_count": 199,
     "metadata": {},
     "output_type": "execute_result"
    }
   ],
   "source": [
    "roc=roc_auc_score(y_test_cv, y_pred4)\n",
    "acc = accuracy_score(y_test_cv, y_pred4)\n",
    "prec = precision_score(y_test_cv, y_pred4)\n",
    "rec = recall_score(y_test_cv, y_pred4)\n",
    "f1 = f1_score(y_test_cv, y_pred4)\n",
    "\n",
    "results = pd.DataFrame([['Random Forrest', acc,prec,rec, f1,roc]],\n",
    "               columns = ['Model', 'Accuracy', 'Precision', 'Recall', 'F1 Score','ROC'])\n",
    "\n",
    "sum_results = sum_results.append(results, ignore_index = True)\n",
    "sum_results"
   ]
  },
  {
   "cell_type": "markdown",
   "metadata": {},
   "source": [
    "# AdaBoost"
   ]
  },
  {
   "cell_type": "code",
   "execution_count": 200,
   "metadata": {},
   "outputs": [],
   "source": [
    "pre_pipe = Pipeline([('ct', ct),\n",
    "                     ('smote', SMOTE(random_state=11))])  #setup preprocessing pipeline \n",
    "\n",
    "ab_pipe = Pipeline([('ab_clf', AdaBoostClassifier(base_estimator=DecisionTreeClassifier(),random_state=42))]) #set up model pipeline"
   ]
  },
  {
   "cell_type": "code",
   "execution_count": 201,
   "metadata": {},
   "outputs": [
    {
     "name": "stdout",
     "output_type": "stream",
     "text": [
      "Fold:  0\n",
      "(32495, 97)\n",
      "Fold:  1\n",
      "(32495, 96)\n",
      "Fold:  2\n",
      "(32494, 97)\n"
     ]
    }
   ],
   "source": [
    "i = 0\n",
    "for train_index, test_index in kf.split(x_train):\n",
    "    print(\"Fold: \", i)\n",
    "    #print(x_train_cv.shape)\n",
    "    x_train_cv = x_train.iloc[train_index,:]\n",
    "    y_train_cv = y_train.iloc[train_index]\n",
    "    x_test_cv = x_train.iloc[test_index,:]\n",
    "    y_test_cv = y_train.iloc[test_index]\n",
    "    #print(x_train_cv.shape)\n",
    "    x_resampled, y_resampled = pre_pipe.fit_resample(x_train_cv, y_train_cv) # train prepipeline get balanced data from SMOAT\n",
    "    \n",
    "    ab_pipe.fit(x_resampled, y_resampled)  #train the adaBoost model\n",
    "    x_test_processed = pre_pipe.named_steps['ct'].transform(x_test_cv) #transform the test data (option 3)\n",
    "    print(x_test_processed.shape)\n",
    "    y_pred5 = ab_pipe.predict(x_test_processed) #prediction\n",
    "    i += 1"
   ]
  },
  {
   "cell_type": "code",
   "execution_count": 202,
   "metadata": {},
   "outputs": [
    {
     "name": "stderr",
     "output_type": "stream",
     "text": [
      "C:\\Users\\eggfr\\anaconda3\\envs\\tensor_flow\\lib\\site-packages\\sklearn\\utils\\deprecation.py:87: FutureWarning: Function plot_confusion_matrix is deprecated; Function `plot_confusion_matrix` is deprecated in 1.0 and will be removed in 1.2. Use one of the class methods: ConfusionMatrixDisplay.from_predictions or ConfusionMatrixDisplay.from_estimator.\n",
      "  warnings.warn(msg, category=FutureWarning)\n"
     ]
    },
    {
     "data": {
      "image/png": "[encoded data removed]",
      "text/plain": [
       "<Figure size 432x288 with 2 Axes>"
      ]
     },
     "metadata": {
      "needs_background": "light"
     },
     "output_type": "display_data"
    },
    {
     "name": "stdout",
     "output_type": "stream",
     "text": [
      "              precision    recall  f1-score   support\n",
      "\n",
      "           0       0.93      0.90      0.92     29877\n",
      "           1       0.16      0.21      0.19      2617\n",
      "\n",
      "    accuracy                           0.85     32494\n",
      "   macro avg       0.55      0.56      0.55     32494\n",
      "weighted avg       0.87      0.85      0.86     32494\n",
      "\n"
     ]
    }
   ],
   "source": [
    "status_labels = ['0: Normal', '1: Default']\n",
    "plot_confusion_matrix(ab_pipe,x_test_processed,y_test_cv,display_labels = status_labels)\n",
    "plt.grid(False)\n",
    "plt.title('Confusion Matrix - AdaBoost Forest')\n",
    "plt.show()\n",
    "\n",
    "ab_classification_report = classification_report(y_test_cv, y_pred5)\n",
    "print(ab_classification_report)"
   ]
  },
  {
   "cell_type": "code",
   "execution_count": 203,
   "metadata": {},
   "outputs": [
    {
     "name": "stderr",
     "output_type": "stream",
     "text": [
      "C:\\Users\\eggfr\\AppData\\Local\\Temp\\ipykernel_8836\\3785195572.py:10: FutureWarning: The frame.append method is deprecated and will be removed from pandas in a future version. Use pandas.concat instead.\n",
      "  sum_results = sum_results.append(results, ignore_index = True)\n"
     ]
    },
    {
     "data": {
      "text/html": [
       "<div>\n",
       "<style scoped>\n",
       "    .dataframe tbody tr th:only-of-type {\n",
       "        vertical-align: middle;\n",
       "    }\n",
       "\n",
       "    .dataframe tbody tr th {\n",
       "        vertical-align: top;\n",
       "    }\n",
       "\n",
       "    .dataframe thead th {\n",
       "        text-align: right;\n",
       "    }\n",
       "</style>\n",
       "<table border=\"1\" class=\"dataframe\">\n",
       "  <thead>\n",
       "    <tr style=\"text-align: right;\">\n",
       "      <th></th>\n",
       "      <th>Model</th>\n",
       "      <th>Accuracy</th>\n",
       "      <th>Precision</th>\n",
       "      <th>Recall</th>\n",
       "      <th>F1 Score</th>\n",
       "      <th>ROC</th>\n",
       "    </tr>\n",
       "  </thead>\n",
       "  <tbody>\n",
       "    <tr>\n",
       "      <th>0</th>\n",
       "      <td>Baseline</td>\n",
       "      <td>0.919462</td>\n",
       "      <td>0.000000</td>\n",
       "      <td>0.000000</td>\n",
       "      <td>0.000000</td>\n",
       "      <td>0.500000</td>\n",
       "    </tr>\n",
       "    <tr>\n",
       "      <th>1</th>\n",
       "      <td>Logistic Regression</td>\n",
       "      <td>0.651166</td>\n",
       "      <td>0.133389</td>\n",
       "      <td>0.606037</td>\n",
       "      <td>0.218653</td>\n",
       "      <td>0.630578</td>\n",
       "    </tr>\n",
       "    <tr>\n",
       "      <th>2</th>\n",
       "      <td>Decision Tree</td>\n",
       "      <td>0.849757</td>\n",
       "      <td>0.162243</td>\n",
       "      <td>0.207872</td>\n",
       "      <td>0.182245</td>\n",
       "      <td>0.556926</td>\n",
       "    </tr>\n",
       "    <tr>\n",
       "      <th>3</th>\n",
       "      <td>Random Forrest</td>\n",
       "      <td>0.923155</td>\n",
       "      <td>0.743902</td>\n",
       "      <td>0.069927</td>\n",
       "      <td>0.127838</td>\n",
       "      <td>0.533909</td>\n",
       "    </tr>\n",
       "    <tr>\n",
       "      <th>4</th>\n",
       "      <td>AdaBoost</td>\n",
       "      <td>0.849264</td>\n",
       "      <td>0.164657</td>\n",
       "      <td>0.213985</td>\n",
       "      <td>0.186108</td>\n",
       "      <td>0.559448</td>\n",
       "    </tr>\n",
       "  </tbody>\n",
       "</table>\n",
       "</div>"
      ],
      "text/plain": [
       "                 Model  Accuracy  Precision    Recall  F1 Score       ROC\n",
       "0             Baseline  0.919462   0.000000  0.000000  0.000000  0.500000\n",
       "1  Logistic Regression  0.651166   0.133389  0.606037  0.218653  0.630578\n",
       "2        Decision Tree  0.849757   0.162243  0.207872  0.182245  0.556926\n",
       "3       Random Forrest  0.923155   0.743902  0.069927  0.127838  0.533909\n",
       "4             AdaBoost  0.849264   0.164657  0.213985  0.186108  0.559448"
      ]
     },
     "execution_count": 203,
     "metadata": {},
     "output_type": "execute_result"
    }
   ],
   "source": [
    "roc=roc_auc_score(y_test_cv, y_pred5)\n",
    "acc = accuracy_score(y_test_cv, y_pred5)\n",
    "prec = precision_score(y_test_cv, y_pred5)\n",
    "rec = recall_score(y_test_cv, y_pred5)\n",
    "f1 = f1_score(y_test_cv, y_pred5)\n",
    "\n",
    "results = pd.DataFrame([['AdaBoost', acc,prec,rec, f1,roc]],\n",
    "               columns = ['Model', 'Accuracy', 'Precision', 'Recall', 'F1 Score','ROC'])\n",
    "\n",
    "sum_results = sum_results.append(results, ignore_index = True)\n",
    "sum_results"
   ]
  },
  {
   "cell_type": "markdown",
   "metadata": {},
   "source": [
    "# XGBOOST"
   ]
  },
  {
   "cell_type": "code",
   "execution_count": 204,
   "metadata": {},
   "outputs": [],
   "source": [
    "pre_pipe = Pipeline([('ct', ct),\n",
    "                     ('smote', SMOTE(random_state=11))])  #setup preprocessing pipeline \n",
    "\n",
    "xgb_pipe = Pipeline([('xgb_clf',XGBClassifier(random_state=42))]) #set up model pipeline"
   ]
  },
  {
   "cell_type": "code",
   "execution_count": 205,
   "metadata": {},
   "outputs": [
    {
     "name": "stdout",
     "output_type": "stream",
     "text": [
      "Fold:  0\n",
      "(32495, 97)\n",
      "Fold:  1\n",
      "(32495, 96)\n",
      "Fold:  2\n",
      "(32494, 97)\n"
     ]
    }
   ],
   "source": [
    "i = 0\n",
    "for train_index, test_index in kf.split(x_train):\n",
    "    print(\"Fold: \", i)\n",
    "    #print(x_train_cv.shape)\n",
    "    x_train_cv = x_train.iloc[train_index,:]\n",
    "    y_train_cv = y_train.iloc[train_index]\n",
    "    x_test_cv = x_train.iloc[test_index,:]\n",
    "    y_test_cv = y_train.iloc[test_index]\n",
    "    #print(x_train_cv.shape)\n",
    "    x_resampled, y_resampled = pre_pipe.fit_resample(x_train_cv, y_train_cv) # train prepipeline get balanced data from SMOAT\n",
    "    \n",
    "    xgb_pipe.fit(x_resampled, y_resampled)  #train the xgbBoost model\n",
    "    x_test_processed = pre_pipe.named_steps['ct'].transform(x_test_cv) #transform the test data (option 3)\n",
    "    print(x_test_processed.shape)\n",
    "    y_pred6 = xgb_pipe.predict(x_test_processed) #prediction\n",
    "    i += 1"
   ]
  },
  {
   "cell_type": "code",
   "execution_count": 206,
   "metadata": {},
   "outputs": [
    {
     "name": "stderr",
     "output_type": "stream",
     "text": [
      "C:\\Users\\eggfr\\anaconda3\\envs\\tensor_flow\\lib\\site-packages\\sklearn\\utils\\deprecation.py:87: FutureWarning: Function plot_confusion_matrix is deprecated; Function `plot_confusion_matrix` is deprecated in 1.0 and will be removed in 1.2. Use one of the class methods: ConfusionMatrixDisplay.from_predictions or ConfusionMatrixDisplay.from_estimator.\n",
      "  warnings.warn(msg, category=FutureWarning)\n"
     ]
    },
    {
     "data": {
      "image/png": "[encoded data removed]",
      "text/plain": [
       "<Figure size 432x288 with 2 Axes>"
      ]
     },
     "metadata": {
      "needs_background": "light"
     },
     "output_type": "display_data"
    },
    {
     "name": "stdout",
     "output_type": "stream",
     "text": [
      "              precision    recall  f1-score   support\n",
      "\n",
      "           0       0.92      1.00      0.96     29877\n",
      "           1       0.42      0.02      0.04      2617\n",
      "\n",
      "    accuracy                           0.92     32494\n",
      "   macro avg       0.67      0.51      0.50     32494\n",
      "weighted avg       0.88      0.92      0.88     32494\n",
      "\n"
     ]
    }
   ],
   "source": [
    "status_labels = ['0: Normal', '1: Default']\n",
    "plot_confusion_matrix(xgb_pipe,x_test_processed,y_test_cv,display_labels = status_labels)\n",
    "plt.grid(False)\n",
    "plt.title('Confusion Matrix - XGBoost')\n",
    "plt.show()\n",
    "\n",
    "xgb_classification_report = classification_report(y_test_cv, y_pred6)\n",
    "print(xgb_classification_report)"
   ]
  },
  {
   "cell_type": "code",
   "execution_count": 207,
   "metadata": {
    "scrolled": true
   },
   "outputs": [
    {
     "name": "stderr",
     "output_type": "stream",
     "text": [
      "C:\\Users\\eggfr\\AppData\\Local\\Temp\\ipykernel_8836\\3901153202.py:10: FutureWarning: The frame.append method is deprecated and will be removed from pandas in a future version. Use pandas.concat instead.\n",
      "  sum_results = sum_results.append(results, ignore_index = True)\n"
     ]
    },
    {
     "data": {
      "text/html": [
       "<div>\n",
       "<style scoped>\n",
       "    .dataframe tbody tr th:only-of-type {\n",
       "        vertical-align: middle;\n",
       "    }\n",
       "\n",
       "    .dataframe tbody tr th {\n",
       "        vertical-align: top;\n",
       "    }\n",
       "\n",
       "    .dataframe thead th {\n",
       "        text-align: right;\n",
       "    }\n",
       "</style>\n",
       "<table border=\"1\" class=\"dataframe\">\n",
       "  <thead>\n",
       "    <tr style=\"text-align: right;\">\n",
       "      <th></th>\n",
       "      <th>Model</th>\n",
       "      <th>Accuracy</th>\n",
       "      <th>Precision</th>\n",
       "      <th>Recall</th>\n",
       "      <th>F1 Score</th>\n",
       "      <th>ROC</th>\n",
       "    </tr>\n",
       "  </thead>\n",
       "  <tbody>\n",
       "    <tr>\n",
       "      <th>0</th>\n",
       "      <td>Baseline</td>\n",
       "      <td>0.919462</td>\n",
       "      <td>0.000000</td>\n",
       "      <td>0.000000</td>\n",
       "      <td>0.000000</td>\n",
       "      <td>0.500000</td>\n",
       "    </tr>\n",
       "    <tr>\n",
       "      <th>1</th>\n",
       "      <td>Logistic Regression</td>\n",
       "      <td>0.651166</td>\n",
       "      <td>0.133389</td>\n",
       "      <td>0.606037</td>\n",
       "      <td>0.218653</td>\n",
       "      <td>0.630578</td>\n",
       "    </tr>\n",
       "    <tr>\n",
       "      <th>2</th>\n",
       "      <td>Decision Tree</td>\n",
       "      <td>0.849757</td>\n",
       "      <td>0.162243</td>\n",
       "      <td>0.207872</td>\n",
       "      <td>0.182245</td>\n",
       "      <td>0.556926</td>\n",
       "    </tr>\n",
       "    <tr>\n",
       "      <th>3</th>\n",
       "      <td>Random Forrest</td>\n",
       "      <td>0.923155</td>\n",
       "      <td>0.743902</td>\n",
       "      <td>0.069927</td>\n",
       "      <td>0.127838</td>\n",
       "      <td>0.533909</td>\n",
       "    </tr>\n",
       "    <tr>\n",
       "      <th>4</th>\n",
       "      <td>AdaBoost</td>\n",
       "      <td>0.849264</td>\n",
       "      <td>0.164657</td>\n",
       "      <td>0.213985</td>\n",
       "      <td>0.186108</td>\n",
       "      <td>0.559448</td>\n",
       "    </tr>\n",
       "    <tr>\n",
       "      <th>5</th>\n",
       "      <td>XGBoost</td>\n",
       "      <td>0.918816</td>\n",
       "      <td>0.421053</td>\n",
       "      <td>0.021399</td>\n",
       "      <td>0.040727</td>\n",
       "      <td>0.509411</td>\n",
       "    </tr>\n",
       "  </tbody>\n",
       "</table>\n",
       "</div>"
      ],
      "text/plain": [
       "                 Model  Accuracy  Precision    Recall  F1 Score       ROC\n",
       "0             Baseline  0.919462   0.000000  0.000000  0.000000  0.500000\n",
       "1  Logistic Regression  0.651166   0.133389  0.606037  0.218653  0.630578\n",
       "2        Decision Tree  0.849757   0.162243  0.207872  0.182245  0.556926\n",
       "3       Random Forrest  0.923155   0.743902  0.069927  0.127838  0.533909\n",
       "4             AdaBoost  0.849264   0.164657  0.213985  0.186108  0.559448\n",
       "5              XGBoost  0.918816   0.421053  0.021399  0.040727  0.509411"
      ]
     },
     "execution_count": 207,
     "metadata": {},
     "output_type": "execute_result"
    }
   ],
   "source": [
    "roc=roc_auc_score(y_test_cv, y_pred6)\n",
    "acc = accuracy_score(y_test_cv, y_pred6)\n",
    "prec = precision_score(y_test_cv, y_pred6)\n",
    "rec = recall_score(y_test_cv, y_pred6)\n",
    "f1 = f1_score(y_test_cv, y_pred6)\n",
    "\n",
    "results = pd.DataFrame([['XGBoost', acc,prec,rec, f1,roc]],\n",
    "               columns = ['Model', 'Accuracy', 'Precision', 'Recall', 'F1 Score','ROC'])\n",
    "\n",
    "sum_results = sum_results.append(results, ignore_index = True)\n",
    "sum_results"
   ]
  },
  {
   "cell_type": "markdown",
   "metadata": {},
   "source": [
    "# Neural Netowrk"
   ]
  },
  {
   "cell_type": "code",
   "execution_count": 208,
   "metadata": {},
   "outputs": [],
   "source": [
    "pre_pipe = Pipeline([('ct', ct),\n",
    "                     ('smote', SMOTE(random_state=11))])  #setup preprocessing pipeline "
   ]
  },
  {
   "cell_type": "code",
   "execution_count": 209,
   "metadata": {},
   "outputs": [
    {
     "name": "stdout",
     "output_type": "stream",
     "text": [
      "Fold:  0\n",
      "(32495, 97)\n",
      "Fold:  1\n",
      "(32495, 96)\n",
      "Fold:  2\n",
      "(32494, 97)\n"
     ]
    }
   ],
   "source": [
    "i = 0\n",
    "for train_index, test_index in kf.split(x_train):\n",
    "    print(\"Fold: \", i)\n",
    "    #print(x_train_cv.shape)\n",
    "    x_train_cv = x_train.iloc[train_index,:]\n",
    "    y_train_cv = y_train.iloc[train_index]\n",
    "    x_test_cv = x_train.iloc[test_index,:]\n",
    "    y_test_cv = y_train.iloc[test_index]\n",
    "    #print(x_train_cv.shape)\n",
    "    x_resampled, y_resampled = pre_pipe.fit_resample(x_train_cv, y_train_cv) # train prepipeline get balanced data from SMOAT\n",
    "    \n",
    "    x_test_processed = pre_pipe.named_steps['ct'].transform(x_test_cv) #transform the test data (option 3)\n",
    "    print(x_test_processed.shape)\n",
    "    \n",
    "    i += 1"
   ]
  },
  {
   "cell_type": "code",
   "execution_count": 210,
   "metadata": {},
   "outputs": [],
   "source": [
    "x_resampled_clean = np.asarray(x_resampled).astype(np.float32)\n",
    "x_test_processed_clean = np.asarray(x_test_processed).astype(np.float32)\n",
    "y_resampled_clean = np.asarray(y_resampled).astype(np.float32)\n",
    "y_test_clean = np.asarray(y_test_cv).astype(np.float32)"
   ]
  },
  {
   "cell_type": "code",
   "execution_count": 211,
   "metadata": {},
   "outputs": [],
   "source": [
    "early_stopping = tf.keras.callbacks.EarlyStopping(\n",
    "    monitor='val_prc', \n",
    "    verbose=1,\n",
    "    patience=20,\n",
    "    mode='max',\n",
    "    restore_best_weights=True)"
   ]
  },
  {
   "cell_type": "code",
   "execution_count": 212,
   "metadata": {},
   "outputs": [],
   "source": [
    "early_stopping = tf.keras.callbacks.EarlyStopping(\n",
    "    monitor='val_prc', \n",
    "    verbose=1,\n",
    "    patience=20,\n",
    "    mode='max',\n",
    "    restore_best_weights=True)"
   ]
  },
  {
   "cell_type": "code",
   "execution_count": 213,
   "metadata": {},
   "outputs": [],
   "source": [
    "METRICS = [\n",
    "      keras.metrics.TruePositives(name='tp'),\n",
    "      keras.metrics.FalsePositives(name='fp'),\n",
    "      keras.metrics.TrueNegatives(name='tn'),\n",
    "      keras.metrics.FalseNegatives(name='fn'), \n",
    "      keras.metrics.BinaryAccuracy(name='accuracy'),\n",
    "      keras.metrics.Precision(name='precision'),\n",
    "      keras.metrics.Recall(name='recall'),\n",
    "      keras.metrics.AUC(name='auc'),\n",
    "      keras.metrics.AUC(name='prc', curve='PR'), # precision-recall curve\n",
    "]"
   ]
  },
  {
   "cell_type": "code",
   "execution_count": 214,
   "metadata": {},
   "outputs": [],
   "source": [
    "from sklearn.utils import class_weight"
   ]
  },
  {
   "cell_type": "code",
   "execution_count": 215,
   "metadata": {},
   "outputs": [],
   "source": [
    "from sklearn.utils.class_weight import compute_class_weight"
   ]
  },
  {
   "cell_type": "code",
   "execution_count": 216,
   "metadata": {},
   "outputs": [
    {
     "data": {
      "text/plain": [
       "array([1., 1.])"
      ]
     },
     "execution_count": 216,
     "metadata": {},
     "output_type": "execute_result"
    }
   ],
   "source": [
    "class_weights = compute_class_weight(class_weight = \"balanced\", classes= np.unique(y_resampled_clean), y= y_resampled_clean)\n",
    "class_weights"
   ]
  },
  {
   "cell_type": "code",
   "execution_count": 217,
   "metadata": {},
   "outputs": [
    {
     "data": {
      "text/plain": [
       "{0: 1.0, 1: 1.0}"
      ]
     },
     "execution_count": 217,
     "metadata": {},
     "output_type": "execute_result"
    }
   ],
   "source": [
    "sklearn_weights = dict(enumerate(class_weights))\n",
    "sklearn_weights"
   ]
  },
  {
   "cell_type": "markdown",
   "metadata": {},
   "source": [
    "Model 24_baseline"
   ]
  },
  {
   "cell_type": "code",
   "execution_count": 218,
   "metadata": {},
   "outputs": [
    {
     "name": "stdout",
     "output_type": "stream",
     "text": [
      "Model: \"sequential_18\"\n",
      "_________________________________________________________________\n",
      "Layer (type)                 Output Shape              Param #   \n",
      "=================================================================\n",
      "dense_57 (Dense)             (None, 16)                1568      \n",
      "_________________________________________________________________\n",
      "dense_58 (Dense)             (None, 1)                 17        \n",
      "=================================================================\n",
      "Total params: 1,585\n",
      "Trainable params: 1,585\n",
      "Non-trainable params: 0\n",
      "_________________________________________________________________\n"
     ]
    }
   ],
   "source": [
    "model_24 = Sequential()\n",
    "model_24.add(Dense(16, input_shape=(97,), activation='relu')),\n",
    "#model_24.add(Dropout(0.2)),\n",
    "#model_24.add(Dense(32, activation='relu')),\n",
    "#model_24.add(Dropout(0.2)),\n",
    "#model_24.add(Dense(64, activation='relu')),\n",
    "model_24.add(Dense(1, activation='sigmoid'))\n",
    "#Compile model\n",
    "model_24.compile(\n",
    "                loss='binary_crossentropy', \n",
    "                optimizer= keras.optimizers.Adam(learning_rate=1e-3),\n",
    "                metrics=METRICS)\n",
    "model_24.summary()"
   ]
  },
  {
   "cell_type": "code",
   "execution_count": 219,
   "metadata": {
    "scrolled": true
   },
   "outputs": [
    {
     "name": "stdout",
     "output_type": "stream",
     "text": [
      "Epoch 1/10\n",
      "20301/20301 [==============================] - 61s 3ms/step - loss: 0.6040 - tp: 22046.0000 - fp: 12843.0000 - tn: 46866.0000 - fn: 19750.0000 - accuracy: 0.6789 - precision: 0.6319 - recall: 0.5275 - auc: 0.7340 - prc: 0.6232 - val_loss: 0.6966 - val_tp: 10883.0000 - val_fp: 0.0000e+00 - val_tn: 0.0000e+00 - val_fn: 7030.0000 - val_accuracy: 0.6075 - val_precision: 1.0000 - val_recall: 0.6075 - val_auc: 0.0000e+00 - val_prc: 1.0000\n",
      "Epoch 2/10\n",
      "20301/20301 [==============================] - 56s 3ms/step - loss: 0.5696 - tp: 24700.0000 - fp: 12475.0000 - tn: 47234.0000 - fn: 17096.0000 - accuracy: 0.7087 - precision: 0.6644 - recall: 0.5910 - auc: 0.7737 - prc: 0.6756 - val_loss: 0.7159 - val_tp: 10736.0000 - val_fp: 0.0000e+00 - val_tn: 0.0000e+00 - val_fn: 7177.0000 - val_accuracy: 0.5993 - val_precision: 1.0000 - val_recall: 0.5993 - val_auc: 0.0000e+00 - val_prc: 1.0000\n",
      "Epoch 3/10\n",
      "20301/20301 [==============================] - 55s 3ms/step - loss: 0.5591 - tp: 25608.0000 - fp: 12236.0000 - tn: 47473.0000 - fn: 16188.0000 - accuracy: 0.7200 - precision: 0.6767 - recall: 0.6127 - auc: 0.7858 - prc: 0.6915 - val_loss: 0.7009 - val_tp: 10878.0000 - val_fp: 0.0000e+00 - val_tn: 0.0000e+00 - val_fn: 7035.0000 - val_accuracy: 0.6073 - val_precision: 1.0000 - val_recall: 0.6073 - val_auc: 0.0000e+00 - val_prc: 1.00000.69\n",
      "Epoch 4/10\n",
      "20301/20301 [==============================] - 54s 3ms/step - loss: 0.5489 - tp: 26091.0000 - fp: 11920.0000 - tn: 47789.0000 - fn: 15705.0000 - accuracy: 0.7278 - precision: 0.6864 - recall: 0.6242 - auc: 0.7957 - prc: 0.7064 - val_loss: 0.6903 - val_tp: 11057.0000 - val_fp: 0.0000e+00 - val_tn: 0.0000e+00 - val_fn: 6856.0000 - val_accuracy: 0.6173 - val_precision: 1.0000 - val_recall: 0.6173 - val_auc: 0.0000e+00 - val_prc: 1.0000\n",
      "Epoch 5/10\n",
      "20301/20301 [==============================] - 54s 3ms/step - loss: 0.5380 - tp: 26349.0000 - fp: 11421.0000 - tn: 48288.0000 - fn: 15447.0000 - accuracy: 0.7353 - precision: 0.6976 - recall: 0.6304 - auc: 0.8053 - prc: 0.7242 - val_loss: 0.6376 - val_tp: 11918.0000 - val_fp: 0.0000e+00 - val_tn: 0.0000e+00 - val_fn: 5995.0000 - val_accuracy: 0.6653 - val_precision: 1.0000 - val_recall: 0.6653 - val_auc: 0.0000e+00 - val_prc: 1.0000\n",
      "Epoch 6/10\n",
      "20301/20301 [==============================] - 54s 3ms/step - loss: 0.5283 - tp: 26559.0000 - fp: 10931.0000 - tn: 48778.0000 - fn: 15237.0000 - accuracy: 0.7422 - precision: 0.7084 - recall: 0.6354 - auc: 0.8128 - prc: 0.7406 - val_loss: 0.7007 - val_tp: 11054.0000 - val_fp: 0.0000e+00 - val_tn: 0.0000e+00 - val_fn: 6859.0000 - val_accuracy: 0.6171 - val_precision: 1.0000 - val_recall: 0.6171 - val_auc: 0.0000e+00 - val_prc: 1.0000\n",
      "Epoch 7/10\n",
      "20301/20301 [==============================] - 54s 3ms/step - loss: 0.5197 - tp: 26789.0000 - fp: 10618.0000 - tn: 49091.0000 - fn: 15007.0000 - accuracy: 0.7475 - precision: 0.7161 - recall: 0.6409 - auc: 0.8189 - prc: 0.7567 - val_loss: 0.7008 - val_tp: 10796.0000 - val_fp: 0.0000e+00 - val_tn: 0.0000e+00 - val_fn: 7117.0000 - val_accuracy: 0.6027 - val_precision: 1.0000 - val_recall: 0.6027 - val_auc: 0.0000e+00 - val_prc: 1.0000\n",
      "Epoch 8/10\n",
      "20301/20301 [==============================] - 54s 3ms/step - loss: 0.5122 - tp: 26738.0000 - fp: 10333.0000 - tn: 49376.0000 - fn: 15058.0000 - accuracy: 0.7499 - precision: 0.7213 - recall: 0.6397 - auc: 0.8236 - prc: 0.7688 - val_loss: 0.5741 - val_tp: 12558.0000 - val_fp: 0.0000e+00 - val_tn: 0.0000e+00 - val_fn: 5355.0000 - val_accuracy: 0.7011 - val_precision: 1.0000 - val_recall: 0.7011 - val_auc: 0.0000e+00 - val_prc: 1.0000\n",
      "Epoch 9/10\n",
      "20301/20301 [==============================] - 54s 3ms/step - loss: 0.5057 - tp: 26912.0000 - fp: 10004.0000 - tn: 49705.0000 - fn: 14884.0000 - accuracy: 0.7548 - precision: 0.7290 - recall: 0.6439 - auc: 0.8279 - prc: 0.7781 - val_loss: 0.6189 - val_tp: 11731.0000 - val_fp: 0.0000e+00 - val_tn: 0.0000e+00 - val_fn: 6182.0000 - val_accuracy: 0.6549 - val_precision: 1.0000 - val_recall: 0.6549 - val_auc: 0.0000e+00 - val_prc: 1.0000\n",
      "Epoch 10/10\n",
      "20301/20301 [==============================] - 55s 3ms/step - loss: 0.5002 - tp: 26906.0000 - fp: 9870.0000 - tn: 49839.0000 - fn: 14890.0000 - accuracy: 0.7561 - precision: 0.7316 - recall: 0.6437 - auc: 0.8306 - prc: 0.7849 - val_loss: 0.5857 - val_tp: 12236.0000 - val_fp: 0.0000e+00 - val_tn: 0.0000e+00 - val_fn: 5677.0000 - val_accuracy: 0.6831 - val_precision: 1.0000 - val_recall: 0.6831 - val_auc: 0.0000e+00 - val_prc: 1.0000\n"
     ]
    }
   ],
   "source": [
    "#Train the model\n",
    "results_24 = model_24.fit(\n",
    "                    x=x_resampled_clean, \n",
    "                    y=y_resampled_clean, \n",
    "                    epochs=10, \n",
    "                    batch_size=5, \n",
    "                    validation_split=0.15,\n",
    "                    #validation_data=(x_validate, y_validate),\n",
    "                    class_weight=sklearn_weights,\n",
    "                    callbacks = [earlystopper])\n"
   ]
  },
  {
   "cell_type": "code",
   "execution_count": 220,
   "metadata": {},
   "outputs": [],
   "source": [
    "y_pred_n1=model_24.predict(x_test_processed_clean)"
   ]
  },
  {
   "cell_type": "markdown",
   "metadata": {},
   "source": [
    "# Classification metrics can't handle a mix of binary and continuous targets"
   ]
  },
  {
   "cell_type": "code",
   "execution_count": 221,
   "metadata": {},
   "outputs": [],
   "source": [
    "#roc=roc_auc_score(y_test_clean, y_pred_n1)\n",
    "#acc = accuracy_score(y_test_clean, y_pred_n1)\n",
    "#prec = precision_score(y_test_clean, y_pred_n1)\n",
    "#rec = recall_score(y_test_clean, y_pred_n1)\n",
    "#f1 = f1_score(y_test_clean, y_pred_n1)\n",
    "\n",
    "#results = pd.DataFrame([['Neural Network Baseline', acc,prec,rec, f1,roc]],\n",
    "               #columns = ['Model', 'Accuracy', 'Precision', 'Recall', 'F1 Score','ROC'])\n",
    "\n",
    "#sum_results = sum_results.append(results, ignore_index = True)\n",
    "#sum_results"
   ]
  },
  {
   "cell_type": "code",
   "execution_count": null,
   "metadata": {},
   "outputs": [],
   "source": []
  },
  {
   "cell_type": "code",
   "execution_count": 222,
   "metadata": {},
   "outputs": [],
   "source": [
    "def visualize_training_results(results):\n",
    "    history = results.history\n",
    "    plt.figure()\n",
    "    plt.plot(history['val_prc'])\n",
    "    plt.plot(history['precision'])\n",
    "    plt.legend(['val_prc', 'precision'])\n",
    "    plt.title('precision')\n",
    "    plt.xlabel('Epochs')\n",
    "    plt.ylabel('precision')\n",
    "    plt.show()\n",
    "    \n",
    "    plt.figure()\n",
    "    plt.plot(history['val_recall'])\n",
    "    plt.plot(history['recall'])\n",
    "    plt.legend(['val_recall', 'recall'])\n",
    "    plt.title('recall')\n",
    "    plt.xlabel('Epochs')\n",
    "    plt.ylabel('recall')\n",
    "    plt.show()"
   ]
  },
  {
   "cell_type": "code",
   "execution_count": 223,
   "metadata": {},
   "outputs": [],
   "source": [
    "def visualize_training_results_1(results):\n",
    "    history = results.history\n",
    "    plt.figure()\n",
    "    plt.plot(history['val_loss'])\n",
    "    plt.plot(history['loss'])\n",
    "    plt.legend(['val_loss', 'loss'])\n",
    "    plt.title('Loss')\n",
    "    plt.xlabel('Epochs')\n",
    "    plt.ylabel('Loss')\n",
    "    plt.show()\n",
    "    \n",
    "    plt.figure()\n",
    "    plt.plot(history['val_accuracy'])\n",
    "    plt.plot(history['accuracy'])\n",
    "    plt.legend(['val_accuracy', 'accuracy'])\n",
    "    plt.title('Accuracy')\n",
    "    plt.xlabel('Epochs')\n",
    "    plt.ylabel('Accuracy')\n",
    "    plt.show()"
   ]
  },
  {
   "cell_type": "code",
   "execution_count": null,
   "metadata": {},
   "outputs": [],
   "source": [
    "def visualize_training_results_3(results):\n",
    "    history = results.history\n",
    "    plt.figure()\n",
    "    plt.plot(history['val_loss'])\n",
    "    plt.plot(history['loss'])\n",
    "    plt.legend(['val_loss', 'loss'])\n",
    "    plt.title('Loss')\n",
    "    plt.xlabel('Epochs')\n",
    "    plt.ylabel('Loss')\n",
    "    plt.show()\n",
    "    \n",
    "    plt.figure()\n",
    "    plt.plot(history['val_accuracy'])\n",
    "    plt.plot(history['accuracy'])\n",
    "    plt.legend(['val_accuracy', 'accuracy'])\n",
    "    plt.title('Accuracy')\n",
    "    plt.xlabel('Epochs')\n",
    "    plt.ylabel('Accuracy')\n",
    "    plt.show()"
   ]
  },
  {
   "cell_type": "code",
   "execution_count": 224,
   "metadata": {},
   "outputs": [
    {
     "data": {
      "image/png": "[encoded data removed]",
      "text/plain": [
       "<Figure size 432x288 with 1 Axes>"
      ]
     },
     "metadata": {
      "needs_background": "light"
     },
     "output_type": "display_data"
    },
    {
     "data": {
      "image/png": "[encoded data removed]",
      "text/plain": [
       "<Figure size 432x288 with 1 Axes>"
      ]
     },
     "metadata": {
      "needs_background": "light"
     },
     "output_type": "display_data"
    }
   ],
   "source": [
    "visualize_training_results_1(results_24)"
   ]
  },
  {
   "cell_type": "code",
   "execution_count": 225,
   "metadata": {},
   "outputs": [],
   "source": [
    "pre_pipe = Pipeline([('ct', ct),\n",
    "                     ('smote', SMOTE(random_state=11))])  #setup preprocessing pipeline "
   ]
  },
  {
   "cell_type": "code",
   "execution_count": 226,
   "metadata": {},
   "outputs": [
    {
     "name": "stdout",
     "output_type": "stream",
     "text": [
      "Fold:  0\n",
      "0    59727\n",
      "1    59727\n",
      "Name: Default, dtype: int64\n",
      "(32495, 97)\n",
      "Fold:  1\n",
      "0    59736\n",
      "1    59736\n",
      "Name: Default, dtype: int64\n",
      "(32495, 96)\n",
      "Fold:  2\n",
      "0    59709\n",
      "1    59709\n",
      "Name: Default, dtype: int64\n",
      "(32494, 97)\n"
     ]
    }
   ],
   "source": [
    "i = 0\n",
    "for train_index, test_index in kf.split(x_train):\n",
    "    print(\"Fold: \", i)\n",
    "    #print(x_train_cv.shape)\n",
    "    x_train_cv = x_train.iloc[train_index,:]\n",
    "    y_train_cv = y_train.iloc[train_index]\n",
    "    x_test_cv = x_train.iloc[test_index,:]\n",
    "    y_test_cv = y_train.iloc[test_index]\n",
    "    #print(x_train_cv.shape)\n",
    "    x_resampled, y_resampled = pre_pipe.fit_resample(x_train_cv, y_train_cv) # train prepipeline get balanced data from SMOAT\n",
    "    print(y_resampled.value_counts())\n",
    "    x_test_processed = pre_pipe.named_steps['ct'].transform(x_test_cv) #transform the test data (option 3)\n",
    "    print(x_test_processed.shape)\n",
    "    \n",
    "    i += 1"
   ]
  },
  {
   "cell_type": "code",
   "execution_count": 227,
   "metadata": {},
   "outputs": [],
   "source": [
    "model_23 = Sequential()\n",
    "model_23.add(Dense(16, activation='relu', input_shape=(97,)))\n",
    "model_23.add(Dense(16, activation='relu'))\n",
    "model_23.add(Dense(1, activation='sigmoid'))"
   ]
  },
  {
   "cell_type": "code",
   "execution_count": 228,
   "metadata": {},
   "outputs": [
    {
     "name": "stdout",
     "output_type": "stream",
     "text": [
      "Model: \"sequential_19\"\n",
      "_________________________________________________________________\n",
      "Layer (type)                 Output Shape              Param #   \n",
      "=================================================================\n",
      "dense_59 (Dense)             (None, 16)                1568      \n",
      "_________________________________________________________________\n",
      "dense_60 (Dense)             (None, 16)                272       \n",
      "_________________________________________________________________\n",
      "dense_61 (Dense)             (None, 1)                 17        \n",
      "=================================================================\n",
      "Total params: 1,857\n",
      "Trainable params: 1,857\n",
      "Non-trainable params: 0\n",
      "_________________________________________________________________\n"
     ]
    }
   ],
   "source": [
    "model_23.compile(\n",
    "                loss='binary_crossentropy', \n",
    "                optimizer= keras.optimizers.Adam(learning_rate=1e-3),\n",
    "                metrics=METRICS)\n",
    "model_23.summary()"
   ]
  },
  {
   "cell_type": "code",
   "execution_count": 229,
   "metadata": {},
   "outputs": [
    {
     "name": "stdout",
     "output_type": "stream",
     "text": [
      "Epoch 1/10\n",
      "20301/20301 [==============================] - 71s 3ms/step - loss: 0.5917 - tp: 34546.0000 - fp: 12645.0000 - tn: 47064.0000 - fn: 25163.0000 - accuracy: 0.6834 - precision: 0.7320 - recall: 0.5786 - auc: 0.7634 - prc: 0.7647 - val_loss: 0.6625 - val_tp: 11620.0000 - val_fp: 0.0000e+00 - val_tn: 0.0000e+00 - val_fn: 6293.0000 - val_accuracy: 0.6487 - val_precision: 1.0000 - val_recall: 0.6487 - val_auc: 0.0000e+00 - val_prc: 1.0000\n",
      "Epoch 2/10\n",
      "20301/20301 [==============================] - 63s 3ms/step - loss: 0.5476 - tp: 25927.0000 - fp: 11996.0000 - tn: 47713.0000 - fn: 15869.0000 - accuracy: 0.7255 - precision: 0.6837 - recall: 0.6203 - auc: 0.7911 - prc: 0.7009 - val_loss: 0.7469 - val_tp: 10487.0000 - val_fp: 0.0000e+00 - val_tn: 0.0000e+00 - val_fn: 7426.0000 - val_accuracy: 0.5854 - val_precision: 1.0000 - val_recall: 0.5854 - val_auc: 0.0000e+00 - val_prc: 1.0000\n",
      "Epoch 3/10\n",
      "20301/20301 [==============================] - 60s 3ms/step - loss: 0.5285 - tp: 26910.0000 - fp: 11477.0000 - tn: 48232.0000 - fn: 14886.0000 - accuracy: 0.7403 - precision: 0.7010 - recall: 0.6438 - auc: 0.8097 - prc: 0.7285 - val_loss: 0.5484 - val_tp: 13003.0000 - val_fp: 0.0000e+00 - val_tn: 0.0000e+00 - val_fn: 4910.0000 - val_accuracy: 0.7259 - val_precision: 1.0000 - val_recall: 0.7259 - val_auc: 0.0000e+00 - val_prc: 1.0000456.0000 - tn: 48143.0000 - fn: 14859.0000 - accuracy: 0.7403 - precision: 0.7010 - recall: 0.6438 - auc: 0.8097 - prc: 0.7\n",
      "Epoch 4/10\n",
      "20301/20301 [==============================] - 57s 3ms/step - loss: 0.5072 - tp: 27371.0000 - fp: 10668.0000 - tn: 49041.0000 - fn: 14425.0000 - accuracy: 0.7528 - precision: 0.7196 - recall: 0.6549 - auc: 0.8261 - prc: 0.7590 - val_loss: 0.6735 - val_tp: 11264.0000 - val_fp: 0.0000e+00 - val_tn: 0.0000e+00 - val_fn: 6649.0000 - val_accuracy: 0.6288 - val_precision: 1.0000 - val_recall: 0.6288 - val_auc: 0.0000e+00 - val_prc: 1.0000\n",
      "Epoch 5/10\n",
      "20301/20301 [==============================] - 55s 3ms/step - loss: 0.4904 - tp: 27850.0000 - fp: 10016.0000 - tn: 49693.0000 - fn: 13946.0000 - accuracy: 0.7639 - precision: 0.7355 - recall: 0.6663 - auc: 0.8374 - prc: 0.7821 - val_loss: 0.5343 - val_tp: 13070.0000 - val_fp: 0.0000e+00 - val_tn: 0.0000e+00 - val_fn: 4843.0000 - val_accuracy: 0.7296 - val_precision: 1.0000 - val_recall: 0.7296 - val_auc: 0.0000e+00 - val_prc: 1.0000\n",
      "Epoch 6/10\n",
      "20301/20301 [==============================] - 54s 3ms/step - loss: 0.4776 - tp: 28257.0000 - fp: 9604.0000 - tn: 50105.0000 - fn: 13539.0000 - accuracy: 0.7720 - precision: 0.7463 - recall: 0.6761 - auc: 0.8469 - prc: 0.7987 - val_loss: 0.5735 - val_tp: 12454.0000 - val_fp: 0.0000e+00 - val_tn: 0.0000e+00 - val_fn: 5459.0000 - val_accuracy: 0.6952 - val_precision: 1.0000 - val_recall: 0.6952 - val_auc: 0.0000e+00 - val_prc: 1.0000\n",
      "Epoch 7/10\n",
      "20301/20301 [==============================] - 54s 3ms/step - loss: 0.4689 - tp: 28403.0000 - fp: 9263.0000 - tn: 50446.0000 - fn: 13393.0000 - accuracy: 0.7768 - precision: 0.7541 - recall: 0.6796 - auc: 0.8526 - prc: 0.8091 - val_loss: 0.6235 - val_tp: 11799.0000 - val_fp: 0.0000e+00 - val_tn: 0.0000e+00 - val_fn: 6114.0000 - val_accuracy: 0.6587 - val_precision: 1.0000 - val_recall: 0.6587 - val_auc: 0.0000e+00 - val_prc: 1.0000\n",
      "Epoch 8/10\n",
      "20301/20301 [==============================] - 55s 3ms/step - loss: 0.4626 - tp: 28601.0000 - fp: 9143.0000 - tn: 50566.0000 - fn: 13195.0000 - accuracy: 0.7799 - precision: 0.7578 - recall: 0.6843 - auc: 0.8564 - prc: 0.8158 - val_loss: 0.5947 - val_tp: 12169.0000 - val_fp: 0.0000e+00 - val_tn: 0.0000e+00 - val_fn: 5744.0000 - val_accuracy: 0.6793 - val_precision: 1.0000 - val_recall: 0.6793 - val_auc: 0.0000e+00 - val_prc: 1.0000\n",
      "Epoch 9/10\n",
      "20301/20301 [==============================] - 55s 3ms/step - loss: 0.4591 - tp: 28683.0000 - fp: 9038.0000 - tn: 50671.0000 - fn: 13113.0000 - accuracy: 0.7818 - precision: 0.7604 - recall: 0.6863 - auc: 0.8587 - prc: 0.8191 - val_loss: 0.5673 - val_tp: 12309.0000 - val_fp: 0.0000e+00 - val_tn: 0.0000e+00 - val_fn: 5604.0000 - val_accuracy: 0.6872 - val_precision: 1.0000 - val_recall: 0.6872 - val_auc: 0.0000e+00 - val_prc: 1.0000\n",
      "Epoch 10/10\n",
      "20301/20301 [==============================] - 70s 3ms/step - loss: 0.4540 - tp: 28829.0000 - fp: 8862.0000 - tn: 50847.0000 - fn: 12967.0000 - accuracy: 0.7849 - precision: 0.7649 - recall: 0.6898 - auc: 0.8619 - prc: 0.8233 - val_loss: 0.5752 - val_tp: 12385.0000 - val_fp: 0.0000e+00 - val_tn: 0.0000e+00 - val_fn: 5528.0000 - val_accuracy: 0.6914 - val_precision: 1.0000 - val_recall: 0.6914 - val_auc: 0.0000e+00 - val_prc: 1.0000\n"
     ]
    }
   ],
   "source": [
    "results_23 = model_23.fit(\n",
    "                    x=x_resampled_clean, \n",
    "                    y=y_resampled_clean, \n",
    "                    epochs=10, \n",
    "                    batch_size=5, \n",
    "                    validation_split=0.15,\n",
    "                    #validation_data=(x_validate, y_validate),\n",
    "                    class_weight=sklearn_weights,\n",
    "                    callbacks = [earlystopper])\n"
   ]
  },
  {
   "cell_type": "code",
   "execution_count": 230,
   "metadata": {},
   "outputs": [
    {
     "data": {
      "image/png": "[encoded data removed]",
      "text/plain": [
       "<Figure size 432x288 with 1 Axes>"
      ]
     },
     "metadata": {
      "needs_background": "light"
     },
     "output_type": "display_data"
    },
    {
     "data": {
      "image/png": "[encoded data removed]",
      "text/plain": [
       "<Figure size 432x288 with 1 Axes>"
      ]
     },
     "metadata": {
      "needs_background": "light"
     },
     "output_type": "display_data"
    }
   ],
   "source": [
    "visualize_training_results_1(results_23)"
   ]
  },
  {
   "cell_type": "code",
   "execution_count": 231,
   "metadata": {},
   "outputs": [],
   "source": [
    "# cannot pickle 'weakref' object"
   ]
  },
  {
   "cell_type": "code",
   "execution_count": 232,
   "metadata": {},
   "outputs": [],
   "source": [
    "# # use the built-in open() function to open a file\n",
    "#output_file = open(\"nn_model_2.pkl\", \"wb\") # \"wb\" means \"write as bytes\"\n",
    "\n",
    "# # dump the variable's contents into the file\n",
    "#joblib.dump(model_23, output_file)\n",
    "\n",
    "# # close the file, ensuring nothing stays in the buffer\n",
    "#output_file.close()"
   ]
  },
  {
   "cell_type": "markdown",
   "metadata": {},
   "source": [
    "add regulation"
   ]
  },
  {
   "cell_type": "markdown",
   "metadata": {},
   "source": [
    "# add l1 regulaizer"
   ]
  },
  {
   "cell_type": "code",
   "execution_count": 233,
   "metadata": {},
   "outputs": [],
   "source": [
    "from keras.regularizers import l1, l2"
   ]
  },
  {
   "cell_type": "code",
   "execution_count": 234,
   "metadata": {},
   "outputs": [],
   "source": [
    "# establish the regularization strength of lambda\n",
    "reg_l1 = l1(3e-3) # 1e-5 to .1"
   ]
  },
  {
   "cell_type": "code",
   "execution_count": 235,
   "metadata": {},
   "outputs": [],
   "source": [
    "pre_pipe = Pipeline([('ct', ct),\n",
    "                     ('smote', SMOTE(random_state=11))])  #setup preprocessing pipeline "
   ]
  },
  {
   "cell_type": "code",
   "execution_count": 236,
   "metadata": {},
   "outputs": [
    {
     "name": "stdout",
     "output_type": "stream",
     "text": [
      "Fold:  0\n",
      "0    59727\n",
      "1    59727\n",
      "Name: Default, dtype: int64\n",
      "(32495, 97)\n",
      "Fold:  1\n",
      "0    59736\n",
      "1    59736\n",
      "Name: Default, dtype: int64\n",
      "(32495, 96)\n",
      "Fold:  2\n",
      "0    59709\n",
      "1    59709\n",
      "Name: Default, dtype: int64\n",
      "(32494, 97)\n"
     ]
    }
   ],
   "source": [
    "i = 0\n",
    "for train_index, test_index in kf.split(x_train):\n",
    "    print(\"Fold: \", i)\n",
    "    #print(x_train_cv.shape)\n",
    "    x_train_cv = x_train.iloc[train_index,:]\n",
    "    y_train_cv = y_train.iloc[train_index]\n",
    "    x_test_cv = x_train.iloc[test_index,:]\n",
    "    y_test_cv = y_train.iloc[test_index]\n",
    "    #print(x_train_cv.shape)\n",
    "    x_resampled, y_resampled = pre_pipe.fit_resample(x_train_cv, y_train_cv) # train prepipeline get balanced data from SMOAT\n",
    "    print(y_resampled.value_counts())\n",
    "    x_test_processed = pre_pipe.named_steps['ct'].transform(x_test_cv) #transform the test data (option 3)\n",
    "    print(x_test_processed.shape)\n",
    "    \n",
    "    i += 1"
   ]
  },
  {
   "cell_type": "code",
   "execution_count": 237,
   "metadata": {},
   "outputs": [],
   "source": [
    "x_resampled_clean = np.asarray(x_resampled).astype(np.float32)\n",
    "x_test_processed_clean = np.asarray(x_test_processed).astype(np.float32)\n",
    "y_resampled_clean = np.asarray(y_resampled).astype(np.float32)\n",
    "y_test_clean = np.asarray(y_test_cv).astype(np.float32)"
   ]
  },
  {
   "cell_type": "code",
   "execution_count": null,
   "metadata": {},
   "outputs": [],
   "source": []
  },
  {
   "cell_type": "code",
   "execution_count": 238,
   "metadata": {},
   "outputs": [
    {
     "name": "stdout",
     "output_type": "stream",
     "text": [
      "Model: \"sequential_20\"\n",
      "_________________________________________________________________\n",
      "Layer (type)                 Output Shape              Param #   \n",
      "=================================================================\n",
      "dense_62 (Dense)             (None, 16)                1568      \n",
      "_________________________________________________________________\n",
      "dense_63 (Dense)             (None, 32)                544       \n",
      "_________________________________________________________________\n",
      "dropout_13 (Dropout)         (None, 32)                0         \n",
      "_________________________________________________________________\n",
      "dense_64 (Dense)             (None, 32)                1056      \n",
      "_________________________________________________________________\n",
      "dense_65 (Dense)             (None, 1)                 33        \n",
      "=================================================================\n",
      "Total params: 3,201\n",
      "Trainable params: 3,201\n",
      "Non-trainable params: 0\n",
      "_________________________________________________________________\n"
     ]
    }
   ],
   "source": [
    "model_nn_3 = Sequential()\n",
    "model_nn_3.add(Dense(16, input_shape=(97,), activation='relu')),\n",
    "#model_24.add(Dropout(0.2)),\n",
    "model_nn_3.add(Dense(32, activation='relu')),\n",
    "model_nn_3.add(Dropout(0.2)),\n",
    "model_nn_3.add(Dense(32, \n",
    "                     activation='relu',\n",
    "                     kernel_regularizer = reg_l1)),\n",
    "model_nn_3.add(Dense(1, activation='sigmoid'))\n",
    "#Compile model\n",
    "model_nn_3.compile(\n",
    "                loss='binary_crossentropy', \n",
    "                optimizer= keras.optimizers.Adam(learning_rate=1e-3),\n",
    "                metrics=METRICS)\n",
    "model_nn_3.summary()"
   ]
  },
  {
   "cell_type": "code",
   "execution_count": 239,
   "metadata": {},
   "outputs": [
    {
     "name": "stdout",
     "output_type": "stream",
     "text": [
      "Epoch 1/10\n",
      "20301/20301 [==============================] - 75s 4ms/step - loss: 0.6188 - tp: 35104.0000 - fp: 13093.0000 - tn: 46616.0000 - fn: 24605.0000 - accuracy: 0.6843 - precision: 0.7283 - recall: 0.5879 - auc: 0.7567 - prc: 0.7709 - val_loss: 0.7325 - val_tp: 10899.0000 - val_fp: 0.0000e+00 - val_tn: 0.0000e+00 - val_fn: 7014.0000 - val_accuracy: 0.6084 - val_precision: 1.0000 - val_recall: 0.6084 - val_auc: 0.0000e+00 - val_prc: 1.0000\n",
      "Epoch 2/10\n",
      "20301/20301 [==============================] - 68s 3ms/step - loss: 0.5696 - tp: 26771.0000 - fp: 13093.0000 - tn: 46616.0000 - fn: 15025.0000 - accuracy: 0.7230 - precision: 0.6716 - recall: 0.6405 - auc: 0.7860 - prc: 0.6928 - val_loss: 0.5900 - val_tp: 13167.0000 - val_fp: 0.0000e+00 - val_tn: 0.0000e+00 - val_fn: 4746.0000 - val_accuracy: 0.7351 - val_precision: 1.0000 - val_recall: 0.7351 - val_auc: 0.0000e+00 - val_prc: 1.0000\n",
      "Epoch 3/10\n",
      "20301/20301 [==============================] - 64s 3ms/step - loss: 0.5515 - tp: 27826.0000 - fp: 12727.0000 - tn: 46982.0000 - fn: 13970.0000 - accuracy: 0.7370 - precision: 0.6862 - recall: 0.6658 - auc: 0.8019 - prc: 0.7145 - val_loss: 0.5688 - val_tp: 13720.0000 - val_fp: 0.0000e+00 - val_tn: 0.0000e+00 - val_fn: 4193.0000 - val_accuracy: 0.7659 - val_precision: 1.0000 - val_recall: 0.7659 - val_auc: 0.0000e+00 - val_prc: 1.0000\n",
      "Epoch 4/10\n",
      "20301/20301 [==============================] - 63s 3ms/step - loss: 0.5364 - tp: 28346.0000 - fp: 12408.0000 - tn: 47301.0000 - fn: 13450.0000 - accuracy: 0.7453 - precision: 0.6955 - recall: 0.6782 - auc: 0.8116 - prc: 0.7303 - val_loss: 0.7355 - val_tp: 11550.0000 - val_fp: 0.0000e+00 - val_tn: 0.0000e+00 - val_fn: 6363.0000 - val_accuracy: 0.6448 - val_precision: 1.0000 - val_recall: 0.6448 - val_auc: 0.0000e+00 - val_prc: 1.0000: 12549.0000 - accuracy: \n",
      "Epoch 5/10\n",
      "20301/20301 [==============================] - 60s 3ms/step - loss: 0.5269 - tp: 28415.0000 - fp: 11736.0000 - tn: 47973.0000 - fn: 13381.0000 - accuracy: 0.7526 - precision: 0.7077 - recall: 0.6798 - auc: 0.8190 - prc: 0.7433 - val_loss: 0.5721 - val_tp: 13221.0000 - val_fp: 0.0000e+00 - val_tn: 0.0000e+00 - val_fn: 4692.0000 - val_accuracy: 0.7381 - val_precision: 1.0000 - val_recall: 0.7381 - val_auc: 0.0000e+00 - val_prc: 1.0000\n",
      "Epoch 6/10\n",
      "20301/20301 [==============================] - 60s 3ms/step - loss: 0.5192 - tp: 28727.0000 - fp: 11655.0000 - tn: 48054.0000 - fn: 13069.0000 - accuracy: 0.7564 - precision: 0.7114 - recall: 0.6873 - auc: 0.8242 - prc: 0.7526 - val_loss: 0.5657 - val_tp: 13549.0000 - val_fp: 0.0000e+00 - val_tn: 0.0000e+00 - val_fn: 4364.0000 - val_accuracy: 0.7564 - val_precision: 1.0000 - val_recall: 0.7564 - val_auc: 0.0000e+00 - val_prc: 1.0000\n",
      "Epoch 7/10\n",
      "20301/20301 [==============================] - 61s 3ms/step - loss: 0.5136 - tp: 29043.0000 - fp: 11442.0000 - tn: 48267.0000 - fn: 12753.0000 - accuracy: 0.7616 - precision: 0.7174 - recall: 0.6949 - auc: 0.8288 - prc: 0.7611 - val_loss: 0.6159 - val_tp: 12558.0000 - val_fp: 0.0000e+00 - val_tn: 0.0000e+00 - val_fn: 5355.0000 - val_accuracy: 0.7011 - val_precision: 1.0000 - val_recall: 0.7011 - val_auc: 0.0000e+00 - val_prc: 1.0000\n",
      "Epoch 8/10\n",
      "20301/20301 [==============================] - 62s 3ms/step - loss: 0.5077 - tp: 28901.0000 - fp: 11100.0000 - tn: 48609.0000 - fn: 12895.0000 - accuracy: 0.7636 - precision: 0.7225 - recall: 0.6915 - auc: 0.8325 - prc: 0.7688 - val_loss: 0.6725 - val_tp: 11908.0000 - val_fp: 0.0000e+00 - val_tn: 0.0000e+00 - val_fn: 6005.0000 - val_accuracy: 0.6648 - val_precision: 1.0000 - val_recall: 0.6648 - val_auc: 0.0000e+00 - val_prc: 1.0000\n",
      "Epoch 9/10\n",
      "20301/20301 [==============================] - 65s 3ms/step - loss: 0.5015 - tp: 28952.0000 - fp: 10746.0000 - tn: 48963.0000 - fn: 12844.0000 - accuracy: 0.7676 - precision: 0.7293 - recall: 0.6927 - auc: 0.8356 - prc: 0.7762 - val_loss: 0.6002 - val_tp: 12743.0000 - val_fp: 0.0000e+00 - val_tn: 0.0000e+00 - val_fn: 5170.0000 - val_accuracy: 0.7114 - val_precision: 1.0000 - val_recall: 0.7114 - val_auc: 0.0000e+00 - val_prc: 1.0000accuracy: 0.7676 - precision: 0.7293 - recall: 0.6928 - auc: 0.8356 - prc: 0.77\n",
      "Epoch 10/10\n",
      "20301/20301 [==============================] - 67s 3ms/step - loss: 0.4974 - tp: 28597.0000 - fp: 10273.0000 - tn: 49436.0000 - fn: 13199.0000 - accuracy: 0.7688 - precision: 0.7357 - recall: 0.6842 - auc: 0.8390 - prc: 0.7807 - val_loss: 0.5978 - val_tp: 12515.0000 - val_fp: 0.0000e+00 - val_tn: 0.0000e+00 - val_fn: 5398.0000 - val_accuracy: 0.6987 - val_precision: 1.0000 - val_recall: 0.6987 - val_auc: 0.0000e+00 - val_prc: 1.0000\n"
     ]
    }
   ],
   "source": [
    "results_nn_3 = model_nn_3.fit(\n",
    "                    x=x_resampled_clean, \n",
    "                    y=y_resampled_clean, \n",
    "                    epochs=10, \n",
    "                    batch_size=5, \n",
    "                    validation_split=0.15,\n",
    "                    #validation_data=(x_validate, y_validate),\n",
    "                    class_weight=sklearn_weights,\n",
    "                    callbacks = [earlystopper])\n"
   ]
  },
  {
   "cell_type": "code",
   "execution_count": 240,
   "metadata": {},
   "outputs": [
    {
     "data": {
      "image/png": "[encoded data removed]",
      "text/plain": [
       "<Figure size 432x288 with 1 Axes>"
      ]
     },
     "metadata": {
      "needs_background": "light"
     },
     "output_type": "display_data"
    },
    {
     "data": {
      "image/png": "[encoded data removed]",
      "text/plain": [
       "<Figure size 432x288 with 1 Axes>"
      ]
     },
     "metadata": {
      "needs_background": "light"
     },
     "output_type": "display_data"
    }
   ],
   "source": [
    "visualize_training_results_1(results_nn_3)"
   ]
  },
  {
   "cell_type": "code",
   "execution_count": null,
   "metadata": {},
   "outputs": [],
   "source": []
  }
 ],
 "metadata": {
  "kernelspec": {
   "display_name": "Python 3 (ipykernel)",
   "language": "python",
   "name": "python3"
  },
  "language_info": {
   "codemirror_mode": {
    "name": "ipython",
    "version": 3
   },
   "file_extension": ".py",
   "mimetype": "text/x-python",
   "name": "python",
   "nbconvert_exporter": "python",
   "pygments_lexer": "ipython3",
   "version": "3.9.12"
  },
  "vscode": {
   "interpreter": {
    "hash": "8027a6ddb6ef8998d5c27822941cfb2393e80a79facc7e50562c8baed23ed781"
   }
  }
 },
 "nbformat": 4,
 "nbformat_minor": 2
}
