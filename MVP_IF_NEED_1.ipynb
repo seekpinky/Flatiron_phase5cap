{
 "cells": [
  {
   "cell_type": "markdown",
   "id": "253a3390",
   "metadata": {},
   "source": [
    "Import the libraries"
   ]
  },
  {
   "cell_type": "code",
   "execution_count": 557,
   "id": "4260f433",
   "metadata": {},
   "outputs": [],
   "source": [
    "import pandas as pd\n",
    "# data analysis and wrangling\n",
    "from pandas import DataFrame\n",
    "import numpy as np\n",
    "import random as rnd\n",
    "import math\n",
    "import seaborn as sns\n",
    "from matplotlib import pyplot as plt\n",
    "from scipy import stats as stats\n",
    "\n",
    "# visualization\n",
    "import seaborn as sns\n",
    "sns.set_style('darkgrid')\n",
    "import matplotlib.pyplot as plt\n",
    "%matplotlib inline\n",
    "\n",
    "# scaling and train test split\n",
    "#from sklearn.model_selection import train_test_split,cross_val_score\n",
    "from sklearn.model_selection import train_test_split, cross_validate, GridSearchCV\n",
    "from sklearn.preprocessing import MinMaxScaler\n",
    "\n",
    "# pipeline setup\n",
    "#from sklearn.pipeline import Pipeline\n",
    "from sklearn.impute import SimpleImputer\n",
    "from sklearn.preprocessing import LabelEncoder\n",
    "from sklearn.preprocessing import OrdinalEncoder\n",
    "from sklearn.preprocessing import OneHotEncoder\n",
    "from sklearn.preprocessing import StandardScaler\n",
    "from sklearn.preprocessing import Normalizer\n",
    "from sklearn.preprocessing import MaxAbsScaler\n",
    "from sklearn.compose import ColumnTransformer\n",
    "from sklearn.impute import KNNImputer\n",
    "from sklearn.dummy import DummyClassifier\n",
    "from sklearn.linear_model import LogisticRegression\n",
    "from sklearn.neighbors import KNeighborsClassifier\n",
    "from sklearn.tree import DecisionTreeClassifier\n",
    "from sklearn.decomposition import PCA\n",
    "# cross validation\n",
    "from sklearn.model_selection import KFold\n",
    "# Import the evaluation matrics\n",
    "from sklearn.metrics import precision_score, recall_score, accuracy_score, f1_score\n",
    "from sklearn.metrics import precision_recall_curve\n",
    "from sklearn.metrics import average_precision_score, precision_recall_curve\n",
    "from sklearn.metrics import auc, plot_precision_recall_curve\n",
    "\n",
    "\n",
    "from sklearn.metrics import precision_score, recall_score, plot_confusion_matrix\n",
    "from sklearn.model_selection import train_test_split, GridSearchCV,\\\n",
    "cross_val_score, RandomizedSearchCV\n",
    "from sklearn.metrics import plot_precision_recall_curve\n",
    "\n",
    "from sklearn.tree import DecisionTreeClassifier \n",
    "from sklearn.metrics import accuracy_score, roc_curve, auc\n",
    "from sklearn.preprocessing import OneHotEncoder\n",
    "from sklearn import tree\n",
    "\n",
    "# evaluation on test data\n",
    "from sklearn import metrics\n",
    "from sklearn.metrics import classification_report,confusion_matrix\n",
    "# import library for Gradient Boosting\n",
    "\n",
    "from sklearn.ensemble import AdaBoostClassifier, GradientBoostingClassifier, RandomForestClassifier\n",
    "#import imbalance for SMOTE\n",
    "from imblearn.over_sampling import SMOTE, ADASYN\n",
    "from imblearn.pipeline import Pipeline\n",
    "\n",
    "#import pickle\n",
    "import pickle\n",
    "import joblib\n",
    "from joblib import parallel_backend\n",
    "from sklearn.utils import class_weight\n",
    "\n",
    "from sklearn.compose import ColumnTransformer\n",
    "from sklearn.linear_model import LogisticRegression\n",
    "from sklearn.metrics import precision_score, recall_score, plot_confusion_matrix\n",
    "\n",
    "\n",
    "#for NN network\n",
    "import tensorflow as tf    \n",
    "from tensorflow import keras  \n",
    "\n",
    "from sklearn.model_selection import cross_validate\n",
    "from sklearn.model_selection import KFold\n",
    "from sklearn.metrics import accuracy_score, confusion_matrix, roc_curve, roc_auc_score, precision_score, auc \n",
    "from sklearn.dummy import DummyClassifier\n",
    "\n",
    "from keras.utils.all_utils import to_categorical\n",
    "from keras.models import Sequential\n",
    "from keras.layers import Dense, Dropout\n",
    "from keras import optimizers\n",
    "from keras import losses, metrics\n",
    "from keras.wrappers.scikit_learn import KerasClassifier\n",
    "from keras.layers import Dense, LSTM, Dropout, GRU, Bidirectional\n",
    "from keras.callbacks import ModelCheckpoint, EarlyStopping\n",
    "\n",
    "from xgboost import XGBClassifier\n",
    "from sklearn.neural_network import MLPClassifier"
   ]
  },
  {
   "cell_type": "code",
   "execution_count": 558,
   "id": "a8148fee",
   "metadata": {},
   "outputs": [],
   "source": [
    "file_path_1 = ('\\\\Users\\\\eggfr\\\\Flatiron\\\\Flatiron_phase5cap\\\\Flatiron_phase5cap\\\\data\\\\Auto_Train_Dataset.csv')\n",
    "file_path_2 = ('\\\\Users\\\\eggfr\\\\Flatiron\\\\Flatiron_phase5cap\\\\Flatiron_phase5cap\\\\data\\\\Auto_Data_Dictionary.csv')"
   ]
  },
  {
   "cell_type": "code",
   "execution_count": 559,
   "id": "23ffb3dd",
   "metadata": {},
   "outputs": [
    {
     "name": "stderr",
     "output_type": "stream",
     "text": [
      "C:\\Users\\eggfr\\AppData\\Local\\Temp\\ipykernel_7248\\4212711854.py:1: DtypeWarning: Columns (1,7,8,16,17,18,19,20,35) have mixed types. Specify dtype option on import or set low_memory=False.\n",
      "  autoloan_raw_df = pd.read_csv(file_path_1,encoding='unicode_escape')\n"
     ]
    },
    {
     "data": {
      "text/html": [
       "<div>\n",
       "<style scoped>\n",
       "    .dataframe tbody tr th:only-of-type {\n",
       "        vertical-align: middle;\n",
       "    }\n",
       "\n",
       "    .dataframe tbody tr th {\n",
       "        vertical-align: top;\n",
       "    }\n",
       "\n",
       "    .dataframe thead th {\n",
       "        text-align: right;\n",
       "    }\n",
       "</style>\n",
       "<table border=\"1\" class=\"dataframe\">\n",
       "  <thead>\n",
       "    <tr style=\"text-align: right;\">\n",
       "      <th></th>\n",
       "      <th>ID</th>\n",
       "      <th>Client_Income</th>\n",
       "      <th>Car_Owned</th>\n",
       "      <th>Bike_Owned</th>\n",
       "      <th>Active_Loan</th>\n",
       "      <th>House_Own</th>\n",
       "      <th>Child_Count</th>\n",
       "      <th>Credit_Amount</th>\n",
       "      <th>Loan_Annuity</th>\n",
       "      <th>Accompany_Client</th>\n",
       "      <th>...</th>\n",
       "      <th>Client_Permanent_Match_Tag</th>\n",
       "      <th>Client_Contact_Work_Tag</th>\n",
       "      <th>Type_Organization</th>\n",
       "      <th>Score_Source_1</th>\n",
       "      <th>Score_Source_2</th>\n",
       "      <th>Score_Source_3</th>\n",
       "      <th>Social_Circle_Default</th>\n",
       "      <th>Phone_Change</th>\n",
       "      <th>Credit_Bureau</th>\n",
       "      <th>Default</th>\n",
       "    </tr>\n",
       "  </thead>\n",
       "  <tbody>\n",
       "    <tr>\n",
       "      <th>0</th>\n",
       "      <td>12142509</td>\n",
       "      <td>6750</td>\n",
       "      <td>0.0</td>\n",
       "      <td>0.0</td>\n",
       "      <td>1.0</td>\n",
       "      <td>0.0</td>\n",
       "      <td>0.0</td>\n",
       "      <td>61190.55</td>\n",
       "      <td>3416.85</td>\n",
       "      <td>Alone</td>\n",
       "      <td>...</td>\n",
       "      <td>Yes</td>\n",
       "      <td>Yes</td>\n",
       "      <td>Self-employed</td>\n",
       "      <td>0.568066</td>\n",
       "      <td>0.478787</td>\n",
       "      <td>NaN</td>\n",
       "      <td>0.0186</td>\n",
       "      <td>63.0</td>\n",
       "      <td>NaN</td>\n",
       "      <td>0</td>\n",
       "    </tr>\n",
       "    <tr>\n",
       "      <th>1</th>\n",
       "      <td>12138936</td>\n",
       "      <td>20250</td>\n",
       "      <td>1.0</td>\n",
       "      <td>0.0</td>\n",
       "      <td>1.0</td>\n",
       "      <td>NaN</td>\n",
       "      <td>0.0</td>\n",
       "      <td>15282</td>\n",
       "      <td>1826.55</td>\n",
       "      <td>Alone</td>\n",
       "      <td>...</td>\n",
       "      <td>Yes</td>\n",
       "      <td>Yes</td>\n",
       "      <td>Government</td>\n",
       "      <td>0.563360</td>\n",
       "      <td>0.215068</td>\n",
       "      <td>NaN</td>\n",
       "      <td>NaN</td>\n",
       "      <td>NaN</td>\n",
       "      <td>NaN</td>\n",
       "      <td>0</td>\n",
       "    </tr>\n",
       "    <tr>\n",
       "      <th>2</th>\n",
       "      <td>12181264</td>\n",
       "      <td>18000</td>\n",
       "      <td>0.0</td>\n",
       "      <td>0.0</td>\n",
       "      <td>1.0</td>\n",
       "      <td>0.0</td>\n",
       "      <td>1.0</td>\n",
       "      <td>59527.35</td>\n",
       "      <td>2788.2</td>\n",
       "      <td>Alone</td>\n",
       "      <td>...</td>\n",
       "      <td>Yes</td>\n",
       "      <td>Yes</td>\n",
       "      <td>Self-employed</td>\n",
       "      <td>NaN</td>\n",
       "      <td>0.552795</td>\n",
       "      <td>0.329655</td>\n",
       "      <td>0.0742</td>\n",
       "      <td>277.0</td>\n",
       "      <td>0.0</td>\n",
       "      <td>0</td>\n",
       "    </tr>\n",
       "    <tr>\n",
       "      <th>3</th>\n",
       "      <td>12188929</td>\n",
       "      <td>15750</td>\n",
       "      <td>0.0</td>\n",
       "      <td>0.0</td>\n",
       "      <td>1.0</td>\n",
       "      <td>1.0</td>\n",
       "      <td>0.0</td>\n",
       "      <td>53870.4</td>\n",
       "      <td>2295.45</td>\n",
       "      <td>Alone</td>\n",
       "      <td>...</td>\n",
       "      <td>Yes</td>\n",
       "      <td>Yes</td>\n",
       "      <td>XNA</td>\n",
       "      <td>NaN</td>\n",
       "      <td>0.135182</td>\n",
       "      <td>0.631355</td>\n",
       "      <td>NaN</td>\n",
       "      <td>1700.0</td>\n",
       "      <td>3.0</td>\n",
       "      <td>0</td>\n",
       "    </tr>\n",
       "    <tr>\n",
       "      <th>4</th>\n",
       "      <td>12133385</td>\n",
       "      <td>33750</td>\n",
       "      <td>1.0</td>\n",
       "      <td>0.0</td>\n",
       "      <td>1.0</td>\n",
       "      <td>0.0</td>\n",
       "      <td>2.0</td>\n",
       "      <td>133988.4</td>\n",
       "      <td>3547.35</td>\n",
       "      <td>Alone</td>\n",
       "      <td>...</td>\n",
       "      <td>Yes</td>\n",
       "      <td>Yes</td>\n",
       "      <td>Business Entity Type 3</td>\n",
       "      <td>0.508199</td>\n",
       "      <td>0.301182</td>\n",
       "      <td>0.355639</td>\n",
       "      <td>0.2021</td>\n",
       "      <td>674.0</td>\n",
       "      <td>1.0</td>\n",
       "      <td>0</td>\n",
       "    </tr>\n",
       "  </tbody>\n",
       "</table>\n",
       "<p>5 rows × 40 columns</p>\n",
       "</div>"
      ],
      "text/plain": [
       "         ID Client_Income  Car_Owned  Bike_Owned  Active_Loan  House_Own  \\\n",
       "0  12142509          6750        0.0         0.0          1.0        0.0   \n",
       "1  12138936         20250        1.0         0.0          1.0        NaN   \n",
       "2  12181264         18000        0.0         0.0          1.0        0.0   \n",
       "3  12188929         15750        0.0         0.0          1.0        1.0   \n",
       "4  12133385         33750        1.0         0.0          1.0        0.0   \n",
       "\n",
       "   Child_Count Credit_Amount Loan_Annuity Accompany_Client  ...  \\\n",
       "0          0.0      61190.55      3416.85            Alone  ...   \n",
       "1          0.0         15282      1826.55            Alone  ...   \n",
       "2          1.0      59527.35       2788.2            Alone  ...   \n",
       "3          0.0       53870.4      2295.45            Alone  ...   \n",
       "4          2.0      133988.4      3547.35            Alone  ...   \n",
       "\n",
       "  Client_Permanent_Match_Tag Client_Contact_Work_Tag       Type_Organization  \\\n",
       "0                        Yes                     Yes           Self-employed   \n",
       "1                        Yes                     Yes              Government   \n",
       "2                        Yes                     Yes           Self-employed   \n",
       "3                        Yes                     Yes                     XNA   \n",
       "4                        Yes                     Yes  Business Entity Type 3   \n",
       "\n",
       "  Score_Source_1 Score_Source_2 Score_Source_3 Social_Circle_Default  \\\n",
       "0       0.568066       0.478787            NaN                0.0186   \n",
       "1       0.563360       0.215068            NaN                   NaN   \n",
       "2            NaN       0.552795       0.329655                0.0742   \n",
       "3            NaN       0.135182       0.631355                   NaN   \n",
       "4       0.508199       0.301182       0.355639                0.2021   \n",
       "\n",
       "  Phone_Change Credit_Bureau Default  \n",
       "0         63.0           NaN       0  \n",
       "1          NaN           NaN       0  \n",
       "2        277.0           0.0       0  \n",
       "3       1700.0           3.0       0  \n",
       "4        674.0           1.0       0  \n",
       "\n",
       "[5 rows x 40 columns]"
      ]
     },
     "execution_count": 559,
     "metadata": {},
     "output_type": "execute_result"
    }
   ],
   "source": [
    "autoloan_raw_df = pd.read_csv(file_path_1,encoding='unicode_escape') \n",
    "autoloan_raw_df.head()"
   ]
  },
  {
   "cell_type": "code",
   "execution_count": null,
   "id": "50dc59b7",
   "metadata": {},
   "outputs": [],
   "source": []
  },
  {
   "cell_type": "code",
   "execution_count": 560,
   "id": "fd6ccdf8",
   "metadata": {},
   "outputs": [],
   "source": [
    "autoloan_raw_df['Client_Income'] = pd.to_numeric(autoloan_raw_df['Client_Income'], errors='coerce')\n",
    "autoloan_raw_df['Credit_Amount'] = pd.to_numeric(autoloan_raw_df['Credit_Amount'], errors='coerce')\n",
    "autoloan_raw_df['Loan_Annuity'] = pd.to_numeric(autoloan_raw_df['Loan_Annuity'], errors='coerce')\n",
    "autoloan_raw_df['Age_Days'] = pd.to_numeric(autoloan_raw_df['Age_Days'], errors='coerce')\n",
    "autoloan_raw_df['Employed_Days'] = pd.to_numeric(autoloan_raw_df['Employed_Days'], errors='coerce')\n",
    "autoloan_raw_df['Registration_Days'] = pd.to_numeric(autoloan_raw_df['Registration_Days'], errors='coerce')\n",
    "autoloan_raw_df['ID_Days'] = pd.to_numeric(autoloan_raw_df['ID_Days'], errors='coerce')"
   ]
  },
  {
   "cell_type": "code",
   "execution_count": 561,
   "id": "7bd63177",
   "metadata": {
    "scrolled": true
   },
   "outputs": [
    {
     "name": "stdout",
     "output_type": "stream",
     "text": [
      "<class 'pandas.core.frame.DataFrame'>\n",
      "RangeIndex: 121856 entries, 0 to 121855\n",
      "Data columns (total 40 columns):\n",
      " #   Column                      Non-Null Count   Dtype  \n",
      "---  ------                      --------------   -----  \n",
      " 0   ID                          121856 non-null  int64  \n",
      " 1   Client_Income               118234 non-null  float64\n",
      " 2   Car_Owned                   118275 non-null  float64\n",
      " 3   Bike_Owned                  118232 non-null  float64\n",
      " 4   Active_Loan                 118221 non-null  float64\n",
      " 5   House_Own                   118195 non-null  float64\n",
      " 6   Child_Count                 118218 non-null  float64\n",
      " 7   Credit_Amount               118219 non-null  float64\n",
      " 8   Loan_Annuity                117030 non-null  float64\n",
      " 9   Accompany_Client            120110 non-null  object \n",
      " 10  Client_Income_Type          118155 non-null  object \n",
      " 11  Client_Education            118211 non-null  object \n",
      " 12  Client_Marital_Status       118383 non-null  object \n",
      " 13  Client_Gender               119443 non-null  object \n",
      " 14  Loan_Contract_Type          118205 non-null  object \n",
      " 15  Client_Housing_Type         118169 non-null  object \n",
      " 16  Population_Region_Relative  116999 non-null  object \n",
      " 17  Age_Days                    118239 non-null  float64\n",
      " 18  Employed_Days               118190 non-null  float64\n",
      " 19  Registration_Days           118225 non-null  float64\n",
      " 20  ID_Days                     115871 non-null  float64\n",
      " 21  Own_House_Age               41761 non-null   float64\n",
      " 22  Mobile_Tag                  121856 non-null  int64  \n",
      " 23  Homephone_Tag               121856 non-null  int64  \n",
      " 24  Workphone_Working           121856 non-null  int64  \n",
      " 25  Client_Occupation           80421 non-null   object \n",
      " 26  Client_Family_Members       119446 non-null  float64\n",
      " 27  Cleint_City_Rating          119447 non-null  float64\n",
      " 28  Application_Process_Day     119428 non-null  float64\n",
      " 29  Application_Process_Hour    118193 non-null  float64\n",
      " 30  Client_Permanent_Match_Tag  121856 non-null  object \n",
      " 31  Client_Contact_Work_Tag     121856 non-null  object \n",
      " 32  Type_Organization           118247 non-null  object \n",
      " 33  Score_Source_1              53021 non-null   float64\n",
      " 34  Score_Source_2              116170 non-null  float64\n",
      " 35  Score_Source_3              94935 non-null   object \n",
      " 36  Social_Circle_Default       59928 non-null   float64\n",
      " 37  Phone_Change                118192 non-null  float64\n",
      " 38  Credit_Bureau               103316 non-null  float64\n",
      " 39  Default                     121856 non-null  int64  \n",
      "dtypes: float64(22), int64(5), object(13)\n",
      "memory usage: 37.2+ MB\n"
     ]
    }
   ],
   "source": [
    "autoloan_raw_df.info()"
   ]
  },
  {
   "cell_type": "markdown",
   "id": "301f549a",
   "metadata": {},
   "source": [
    "# Data Understanding"
   ]
  },
  {
   "cell_type": "markdown",
   "id": "fa5c6229",
   "metadata": {},
   "source": [
    "2.2 Data Undestanding and Identifying Features and Target"
   ]
  },
  {
   "cell_type": "code",
   "execution_count": null,
   "id": "02471f73",
   "metadata": {},
   "outputs": [],
   "source": []
  },
  {
   "cell_type": "markdown",
   "id": "34b5c02f",
   "metadata": {},
   "source": [
    "Once the data is loaded into a pandas data frame, the next step is identifying which columns represent features and which represent the target. In this project, we will focus on classifying whether loans are defaulted using data collected from a project competition in the Hackathon platform via Kaggle, which can be found at this link. https://www.kaggle.com/datasets/saurabhbagchi/dish-network-hackathon?select=Test_Dataset.csv.\n",
    "\n",
    "The page provides two datasets, TrainDataset and TestDataset. This model building is to be done on TrainDataset. Test dataset from the link isn't used as ['Default'] data is missing.\n",
    "\n",
    "There are 121856 total rows of data. There are 39 columns of features. In the first column, respondent_id is a unique and random identifier. The remaining 38 features are described in the data library description.\n"
   ]
  },
  {
   "cell_type": "markdown",
   "id": "cdd55432",
   "metadata": {},
   "source": [
    "Exploratory Data Analysis"
   ]
  },
  {
   "cell_type": "markdown",
   "id": "8dffef37",
   "metadata": {},
   "source": [
    "Let's examine default status of loan of this data set."
   ]
  },
  {
   "cell_type": "code",
   "execution_count": 562,
   "id": "1451e2b3",
   "metadata": {
    "scrolled": true
   },
   "outputs": [
    {
     "data": {
      "image/png": "[encoded data removed]",
      "text/plain": [
       "<Figure size 432x288 with 1 Axes>"
      ]
     },
     "metadata": {},
     "output_type": "display_data"
    },
    {
     "data": {
      "text/plain": [
       "<Figure size 2160x2448 with 0 Axes>"
      ]
     },
     "metadata": {},
     "output_type": "display_data"
    }
   ],
   "source": [
    "plt.pie(autoloan_raw_df['Default'].value_counts(), labels=['No', 'Yes'], autopct='%1.2f%%')\n",
    "plt.title('% of Default Loan')\n",
    "fig.set_figheight(10)\n",
    "plt.figure(figsize=(30,34))\n",
    "plt.show()"
   ]
  },
  {
   "cell_type": "markdown",
   "id": "c140cb81",
   "metadata": {},
   "source": [
    "Around 8% of loans is defaulted, so it is an imbalanced dataset."
   ]
  },
  {
   "cell_type": "code",
   "execution_count": 563,
   "id": "84c4f609",
   "metadata": {},
   "outputs": [
    {
     "data": {
      "text/plain": [
       "0    0.919208\n",
       "1    0.080792\n",
       "Name: Default, dtype: float64"
      ]
     },
     "execution_count": 563,
     "metadata": {},
     "output_type": "execute_result"
    }
   ],
   "source": [
    "autoloan_raw_df['Default'].value_counts(normalize=True)"
   ]
  },
  {
   "cell_type": "code",
   "execution_count": 564,
   "id": "95052ac3",
   "metadata": {},
   "outputs": [],
   "source": [
    "autoloan_lib_raw_df = pd.read_csv(file_path_2,encoding='unicode_escape') "
   ]
  },
  {
   "cell_type": "markdown",
   "id": "801933f0",
   "metadata": {},
   "source": [
    "Data library description is shown as below."
   ]
  },
  {
   "cell_type": "code",
   "execution_count": 565,
   "id": "0a2b7b05",
   "metadata": {
    "scrolled": false
   },
   "outputs": [
    {
     "data": {
      "text/html": [
       "<style type=\"text/css\">\n",
       "#T_2caa2 th {\n",
       "  text-align: left;\n",
       "}\n",
       "#T_2caa2_row0_col0, #T_2caa2_row0_col1, #T_2caa2_row1_col0, #T_2caa2_row1_col1, #T_2caa2_row2_col0, #T_2caa2_row2_col1, #T_2caa2_row3_col0, #T_2caa2_row3_col1, #T_2caa2_row4_col0, #T_2caa2_row4_col1, #T_2caa2_row5_col0, #T_2caa2_row5_col1, #T_2caa2_row6_col0, #T_2caa2_row6_col1, #T_2caa2_row7_col0, #T_2caa2_row7_col1, #T_2caa2_row8_col0, #T_2caa2_row8_col1, #T_2caa2_row9_col0, #T_2caa2_row9_col1, #T_2caa2_row10_col0, #T_2caa2_row10_col1, #T_2caa2_row11_col0, #T_2caa2_row11_col1, #T_2caa2_row12_col0, #T_2caa2_row12_col1, #T_2caa2_row13_col0, #T_2caa2_row13_col1, #T_2caa2_row14_col0, #T_2caa2_row14_col1, #T_2caa2_row15_col0, #T_2caa2_row15_col1, #T_2caa2_row16_col0, #T_2caa2_row16_col1, #T_2caa2_row17_col0, #T_2caa2_row17_col1, #T_2caa2_row18_col0, #T_2caa2_row18_col1, #T_2caa2_row19_col0, #T_2caa2_row19_col1, #T_2caa2_row20_col0, #T_2caa2_row20_col1, #T_2caa2_row21_col0, #T_2caa2_row21_col1, #T_2caa2_row22_col0, #T_2caa2_row22_col1, #T_2caa2_row23_col0, #T_2caa2_row23_col1, #T_2caa2_row24_col0, #T_2caa2_row24_col1, #T_2caa2_row25_col0, #T_2caa2_row25_col1, #T_2caa2_row26_col0, #T_2caa2_row26_col1, #T_2caa2_row27_col0, #T_2caa2_row27_col1, #T_2caa2_row28_col0, #T_2caa2_row28_col1, #T_2caa2_row29_col0, #T_2caa2_row29_col1, #T_2caa2_row30_col0, #T_2caa2_row30_col1, #T_2caa2_row31_col0, #T_2caa2_row31_col1, #T_2caa2_row32_col0, #T_2caa2_row32_col1, #T_2caa2_row33_col0, #T_2caa2_row33_col1, #T_2caa2_row34_col0, #T_2caa2_row34_col1, #T_2caa2_row35_col0, #T_2caa2_row35_col1, #T_2caa2_row36_col0, #T_2caa2_row36_col1, #T_2caa2_row37_col0, #T_2caa2_row37_col1, #T_2caa2_row38_col0, #T_2caa2_row38_col1, #T_2caa2_row39_col0, #T_2caa2_row39_col1 {\n",
       "  text-align: left;\n",
       "}\n",
       "</style>\n",
       "<table id=\"T_2caa2\">\n",
       "  <thead>\n",
       "    <tr>\n",
       "      <th class=\"blank level0\" >&nbsp;</th>\n",
       "      <th id=\"T_2caa2_level0_col0\" class=\"col_heading level0 col0\" >Variable</th>\n",
       "      <th id=\"T_2caa2_level0_col1\" class=\"col_heading level0 col1\" >Description</th>\n",
       "    </tr>\n",
       "  </thead>\n",
       "  <tbody>\n",
       "    <tr>\n",
       "      <th id=\"T_2caa2_level0_row0\" class=\"row_heading level0 row0\" >0</th>\n",
       "      <td id=\"T_2caa2_row0_col0\" class=\"data row0 col0\" >ID</td>\n",
       "      <td id=\"T_2caa2_row0_col1\" class=\"data row0 col1\" >Client Loan application ID</td>\n",
       "    </tr>\n",
       "    <tr>\n",
       "      <th id=\"T_2caa2_level0_row1\" class=\"row_heading level0 row1\" >1</th>\n",
       "      <td id=\"T_2caa2_row1_col0\" class=\"data row1 col0\" >Client_Income</td>\n",
       "      <td id=\"T_2caa2_row1_col1\" class=\"data row1 col1\" >Client Income in $</td>\n",
       "    </tr>\n",
       "    <tr>\n",
       "      <th id=\"T_2caa2_level0_row2\" class=\"row_heading level0 row2\" >2</th>\n",
       "      <td id=\"T_2caa2_row2_col0\" class=\"data row2 col0\" >Car_Owned</td>\n",
       "      <td id=\"T_2caa2_row2_col1\" class=\"data row2 col1\" >Any Car owned by client before applying for the loan for another car (0 means No and 1 means otherwise)</td>\n",
       "    </tr>\n",
       "    <tr>\n",
       "      <th id=\"T_2caa2_level0_row3\" class=\"row_heading level0 row3\" >3</th>\n",
       "      <td id=\"T_2caa2_row3_col0\" class=\"data row3 col0\" >Bike_Owned</td>\n",
       "      <td id=\"T_2caa2_row3_col1\" class=\"data row3 col1\" >Any bike owned by client (0 means No and 1 means otherwise)</td>\n",
       "    </tr>\n",
       "    <tr>\n",
       "      <th id=\"T_2caa2_level0_row4\" class=\"row_heading level0 row4\" >4</th>\n",
       "      <td id=\"T_2caa2_row4_col0\" class=\"data row4 col0\" >Active_Loan</td>\n",
       "      <td id=\"T_2caa2_row4_col1\" class=\"data row4 col1\" >Any other active loan at the time of aplication of loan (0 means No and 1 means otherwise)</td>\n",
       "    </tr>\n",
       "    <tr>\n",
       "      <th id=\"T_2caa2_level0_row5\" class=\"row_heading level0 row5\" >5</th>\n",
       "      <td id=\"T_2caa2_row5_col0\" class=\"data row5 col0\" >House_Own</td>\n",
       "      <td id=\"T_2caa2_row5_col1\" class=\"data row5 col1\" >Any house owned by client (0 means No and 1 means otherwise)</td>\n",
       "    </tr>\n",
       "    <tr>\n",
       "      <th id=\"T_2caa2_level0_row6\" class=\"row_heading level0 row6\" >6</th>\n",
       "      <td id=\"T_2caa2_row6_col0\" class=\"data row6 col0\" >Child_Count</td>\n",
       "      <td id=\"T_2caa2_row6_col1\" class=\"data row6 col1\" >Number of children the client has</td>\n",
       "    </tr>\n",
       "    <tr>\n",
       "      <th id=\"T_2caa2_level0_row7\" class=\"row_heading level0 row7\" >7</th>\n",
       "      <td id=\"T_2caa2_row7_col0\" class=\"data row7 col0\" >Credit_Amount</td>\n",
       "      <td id=\"T_2caa2_row7_col1\" class=\"data row7 col1\" >Credit amount of the loan in $</td>\n",
       "    </tr>\n",
       "    <tr>\n",
       "      <th id=\"T_2caa2_level0_row8\" class=\"row_heading level0 row8\" >8</th>\n",
       "      <td id=\"T_2caa2_row8_col0\" class=\"data row8 col0\" >Loan_Annuity</td>\n",
       "      <td id=\"T_2caa2_row8_col1\" class=\"data row8 col1\" >Loan annuity in $</td>\n",
       "    </tr>\n",
       "    <tr>\n",
       "      <th id=\"T_2caa2_level0_row9\" class=\"row_heading level0 row9\" >9</th>\n",
       "      <td id=\"T_2caa2_row9_col0\" class=\"data row9 col0\" >Accompany_Client</td>\n",
       "      <td id=\"T_2caa2_row9_col1\" class=\"data row9 col1\" >Who accompanied the client when client applied for the loan</td>\n",
       "    </tr>\n",
       "    <tr>\n",
       "      <th id=\"T_2caa2_level0_row10\" class=\"row_heading level0 row10\" >10</th>\n",
       "      <td id=\"T_2caa2_row10_col0\" class=\"data row10 col0\" >Client_Income_Type</td>\n",
       "      <td id=\"T_2caa2_row10_col1\" class=\"data row10 col1\" >Clients income type</td>\n",
       "    </tr>\n",
       "    <tr>\n",
       "      <th id=\"T_2caa2_level0_row11\" class=\"row_heading level0 row11\" >11</th>\n",
       "      <td id=\"T_2caa2_row11_col0\" class=\"data row11 col0\" >Client_Education</td>\n",
       "      <td id=\"T_2caa2_row11_col1\" class=\"data row11 col1\" >Highest level of education ahieved by client</td>\n",
       "    </tr>\n",
       "    <tr>\n",
       "      <th id=\"T_2caa2_level0_row12\" class=\"row_heading level0 row12\" >12</th>\n",
       "      <td id=\"T_2caa2_row12_col0\" class=\"data row12 col0\" >Client_Marital_Status</td>\n",
       "      <td id=\"T_2caa2_row12_col1\" class=\"data row12 col1\" >Marital status of client (D- Divorced, S- Single, M- Married, W- Widowed)</td>\n",
       "    </tr>\n",
       "    <tr>\n",
       "      <th id=\"T_2caa2_level0_row13\" class=\"row_heading level0 row13\" >13</th>\n",
       "      <td id=\"T_2caa2_row13_col0\" class=\"data row13 col0\" >Client_Gender</td>\n",
       "      <td id=\"T_2caa2_row13_col1\" class=\"data row13 col1\" >Gender of the Client</td>\n",
       "    </tr>\n",
       "    <tr>\n",
       "      <th id=\"T_2caa2_level0_row14\" class=\"row_heading level0 row14\" >14</th>\n",
       "      <td id=\"T_2caa2_row14_col0\" class=\"data row14 col0\" >Loan_Contract_Type</td>\n",
       "      <td id=\"T_2caa2_row14_col1\" class=\"data row14 col1\" >Loan Type (CL- Cash Loan, RL- Revolving Loan)</td>\n",
       "    </tr>\n",
       "    <tr>\n",
       "      <th id=\"T_2caa2_level0_row15\" class=\"row_heading level0 row15\" >15</th>\n",
       "      <td id=\"T_2caa2_row15_col0\" class=\"data row15 col0\" >Client_Housing_Type</td>\n",
       "      <td id=\"T_2caa2_row15_col1\" class=\"data row15 col1\" >Client Housing situation</td>\n",
       "    </tr>\n",
       "    <tr>\n",
       "      <th id=\"T_2caa2_level0_row16\" class=\"row_heading level0 row16\" >16</th>\n",
       "      <td id=\"T_2caa2_row16_col0\" class=\"data row16 col0\" >Population_Region_Relative</td>\n",
       "      <td id=\"T_2caa2_row16_col1\" class=\"data row16 col1\" >Relative population of the region where the client is living. Higher value means the client is living in more populated area</td>\n",
       "    </tr>\n",
       "    <tr>\n",
       "      <th id=\"T_2caa2_level0_row17\" class=\"row_heading level0 row17\" >17</th>\n",
       "      <td id=\"T_2caa2_row17_col0\" class=\"data row17 col0\" >Age_Days</td>\n",
       "      <td id=\"T_2caa2_row17_col1\" class=\"data row17 col1\" >Age of the client at the time of application submission</td>\n",
       "    </tr>\n",
       "    <tr>\n",
       "      <th id=\"T_2caa2_level0_row18\" class=\"row_heading level0 row18\" >18</th>\n",
       "      <td id=\"T_2caa2_row18_col0\" class=\"data row18 col0\" >Employed_Days</td>\n",
       "      <td id=\"T_2caa2_row18_col1\" class=\"data row18 col1\" >Days before the application, the client started earning</td>\n",
       "    </tr>\n",
       "    <tr>\n",
       "      <th id=\"T_2caa2_level0_row19\" class=\"row_heading level0 row19\" >19</th>\n",
       "      <td id=\"T_2caa2_row19_col0\" class=\"data row19 col0\" >Registration_Days</td>\n",
       "      <td id=\"T_2caa2_row19_col1\" class=\"data row19 col1\" >Days before the loan application, the client changed his/her registration</td>\n",
       "    </tr>\n",
       "    <tr>\n",
       "      <th id=\"T_2caa2_level0_row20\" class=\"row_heading level0 row20\" >20</th>\n",
       "      <td id=\"T_2caa2_row20_col0\" class=\"data row20 col0\" >ID_Days</td>\n",
       "      <td id=\"T_2caa2_row20_col1\" class=\"data row20 col1\" >Days before the loan application, the client changed his/her identity document with which the loan was applied</td>\n",
       "    </tr>\n",
       "    <tr>\n",
       "      <th id=\"T_2caa2_level0_row21\" class=\"row_heading level0 row21\" >21</th>\n",
       "      <td id=\"T_2caa2_row21_col0\" class=\"data row21 col0\" >Own_House_Age</td>\n",
       "      <td id=\"T_2caa2_row21_col1\" class=\"data row21 col1\" >Age of Client's house in years</td>\n",
       "    </tr>\n",
       "    <tr>\n",
       "      <th id=\"T_2caa2_level0_row22\" class=\"row_heading level0 row22\" >22</th>\n",
       "      <td id=\"T_2caa2_row22_col0\" class=\"data row22 col0\" >Mobile_Tag</td>\n",
       "      <td id=\"T_2caa2_row22_col1\" class=\"data row22 col1\" >Mobile Number provided by Client (1 means Yes and 0 means No)</td>\n",
       "    </tr>\n",
       "    <tr>\n",
       "      <th id=\"T_2caa2_level0_row23\" class=\"row_heading level0 row23\" >23</th>\n",
       "      <td id=\"T_2caa2_row23_col0\" class=\"data row23 col0\" >Homephone_Tag</td>\n",
       "      <td id=\"T_2caa2_row23_col1\" class=\"data row23 col1\" >Homephone Number provided by Client (1 means Yes and 0 means No)</td>\n",
       "    </tr>\n",
       "    <tr>\n",
       "      <th id=\"T_2caa2_level0_row24\" class=\"row_heading level0 row24\" >24</th>\n",
       "      <td id=\"T_2caa2_row24_col0\" class=\"data row24 col0\" >Workphone_Working</td>\n",
       "      <td id=\"T_2caa2_row24_col1\" class=\"data row24 col1\" >Was workphone number reachable (1 means Yes and 0 means No)</td>\n",
       "    </tr>\n",
       "    <tr>\n",
       "      <th id=\"T_2caa2_level0_row25\" class=\"row_heading level0 row25\" >25</th>\n",
       "      <td id=\"T_2caa2_row25_col0\" class=\"data row25 col0\" >Client_Occupation</td>\n",
       "      <td id=\"T_2caa2_row25_col1\" class=\"data row25 col1\" >Client Occupation type</td>\n",
       "    </tr>\n",
       "    <tr>\n",
       "      <th id=\"T_2caa2_level0_row26\" class=\"row_heading level0 row26\" >26</th>\n",
       "      <td id=\"T_2caa2_row26_col0\" class=\"data row26 col0\" >Client_Family_Members</td>\n",
       "      <td id=\"T_2caa2_row26_col1\" class=\"data row26 col1\" >Number of family members does client have</td>\n",
       "    </tr>\n",
       "    <tr>\n",
       "      <th id=\"T_2caa2_level0_row27\" class=\"row_heading level0 row27\" >27</th>\n",
       "      <td id=\"T_2caa2_row27_col0\" class=\"data row27 col0\" >Cleint_City_Rating</td>\n",
       "      <td id=\"T_2caa2_row27_col1\" class=\"data row27 col1\" >Client city rating. 3 denotes best and 2 denotes good and 1 denotes average</td>\n",
       "    </tr>\n",
       "    <tr>\n",
       "      <th id=\"T_2caa2_level0_row28\" class=\"row_heading level0 row28\" >28</th>\n",
       "      <td id=\"T_2caa2_row28_col0\" class=\"data row28 col0\" >Application_Process_Day</td>\n",
       "      <td id=\"T_2caa2_row28_col1\" class=\"data row28 col1\" >Day of the week on which client applied for the loan (0-Sun, 1-Mon,2-Tues, 3-Wed, 4-Thrus,5-Fri, 6-Sat)</td>\n",
       "    </tr>\n",
       "    <tr>\n",
       "      <th id=\"T_2caa2_level0_row29\" class=\"row_heading level0 row29\" >29</th>\n",
       "      <td id=\"T_2caa2_row29_col0\" class=\"data row29 col0\" >Application_Process_Hour</td>\n",
       "      <td id=\"T_2caa2_row29_col1\" class=\"data row29 col1\" >hour of the day on which client applied for the loan</td>\n",
       "    </tr>\n",
       "    <tr>\n",
       "      <th id=\"T_2caa2_level0_row30\" class=\"row_heading level0 row30\" >30</th>\n",
       "      <td id=\"T_2caa2_row30_col0\" class=\"data row30 col0\" >Client_Permanent_Match_Tag</td>\n",
       "      <td id=\"T_2caa2_row30_col1\" class=\"data row30 col1\" >Indication if client contact address does not match permanent address.</td>\n",
       "    </tr>\n",
       "    <tr>\n",
       "      <th id=\"T_2caa2_level0_row31\" class=\"row_heading level0 row31\" >31</th>\n",
       "      <td id=\"T_2caa2_row31_col0\" class=\"data row31 col0\" >Client_Contact_Work_Tag</td>\n",
       "      <td id=\"T_2caa2_row31_col1\" class=\"data row31 col1\" >Indication if client work address does not match contact address.</td>\n",
       "    </tr>\n",
       "    <tr>\n",
       "      <th id=\"T_2caa2_level0_row32\" class=\"row_heading level0 row32\" >32</th>\n",
       "      <td id=\"T_2caa2_row32_col0\" class=\"data row32 col0\" >Type_Organization</td>\n",
       "      <td id=\"T_2caa2_row32_col1\" class=\"data row32 col1\" >Type of organization where client works</td>\n",
       "    </tr>\n",
       "    <tr>\n",
       "      <th id=\"T_2caa2_level0_row33\" class=\"row_heading level0 row33\" >33</th>\n",
       "      <td id=\"T_2caa2_row33_col0\" class=\"data row33 col0\" >Score_Source_1</td>\n",
       "      <td id=\"T_2caa2_row33_col1\" class=\"data row33 col1\" >Score sourced from other source. This is a normalzied socre</td>\n",
       "    </tr>\n",
       "    <tr>\n",
       "      <th id=\"T_2caa2_level0_row34\" class=\"row_heading level0 row34\" >34</th>\n",
       "      <td id=\"T_2caa2_row34_col0\" class=\"data row34 col0\" >Score_Source_2</td>\n",
       "      <td id=\"T_2caa2_row34_col1\" class=\"data row34 col1\" >Score sourced from other source. This is a normalzied socre</td>\n",
       "    </tr>\n",
       "    <tr>\n",
       "      <th id=\"T_2caa2_level0_row35\" class=\"row_heading level0 row35\" >35</th>\n",
       "      <td id=\"T_2caa2_row35_col0\" class=\"data row35 col0\" >Score_Source_3</td>\n",
       "      <td id=\"T_2caa2_row35_col1\" class=\"data row35 col1\" >Score sourced from other source. This is a normalzied socre</td>\n",
       "    </tr>\n",
       "    <tr>\n",
       "      <th id=\"T_2caa2_level0_row36\" class=\"row_heading level0 row36\" >36</th>\n",
       "      <td id=\"T_2caa2_row36_col0\" class=\"data row36 col0\" >Social_Circle_Default</td>\n",
       "      <td id=\"T_2caa2_row36_col1\" class=\"data row36 col1\" >How many friends/family member of client defaulted on any loan payment in last 60 days</td>\n",
       "    </tr>\n",
       "    <tr>\n",
       "      <th id=\"T_2caa2_level0_row37\" class=\"row_heading level0 row37\" >37</th>\n",
       "      <td id=\"T_2caa2_row37_col0\" class=\"data row37 col0\" >Phone_Change</td>\n",
       "      <td id=\"T_2caa2_row37_col1\" class=\"data row37 col1\" >How many days before the loan application, client changed his/her phone</td>\n",
       "    </tr>\n",
       "    <tr>\n",
       "      <th id=\"T_2caa2_level0_row38\" class=\"row_heading level0 row38\" >38</th>\n",
       "      <td id=\"T_2caa2_row38_col0\" class=\"data row38 col0\" >Credit_Bureau</td>\n",
       "      <td id=\"T_2caa2_row38_col1\" class=\"data row38 col1\" >Total number of enquiries in last year</td>\n",
       "    </tr>\n",
       "    <tr>\n",
       "      <th id=\"T_2caa2_level0_row39\" class=\"row_heading level0 row39\" >39</th>\n",
       "      <td id=\"T_2caa2_row39_col0\" class=\"data row39 col0\" >Default</td>\n",
       "      <td id=\"T_2caa2_row39_col1\" class=\"data row39 col1\" >1 means the client defaulted on loan payments and 0 means otherwise</td>\n",
       "    </tr>\n",
       "  </tbody>\n",
       "</table>\n"
      ],
      "text/plain": [
       "<pandas.io.formats.style.Styler at 0x1e664ae9f40>"
      ]
     },
     "execution_count": 565,
     "metadata": {},
     "output_type": "execute_result"
    }
   ],
   "source": [
    "# let's take a look of the meaning of each columns\n",
    "def left_align(df: DataFrame):\n",
    "    left_aligned_df = df.style.set_properties(**{'text-align': 'left'})\n",
    "    left_aligned_df = left_aligned_df.set_table_styles(\n",
    "        [dict(selector='th', props=[('text-align', 'left')])]\n",
    "    )\n",
    "    return left_aligned_df\n",
    "left_align(autoloan_lib_raw_df)"
   ]
  },
  {
   "cell_type": "markdown",
   "id": "ac69ce5f",
   "metadata": {},
   "source": [
    "# Visualization of Default by numerical features."
   ]
  },
  {
   "cell_type": "code",
   "execution_count": 566,
   "id": "e6501105",
   "metadata": {},
   "outputs": [
    {
     "data": {
      "image/png": "[encoded data removed]",
      "text/plain": [
       "<Figure size 864x576 with 30 Axes>"
      ]
     },
     "metadata": {
      "needs_background": "light"
     },
     "output_type": "display_data"
    }
   ],
   "source": [
    "fig, axes = plt.subplots(nrows=6, ncols=5, figsize=(12, 8))\n",
    "\n",
    "numericals = [column for column in autoloan_raw_df.select_dtypes(['int', 'float']).columns]\n",
    "\n",
    "for feature, ax in zip(numericals, axes.flatten()):\n",
    "    ax.hist(autoloan_raw_df[feature], bins=50)\n",
    "    ax.set_title(feature)\n",
    "    \n",
    "fig.tight_layout()"
   ]
  },
  {
   "cell_type": "markdown",
   "id": "07a67215",
   "metadata": {},
   "source": [
    "The histogram shows that outliers may exist with these\n",
    " variables:'Client_Income','Credit_Amount','Child_Count','Credit_Bureau','Own_House_Age', and 'Employed_Days'. Let's investagate further with a boxplot for these variables."
   ]
  },
  {
   "cell_type": "code",
   "execution_count": 567,
   "id": "9e47ed7e",
   "metadata": {
    "scrolled": false
   },
   "outputs": [
    {
     "name": "stderr",
     "output_type": "stream",
     "text": [
      "C:\\Users\\eggfr\\anaconda3\\envs\\tensor_flow\\lib\\site-packages\\seaborn\\_decorators.py:36: FutureWarning: Pass the following variable as a keyword arg: x. From version 0.12, the only valid positional argument will be `data`, and passing other arguments without an explicit keyword will result in an error or misinterpretation.\n",
      "  warnings.warn(\n"
     ]
    },
    {
     "data": {
      "text/plain": [
       "<AxesSubplot:xlabel='Client_Income'>"
      ]
     },
     "execution_count": 567,
     "metadata": {},
     "output_type": "execute_result"
    },
    {
     "data": {
      "image/png": "[encoded data removed]",
      "text/plain": [
       "<Figure size 432x288 with 1 Axes>"
      ]
     },
     "metadata": {
      "needs_background": "light"
     },
     "output_type": "display_data"
    }
   ],
   "source": [
    "sns.boxplot(autoloan_raw_df['Client_Income'])"
   ]
  },
  {
   "cell_type": "code",
   "execution_count": 568,
   "id": "d6d3aa13",
   "metadata": {},
   "outputs": [
    {
     "name": "stderr",
     "output_type": "stream",
     "text": [
      "C:\\Users\\eggfr\\anaconda3\\envs\\tensor_flow\\lib\\site-packages\\seaborn\\_decorators.py:36: FutureWarning: Pass the following variable as a keyword arg: x. From version 0.12, the only valid positional argument will be `data`, and passing other arguments without an explicit keyword will result in an error or misinterpretation.\n",
      "  warnings.warn(\n"
     ]
    },
    {
     "data": {
      "text/plain": [
       "<AxesSubplot:xlabel='Credit_Amount'>"
      ]
     },
     "execution_count": 568,
     "metadata": {},
     "output_type": "execute_result"
    },
    {
     "data": {
      "image/png": "[encoded data removed]",
      "text/plain": [
       "<Figure size 432x288 with 1 Axes>"
      ]
     },
     "metadata": {
      "needs_background": "light"
     },
     "output_type": "display_data"
    }
   ],
   "source": [
    "sns.boxplot(autoloan_raw_df['Credit_Amount'])"
   ]
  },
  {
   "cell_type": "code",
   "execution_count": 569,
   "id": "51e403d9",
   "metadata": {},
   "outputs": [
    {
     "name": "stderr",
     "output_type": "stream",
     "text": [
      "C:\\Users\\eggfr\\anaconda3\\envs\\tensor_flow\\lib\\site-packages\\seaborn\\_decorators.py:36: FutureWarning: Pass the following variable as a keyword arg: x. From version 0.12, the only valid positional argument will be `data`, and passing other arguments without an explicit keyword will result in an error or misinterpretation.\n",
      "  warnings.warn(\n"
     ]
    },
    {
     "data": {
      "text/plain": [
       "<AxesSubplot:xlabel='Child_Count'>"
      ]
     },
     "execution_count": 569,
     "metadata": {},
     "output_type": "execute_result"
    },
    {
     "data": {
      "image/png": "[encoded data removed]",
      "text/plain": [
       "<Figure size 432x288 with 1 Axes>"
      ]
     },
     "metadata": {
      "needs_background": "light"
     },
     "output_type": "display_data"
    }
   ],
   "source": [
    "sns.boxplot(autoloan_raw_df['Child_Count'])"
   ]
  },
  {
   "cell_type": "code",
   "execution_count": 570,
   "id": "278dd577",
   "metadata": {},
   "outputs": [
    {
     "name": "stderr",
     "output_type": "stream",
     "text": [
      "C:\\Users\\eggfr\\anaconda3\\envs\\tensor_flow\\lib\\site-packages\\seaborn\\_decorators.py:36: FutureWarning: Pass the following variable as a keyword arg: x. From version 0.12, the only valid positional argument will be `data`, and passing other arguments without an explicit keyword will result in an error or misinterpretation.\n",
      "  warnings.warn(\n"
     ]
    },
    {
     "data": {
      "text/plain": [
       "<AxesSubplot:xlabel='Credit_Bureau'>"
      ]
     },
     "execution_count": 570,
     "metadata": {},
     "output_type": "execute_result"
    },
    {
     "data": {
      "image/png": "[encoded data removed]",
      "text/plain": [
       "<Figure size 432x288 with 1 Axes>"
      ]
     },
     "metadata": {
      "needs_background": "light"
     },
     "output_type": "display_data"
    }
   ],
   "source": [
    "sns.boxplot(autoloan_raw_df['Credit_Bureau'])"
   ]
  },
  {
   "cell_type": "code",
   "execution_count": 571,
   "id": "64f44b45",
   "metadata": {},
   "outputs": [
    {
     "name": "stderr",
     "output_type": "stream",
     "text": [
      "C:\\Users\\eggfr\\anaconda3\\envs\\tensor_flow\\lib\\site-packages\\seaborn\\_decorators.py:36: FutureWarning: Pass the following variable as a keyword arg: x. From version 0.12, the only valid positional argument will be `data`, and passing other arguments without an explicit keyword will result in an error or misinterpretation.\n",
      "  warnings.warn(\n"
     ]
    },
    {
     "data": {
      "text/plain": [
       "<AxesSubplot:xlabel='Own_House_Age'>"
      ]
     },
     "execution_count": 571,
     "metadata": {},
     "output_type": "execute_result"
    },
    {
     "data": {
      "image/png": "[encoded data removed]",
      "text/plain": [
       "<Figure size 432x288 with 1 Axes>"
      ]
     },
     "metadata": {
      "needs_background": "light"
     },
     "output_type": "display_data"
    }
   ],
   "source": [
    "sns.boxplot(autoloan_raw_df['Own_House_Age'])"
   ]
  },
  {
   "cell_type": "code",
   "execution_count": 572,
   "id": "f404f4f6",
   "metadata": {},
   "outputs": [
    {
     "name": "stderr",
     "output_type": "stream",
     "text": [
      "C:\\Users\\eggfr\\anaconda3\\envs\\tensor_flow\\lib\\site-packages\\seaborn\\_decorators.py:36: FutureWarning: Pass the following variable as a keyword arg: x. From version 0.12, the only valid positional argument will be `data`, and passing other arguments without an explicit keyword will result in an error or misinterpretation.\n",
      "  warnings.warn(\n"
     ]
    },
    {
     "data": {
      "text/plain": [
       "<AxesSubplot:xlabel='Employed_Days'>"
      ]
     },
     "execution_count": 572,
     "metadata": {},
     "output_type": "execute_result"
    },
    {
     "data": {
      "image/png": "[encoded data removed]",
      "text/plain": [
       "<Figure size 432x288 with 1 Axes>"
      ]
     },
     "metadata": {
      "needs_background": "light"
     },
     "output_type": "display_data"
    }
   ],
   "source": [
    "sns.boxplot(autoloan_raw_df['Employed_Days'])"
   ]
  },
  {
   "cell_type": "markdown",
   "id": "2f4e4479",
   "metadata": {},
   "source": [
    "Let's remove the outliers for these variables."
   ]
  },
  {
   "cell_type": "code",
   "execution_count": null,
   "id": "c0189767",
   "metadata": {},
   "outputs": [],
   "source": [
    "Q1 = autoloan_raw_df['Client_Income'].quantile(q=.25)\n",
    "Q3 = autoloan_raw_df['Client_Income'].quantile(q=.75)\n",
    "IQR = autoloan_raw_df['Client_Income'].apply(stats.iqr)\n",
    "\n",
    "#only keep rows in dataframe that have values within 1.5*IQR of Q1 and Q3\n",
    "data_clean = data[~((data < (Q1-1.5*IQR)) | (data > (Q3+1.5*IQR))).any(axis=1)]\n",
    "\n",
    "#find how many rows are left in the dataframe \n",
    "data_clean.shape\n",
    "\n",
    "(89,3)"
   ]
  },
  {
   "cell_type": "code",
   "execution_count": null,
   "id": "1ec2dda9",
   "metadata": {},
   "outputs": [],
   "source": []
  },
  {
   "cell_type": "code",
   "execution_count": null,
   "id": "b757edb5",
   "metadata": {},
   "outputs": [],
   "source": []
  },
  {
   "cell_type": "code",
   "execution_count": null,
   "id": "b2d1e844",
   "metadata": {},
   "outputs": [],
   "source": []
  },
  {
   "cell_type": "code",
   "execution_count": null,
   "id": "df828843",
   "metadata": {},
   "outputs": [],
   "source": []
  },
  {
   "cell_type": "code",
   "execution_count": 573,
   "id": "5729135a",
   "metadata": {},
   "outputs": [
    {
     "name": "stdout",
     "output_type": "stream",
     "text": [
      "high_bound : 48150.0\n",
      "low_bound : 3150.0\n"
     ]
    }
   ],
   "source": [
    "high_bound = autoloan_raw_df['Client_Income'].quantile(0.99)\n",
    "print('high_bound :', high_bound)\n",
    "low_bound = autoloan_raw_df['Client_Income'].quantile(0.001)\n",
    "print('low_bound :', low_bound)"
   ]
  },
  {
   "cell_type": "code",
   "execution_count": 582,
   "id": "d61a792f",
   "metadata": {},
   "outputs": [
    {
     "data": {
      "text/plain": [
       "(116993,)"
      ]
     },
     "execution_count": 582,
     "metadata": {},
     "output_type": "execute_result"
    }
   ],
   "source": [
    "autoloan_raw_df['Client_Income'].shape"
   ]
  },
  {
   "cell_type": "code",
   "execution_count": 584,
   "id": "aaaff922",
   "metadata": {},
   "outputs": [],
   "source": [
    "upper_points = np.where(high_bound)"
   ]
  },
  {
   "cell_type": "code",
   "execution_count": 585,
   "id": "07ef8d5f",
   "metadata": {},
   "outputs": [],
   "source": [
    "autoloan_raw_df['Client_Income'].drop(upper_points[0], inplace=True)"
   ]
  },
  {
   "cell_type": "code",
   "execution_count": 586,
   "id": "e1da4cf1",
   "metadata": {},
   "outputs": [
    {
     "data": {
      "text/plain": [
       "(116993,)"
      ]
     },
     "execution_count": 586,
     "metadata": {},
     "output_type": "execute_result"
    }
   ],
   "source": [
    "autoloan_raw_df['Client_Income'].shape"
   ]
  },
  {
   "cell_type": "code",
   "execution_count": 578,
   "id": "7e8d16b6",
   "metadata": {},
   "outputs": [],
   "source": [
    "from numpy import mean\n",
    "from numpy import std"
   ]
  },
  {
   "cell_type": "code",
   "execution_count": 579,
   "id": "fed5dfca",
   "metadata": {},
   "outputs": [],
   "source": [
    "# calculate summary statistics\n",
    "data_mean, data_std = mean(autoloan_raw_df['Client_Income']), std(autoloan_raw_df['Client_Income'])\n",
    "# identify outliers\n",
    "cut_off = data_std * 3\n",
    "lower, upper = data_mean - cut_off, data_mean + cut_off"
   ]
  },
  {
   "cell_type": "code",
   "execution_count": 581,
   "id": "f51294ab",
   "metadata": {},
   "outputs": [
    {
     "ename": "ValueError",
     "evalue": "Length of values (115005) does not match length of index (116993)",
     "output_type": "error",
     "traceback": [
      "\u001b[1;31m---------------------------------------------------------------------------\u001b[0m",
      "\u001b[1;31mValueError\u001b[0m                                Traceback (most recent call last)",
      "Input \u001b[1;32mIn [581]\u001b[0m, in \u001b[0;36m<cell line: 1>\u001b[1;34m()\u001b[0m\n\u001b[1;32m----> 1\u001b[0m autoloan_raw_df[\u001b[38;5;124m'\u001b[39m\u001b[38;5;124mClient_Income\u001b[39m\u001b[38;5;124m'\u001b[39m] \u001b[38;5;241m=\u001b[39m [x \u001b[38;5;28;01mfor\u001b[39;00m x \u001b[38;5;129;01min\u001b[39;00m autoloan_raw_df[\u001b[38;5;124m'\u001b[39m\u001b[38;5;124mClient_Income\u001b[39m\u001b[38;5;124m'\u001b[39m] \u001b[38;5;28;01mif\u001b[39;00m x \u001b[38;5;241m>\u001b[39m\u001b[38;5;241m=\u001b[39m lower \u001b[38;5;129;01mand\u001b[39;00m x \u001b[38;5;241m<\u001b[39m\u001b[38;5;241m=\u001b[39m upper]\n",
      "File \u001b[1;32m~\\anaconda3\\envs\\tensor_flow\\lib\\site-packages\\pandas\\core\\frame.py:3655\u001b[0m, in \u001b[0;36mDataFrame.__setitem__\u001b[1;34m(self, key, value)\u001b[0m\n\u001b[0;32m   3652\u001b[0m     \u001b[38;5;28mself\u001b[39m\u001b[38;5;241m.\u001b[39m_setitem_array([key], value)\n\u001b[0;32m   3653\u001b[0m \u001b[38;5;28;01melse\u001b[39;00m:\n\u001b[0;32m   3654\u001b[0m     \u001b[38;5;66;03m# set column\u001b[39;00m\n\u001b[1;32m-> 3655\u001b[0m     \u001b[38;5;28;43mself\u001b[39;49m\u001b[38;5;241;43m.\u001b[39;49m\u001b[43m_set_item\u001b[49m\u001b[43m(\u001b[49m\u001b[43mkey\u001b[49m\u001b[43m,\u001b[49m\u001b[43m \u001b[49m\u001b[43mvalue\u001b[49m\u001b[43m)\u001b[49m\n",
      "File \u001b[1;32m~\\anaconda3\\envs\\tensor_flow\\lib\\site-packages\\pandas\\core\\frame.py:3832\u001b[0m, in \u001b[0;36mDataFrame._set_item\u001b[1;34m(self, key, value)\u001b[0m\n\u001b[0;32m   3822\u001b[0m \u001b[38;5;28;01mdef\u001b[39;00m \u001b[38;5;21m_set_item\u001b[39m(\u001b[38;5;28mself\u001b[39m, key, value) \u001b[38;5;241m-\u001b[39m\u001b[38;5;241m>\u001b[39m \u001b[38;5;28;01mNone\u001b[39;00m:\n\u001b[0;32m   3823\u001b[0m     \u001b[38;5;124;03m\"\"\"\u001b[39;00m\n\u001b[0;32m   3824\u001b[0m \u001b[38;5;124;03m    Add series to DataFrame in specified column.\u001b[39;00m\n\u001b[0;32m   3825\u001b[0m \n\u001b[1;32m   (...)\u001b[0m\n\u001b[0;32m   3830\u001b[0m \u001b[38;5;124;03m    ensure homogeneity.\u001b[39;00m\n\u001b[0;32m   3831\u001b[0m \u001b[38;5;124;03m    \"\"\"\u001b[39;00m\n\u001b[1;32m-> 3832\u001b[0m     value \u001b[38;5;241m=\u001b[39m \u001b[38;5;28;43mself\u001b[39;49m\u001b[38;5;241;43m.\u001b[39;49m\u001b[43m_sanitize_column\u001b[49m\u001b[43m(\u001b[49m\u001b[43mvalue\u001b[49m\u001b[43m)\u001b[49m\n\u001b[0;32m   3834\u001b[0m     \u001b[38;5;28;01mif\u001b[39;00m (\n\u001b[0;32m   3835\u001b[0m         key \u001b[38;5;129;01min\u001b[39;00m \u001b[38;5;28mself\u001b[39m\u001b[38;5;241m.\u001b[39mcolumns\n\u001b[0;32m   3836\u001b[0m         \u001b[38;5;129;01mand\u001b[39;00m value\u001b[38;5;241m.\u001b[39mndim \u001b[38;5;241m==\u001b[39m \u001b[38;5;241m1\u001b[39m\n\u001b[0;32m   3837\u001b[0m         \u001b[38;5;129;01mand\u001b[39;00m \u001b[38;5;129;01mnot\u001b[39;00m is_extension_array_dtype(value)\n\u001b[0;32m   3838\u001b[0m     ):\n\u001b[0;32m   3839\u001b[0m         \u001b[38;5;66;03m# broadcast across multiple columns if necessary\u001b[39;00m\n\u001b[0;32m   3840\u001b[0m         \u001b[38;5;28;01mif\u001b[39;00m \u001b[38;5;129;01mnot\u001b[39;00m \u001b[38;5;28mself\u001b[39m\u001b[38;5;241m.\u001b[39mcolumns\u001b[38;5;241m.\u001b[39mis_unique \u001b[38;5;129;01mor\u001b[39;00m \u001b[38;5;28misinstance\u001b[39m(\u001b[38;5;28mself\u001b[39m\u001b[38;5;241m.\u001b[39mcolumns, MultiIndex):\n",
      "File \u001b[1;32m~\\anaconda3\\envs\\tensor_flow\\lib\\site-packages\\pandas\\core\\frame.py:4535\u001b[0m, in \u001b[0;36mDataFrame._sanitize_column\u001b[1;34m(self, value)\u001b[0m\n\u001b[0;32m   4532\u001b[0m     \u001b[38;5;28;01mreturn\u001b[39;00m _reindex_for_setitem(value, \u001b[38;5;28mself\u001b[39m\u001b[38;5;241m.\u001b[39mindex)\n\u001b[0;32m   4534\u001b[0m \u001b[38;5;28;01mif\u001b[39;00m is_list_like(value):\n\u001b[1;32m-> 4535\u001b[0m     \u001b[43mcom\u001b[49m\u001b[38;5;241;43m.\u001b[39;49m\u001b[43mrequire_length_match\u001b[49m\u001b[43m(\u001b[49m\u001b[43mvalue\u001b[49m\u001b[43m,\u001b[49m\u001b[43m \u001b[49m\u001b[38;5;28;43mself\u001b[39;49m\u001b[38;5;241;43m.\u001b[39;49m\u001b[43mindex\u001b[49m\u001b[43m)\u001b[49m\n\u001b[0;32m   4536\u001b[0m \u001b[38;5;28;01mreturn\u001b[39;00m sanitize_array(value, \u001b[38;5;28mself\u001b[39m\u001b[38;5;241m.\u001b[39mindex, copy\u001b[38;5;241m=\u001b[39m\u001b[38;5;28;01mTrue\u001b[39;00m, allow_2d\u001b[38;5;241m=\u001b[39m\u001b[38;5;28;01mTrue\u001b[39;00m)\n",
      "File \u001b[1;32m~\\anaconda3\\envs\\tensor_flow\\lib\\site-packages\\pandas\\core\\common.py:557\u001b[0m, in \u001b[0;36mrequire_length_match\u001b[1;34m(data, index)\u001b[0m\n\u001b[0;32m    553\u001b[0m \u001b[38;5;124;03m\"\"\"\u001b[39;00m\n\u001b[0;32m    554\u001b[0m \u001b[38;5;124;03mCheck the length of data matches the length of the index.\u001b[39;00m\n\u001b[0;32m    555\u001b[0m \u001b[38;5;124;03m\"\"\"\u001b[39;00m\n\u001b[0;32m    556\u001b[0m \u001b[38;5;28;01mif\u001b[39;00m \u001b[38;5;28mlen\u001b[39m(data) \u001b[38;5;241m!=\u001b[39m \u001b[38;5;28mlen\u001b[39m(index):\n\u001b[1;32m--> 557\u001b[0m     \u001b[38;5;28;01mraise\u001b[39;00m \u001b[38;5;167;01mValueError\u001b[39;00m(\n\u001b[0;32m    558\u001b[0m         \u001b[38;5;124m\"\u001b[39m\u001b[38;5;124mLength of values \u001b[39m\u001b[38;5;124m\"\u001b[39m\n\u001b[0;32m    559\u001b[0m         \u001b[38;5;124mf\u001b[39m\u001b[38;5;124m\"\u001b[39m\u001b[38;5;124m(\u001b[39m\u001b[38;5;132;01m{\u001b[39;00m\u001b[38;5;28mlen\u001b[39m(data)\u001b[38;5;132;01m}\u001b[39;00m\u001b[38;5;124m) \u001b[39m\u001b[38;5;124m\"\u001b[39m\n\u001b[0;32m    560\u001b[0m         \u001b[38;5;124m\"\u001b[39m\u001b[38;5;124mdoes not match length of index \u001b[39m\u001b[38;5;124m\"\u001b[39m\n\u001b[0;32m    561\u001b[0m         \u001b[38;5;124mf\u001b[39m\u001b[38;5;124m\"\u001b[39m\u001b[38;5;124m(\u001b[39m\u001b[38;5;132;01m{\u001b[39;00m\u001b[38;5;28mlen\u001b[39m(index)\u001b[38;5;132;01m}\u001b[39;00m\u001b[38;5;124m)\u001b[39m\u001b[38;5;124m\"\u001b[39m\n\u001b[0;32m    562\u001b[0m     )\n",
      "\u001b[1;31mValueError\u001b[0m: Length of values (115005) does not match length of index (116993)"
     ]
    }
   ],
   "source": [
    "autoloan_raw_df['Client_Income'] = [x for x in autoloan_raw_df['Client_Income'] if x >= lower and x <= upper]"
   ]
  },
  {
   "cell_type": "code",
   "execution_count": 574,
   "id": "cdb50dcc",
   "metadata": {},
   "outputs": [],
   "source": [
    "autoloan_raw_df = autoloan_raw_df[(autoloan_raw_df['Client_Income']>=low_bound) & (autoloan_raw_df['Client_Income']<=high_bound)]"
   ]
  },
  {
   "cell_type": "code",
   "execution_count": 575,
   "id": "f1b0e830",
   "metadata": {},
   "outputs": [
    {
     "data": {
      "text/plain": [
       "(116993, 40)"
      ]
     },
     "execution_count": 575,
     "metadata": {},
     "output_type": "execute_result"
    }
   ],
   "source": [
    "autoloan_raw_df.shape"
   ]
  },
  {
   "cell_type": "code",
   "execution_count": 576,
   "id": "06db2f79",
   "metadata": {},
   "outputs": [
    {
     "name": "stdout",
     "output_type": "stream",
     "text": [
      "high_bound : 180000.0\n",
      "low_bound : 4797.0\n"
     ]
    }
   ],
   "source": [
    "high_bound = autoloan_raw_df['Credit_Amount'].quantile(0.99)\n",
    "print('high_bound :', high_bound)\n",
    "low_bound = autoloan_raw_df['Credit_Amount'].quantile(0.001)\n",
    "print('low_bound :', low_bound)"
   ]
  },
  {
   "cell_type": "code",
   "execution_count": 577,
   "id": "7bbf3a5a",
   "metadata": {},
   "outputs": [
    {
     "name": "stderr",
     "output_type": "stream",
     "text": [
      "C:\\Users\\eggfr\\AppData\\Local\\Temp\\ipykernel_7248\\2271657274.py:1: UserWarning: Pandas doesn't allow columns to be created via a new attribute name - see https://pandas.pydata.org/pandas-docs/stable/indexing.html#attribute-access\n",
      "  autoloan_raw_df.shape=autoloan_raw_df = autoloan_raw_df[(autoloan_raw_df['Credit_Amount']>=low_bound) & (autoloan_raw_df['Credit_Amount']<=high_bound)]\n"
     ]
    },
    {
     "ename": "AttributeError",
     "evalue": "can't set attribute",
     "output_type": "error",
     "traceback": [
      "\u001b[1;31m---------------------------------------------------------------------------\u001b[0m",
      "\u001b[1;31mAttributeError\u001b[0m                            Traceback (most recent call last)",
      "File \u001b[1;32m~\\anaconda3\\envs\\tensor_flow\\lib\\site-packages\\pandas\\core\\generic.py:5606\u001b[0m, in \u001b[0;36mNDFrame.__setattr__\u001b[1;34m(self, name, value)\u001b[0m\n\u001b[0;32m   5605\u001b[0m     \u001b[38;5;28;01melse\u001b[39;00m:\n\u001b[1;32m-> 5606\u001b[0m         \u001b[38;5;28;43mobject\u001b[39;49m\u001b[38;5;241;43m.\u001b[39;49m\u001b[38;5;21;43m__setattr__\u001b[39;49m\u001b[43m(\u001b[49m\u001b[38;5;28;43mself\u001b[39;49m\u001b[43m,\u001b[49m\u001b[43m \u001b[49m\u001b[43mname\u001b[49m\u001b[43m,\u001b[49m\u001b[43m \u001b[49m\u001b[43mvalue\u001b[49m\u001b[43m)\u001b[49m\n\u001b[0;32m   5607\u001b[0m \u001b[38;5;28;01mexcept\u001b[39;00m (\u001b[38;5;167;01mAttributeError\u001b[39;00m, \u001b[38;5;167;01mTypeError\u001b[39;00m):\n",
      "\u001b[1;31mAttributeError\u001b[0m: can't set attribute",
      "\nDuring handling of the above exception, another exception occurred:\n",
      "\u001b[1;31mAttributeError\u001b[0m                            Traceback (most recent call last)",
      "Input \u001b[1;32mIn [577]\u001b[0m, in \u001b[0;36m<cell line: 1>\u001b[1;34m()\u001b[0m\n\u001b[1;32m----> 1\u001b[0m autoloan_raw_df\u001b[38;5;241m.\u001b[39mshape\u001b[38;5;241m=\u001b[39mautoloan_raw_df \u001b[38;5;241m=\u001b[39m autoloan_raw_df[(autoloan_raw_df[\u001b[38;5;124m'\u001b[39m\u001b[38;5;124mCredit_Amount\u001b[39m\u001b[38;5;124m'\u001b[39m]\u001b[38;5;241m>\u001b[39m\u001b[38;5;241m=\u001b[39mlow_bound) \u001b[38;5;241m&\u001b[39m (autoloan_raw_df[\u001b[38;5;124m'\u001b[39m\u001b[38;5;124mCredit_Amount\u001b[39m\u001b[38;5;124m'\u001b[39m]\u001b[38;5;241m<\u001b[39m\u001b[38;5;241m=\u001b[39mhigh_bound)]\n",
      "File \u001b[1;32m~\\anaconda3\\envs\\tensor_flow\\lib\\site-packages\\pandas\\core\\generic.py:5616\u001b[0m, in \u001b[0;36mNDFrame.__setattr__\u001b[1;34m(self, name, value)\u001b[0m\n\u001b[0;32m   5608\u001b[0m \u001b[38;5;28;01mif\u001b[39;00m \u001b[38;5;28misinstance\u001b[39m(\u001b[38;5;28mself\u001b[39m, ABCDataFrame) \u001b[38;5;129;01mand\u001b[39;00m (is_list_like(value)):\n\u001b[0;32m   5609\u001b[0m     warnings\u001b[38;5;241m.\u001b[39mwarn(\n\u001b[0;32m   5610\u001b[0m         \u001b[38;5;124m\"\u001b[39m\u001b[38;5;124mPandas doesn\u001b[39m\u001b[38;5;124m'\u001b[39m\u001b[38;5;124mt allow columns to be \u001b[39m\u001b[38;5;124m\"\u001b[39m\n\u001b[0;32m   5611\u001b[0m         \u001b[38;5;124m\"\u001b[39m\u001b[38;5;124mcreated via a new attribute name - see \u001b[39m\u001b[38;5;124m\"\u001b[39m\n\u001b[1;32m   (...)\u001b[0m\n\u001b[0;32m   5614\u001b[0m         stacklevel\u001b[38;5;241m=\u001b[39mfind_stack_level(),\n\u001b[0;32m   5615\u001b[0m     )\n\u001b[1;32m-> 5616\u001b[0m \u001b[38;5;28;43mobject\u001b[39;49m\u001b[38;5;241;43m.\u001b[39;49m\u001b[38;5;21;43m__setattr__\u001b[39;49m\u001b[43m(\u001b[49m\u001b[38;5;28;43mself\u001b[39;49m\u001b[43m,\u001b[49m\u001b[43m \u001b[49m\u001b[43mname\u001b[49m\u001b[43m,\u001b[49m\u001b[43m \u001b[49m\u001b[43mvalue\u001b[49m\u001b[43m)\u001b[49m\n",
      "\u001b[1;31mAttributeError\u001b[0m: can't set attribute"
     ]
    }
   ],
   "source": [
    "autoloan_raw_df.shape=autoloan_raw_df = autoloan_raw_df[(autoloan_raw_df['Credit_Amount']>=low_bound) & (autoloan_raw_df['Credit_Amount']<=high_bound)]"
   ]
  },
  {
   "cell_type": "code",
   "execution_count": null,
   "id": "9d494124",
   "metadata": {
    "scrolled": true
   },
   "outputs": [],
   "source": [
    "high_bound = autoloan_raw_df['Client_Income'].quantile(0.98)\n",
    "print('high_bound :', high_bound)\n",
    "low_bound = autoloan_raw_df['Client_Income'].quantile(0.001)\n",
    "print('low_bound :', low_bound)"
   ]
  },
  {
   "cell_type": "code",
   "execution_count": null,
   "id": "e83cda93",
   "metadata": {},
   "outputs": [],
   "source": [
    "autoloan_raw_df = autoloan_raw_df[(autoloan_raw_df['Credit_Amount']>=low_bound) & (autoloan_raw_df['Credit_Amount']<=high_bound)]"
   ]
  },
  {
   "cell_type": "code",
   "execution_count": null,
   "id": "12c88ac1",
   "metadata": {
    "scrolled": true
   },
   "outputs": [],
   "source": [
    "high_bound = autoloan_raw_df['Credit_Bureau'].quantile(0.999)\n",
    "print('high_bound :', high_bound)\n",
    "low_bound = autoloan_raw_df['Credit_Bureau'].quantile(0.001)\n",
    "print('low_bound :', low_bound)"
   ]
  },
  {
   "cell_type": "code",
   "execution_count": null,
   "id": "6ef68e5f",
   "metadata": {},
   "outputs": [],
   "source": [
    "autoloan_raw_df = autoloan_raw_df[(autoloan_raw_df['Credit_Bureau']>=low_bound) & (autoloan_raw_df['Credit_Bureau']<=high_bound)]"
   ]
  },
  {
   "cell_type": "code",
   "execution_count": null,
   "id": "c0e04242",
   "metadata": {},
   "outputs": [],
   "source": [
    "high_bound = autoloan_raw_df['Own_House_Age'].quantile(.99)\n",
    "print('high_bound :', high_bound)\n",
    "low_bound = autoloan_raw_df['Own_House_Age'].quantile(0.001)\n",
    "print('low_bound :', low_bound)"
   ]
  },
  {
   "cell_type": "code",
   "execution_count": null,
   "id": "80e9516f",
   "metadata": {},
   "outputs": [],
   "source": [
    "autoloan_raw_df = autoloan_raw_df[(autoloan_raw_df['Own_House_Age']>=low_bound) & (autoloan_raw_df['Own_House_Age']<=high_bound)]"
   ]
  },
  {
   "cell_type": "code",
   "execution_count": null,
   "id": "46b070c1",
   "metadata": {},
   "outputs": [],
   "source": [
    "autoloan_raw_df.shape"
   ]
  },
  {
   "cell_type": "markdown",
   "id": "3e9fa417",
   "metadata": {},
   "source": [
    "With further investigation, 10% of the employed_days is >300000 days. While this may be inaccurate, 10% of the data is significant. Hence, employed_days wont be dropped for outliers."
   ]
  },
  {
   "cell_type": "code",
   "execution_count": null,
   "id": "0ff722f5",
   "metadata": {},
   "outputs": [],
   "source": [
    "high_bound = autoloan_raw_df['Employed_Days'].quantile(0.908)\n",
    "print('high_bound :', high_bound)\n",
    "low_bound = autoloan_raw_df['Employed_Days'].quantile(0.001)\n",
    "print('low_bound :', low_bound)"
   ]
  },
  {
   "cell_type": "markdown",
   "id": "1656728e",
   "metadata": {},
   "source": [
    "Removing the outliers"
   ]
  },
  {
   "cell_type": "code",
   "execution_count": null,
   "id": "42996b61",
   "metadata": {},
   "outputs": [],
   "source": []
  },
  {
   "cell_type": "code",
   "execution_count": null,
   "id": "6c1e14fc",
   "metadata": {},
   "outputs": [],
   "source": [
    "autoloan_raw_df = autoloan_raw_df[(autoloan_raw_df['Credit_Amount']>=low_bound) & (autoloan_raw_df['Credit_Amount']<=high_bound)]"
   ]
  },
  {
   "cell_type": "code",
   "execution_count": null,
   "id": "5737e1c7",
   "metadata": {},
   "outputs": [],
   "source": [
    "autoloan_raw_df.head()"
   ]
  },
  {
   "cell_type": "code",
   "execution_count": null,
   "id": "730567c6",
   "metadata": {},
   "outputs": [],
   "source": []
  },
  {
   "cell_type": "code",
   "execution_count": null,
   "id": "176b9a79",
   "metadata": {},
   "outputs": [],
   "source": []
  },
  {
   "cell_type": "code",
   "execution_count": null,
   "id": "4d6a3a5a",
   "metadata": {},
   "outputs": [],
   "source": []
  },
  {
   "cell_type": "code",
   "execution_count": null,
   "id": "3c008918",
   "metadata": {},
   "outputs": [],
   "source": []
  },
  {
   "cell_type": "code",
   "execution_count": null,
   "id": "ff796b3f",
   "metadata": {},
   "outputs": [],
   "source": []
  },
  {
   "cell_type": "code",
   "execution_count": null,
   "id": "6548837c",
   "metadata": {},
   "outputs": [],
   "source": [
    "plt.figure(figsize=(10,10))\n",
    "\n",
    "cols_to_plot = ['Credit_Amount','Loan_Annuity','Employed_Days','Client_Income']\n",
    "autoloan_raw_df[cols_to_plot].hist(edgecolor='black', linewidth=1.2)\n",
    "fig=plt.gcf()\n",
    "fig.set_size_inches(12,6)"
   ]
  },
  {
   "cell_type": "code",
   "execution_count": null,
   "id": "fe3eeb19",
   "metadata": {},
   "outputs": [],
   "source": []
  },
  {
   "cell_type": "code",
   "execution_count": null,
   "id": "440aa9e4",
   "metadata": {},
   "outputs": [],
   "source": [
    "fig, axes = plt.subplots(nrows=6, ncols=4, figsize=(12, 8))\n",
    "\n",
    "numericals = [column for column in autoloan_raw_df.select_dtypes(['int', 'float']).columns]\n",
    "\n",
    "for feature, ax in zip(numericals, axes.flatten()):\n",
    "    ax.hist(autoloan_raw_df[feature], bins=50)\n",
    "    ax.set_title(feature)\n",
    "    \n",
    "fig.tight_layout()"
   ]
  },
  {
   "cell_type": "code",
   "execution_count": null,
   "id": "d3859fe7",
   "metadata": {},
   "outputs": [],
   "source": []
  },
  {
   "cell_type": "code",
   "execution_count": null,
   "id": "910fefc1",
   "metadata": {},
   "outputs": [],
   "source": [
    "autoloan_raw_df = autoloan_raw_df[(autoloan_raw_df['Client_Income']>=low_bound) & (autoloan_raw_df['Client_Income']<=high_bound)]"
   ]
  },
  {
   "cell_type": "code",
   "execution_count": null,
   "id": "a7dd4fd7",
   "metadata": {},
   "outputs": [],
   "source": [
    "autoloan_raw_df.shape"
   ]
  },
  {
   "cell_type": "code",
   "execution_count": null,
   "id": "55df3da4",
   "metadata": {
    "scrolled": true
   },
   "outputs": [],
   "source": [
    "sns.boxplot(autoloan_raw_df['Client_Income'])"
   ]
  },
  {
   "cell_type": "markdown",
   "id": "dc7c3b7b",
   "metadata": {},
   "source": [
    "Correlation of between features."
   ]
  },
  {
   "cell_type": "code",
   "execution_count": null,
   "id": "d097dc7a",
   "metadata": {},
   "outputs": [],
   "source": [
    "plt.figure(figsize=(12,10))\n",
    "sns.heatmap(autoloan_raw_df.corr(),annot = True)"
   ]
  },
  {
   "cell_type": "markdown",
   "id": "f1188085",
   "metadata": {},
   "source": [
    "# Visualization of Default status and Client Income and Credit Amount"
   ]
  },
  {
   "cell_type": "code",
   "execution_count": null,
   "id": "69d39005",
   "metadata": {
    "scrolled": true
   },
   "outputs": [],
   "source": [
    "sns.scatterplot(autoloan_raw_df['Client_Income'], autoloan_raw_df['Credit_Amount'], hue=autoloan_raw_df['Default'])\n",
    "plt.title('Default Status with Client Income and Credit Amount')\n",
    "plt.figure(figsize=(22,20))\n",
    "plt.show()"
   ]
  },
  {
   "cell_type": "markdown",
   "id": "ce85d67b",
   "metadata": {},
   "source": [
    "Let's take a look at the target data, and we see that we have an imbalanced dataset."
   ]
  },
  {
   "cell_type": "code",
   "execution_count": null,
   "id": "56847408",
   "metadata": {
    "scrolled": false
   },
   "outputs": [],
   "source": [
    "#data = pd.read_csv('\\\\Users\\\\eggfr\\\\Flatiron\\\\Flatiron_phase5_project\\\\data\\\\Auto_Train_Dataset.csv')\n",
    "data = pd.read_csv('\\\\Users\\\\eggfr\\\\Flatiron\\\\Flatiron_phase5cap\\\\Flatiron_phase5cap\\\\data\\\\Auto_Train_Dataset.csv')\n",
    "\n",
    "data[\"Default\"].value_counts(normalize=True)"
   ]
  },
  {
   "cell_type": "markdown",
   "id": "58ad46e4",
   "metadata": {},
   "source": [
    "Let's seperate our feature variables and target variables, which is default."
   ]
  },
  {
   "cell_type": "code",
   "execution_count": null,
   "id": "b58bc5c5",
   "metadata": {},
   "outputs": [],
   "source": [
    "x = data.drop([\"Default\"], axis=1)\n",
    "y = data[\"Default\"]"
   ]
  },
  {
   "cell_type": "code",
   "execution_count": null,
   "id": "58ccad5b",
   "metadata": {},
   "outputs": [],
   "source": []
  },
  {
   "cell_type": "code",
   "execution_count": null,
   "id": "6260295d",
   "metadata": {},
   "outputs": [],
   "source": []
  },
  {
   "cell_type": "code",
   "execution_count": null,
   "id": "e12557d9",
   "metadata": {},
   "outputs": [],
   "source": []
  },
  {
   "cell_type": "markdown",
   "id": "fec0d64e",
   "metadata": {},
   "source": [
    "Any data that's missing 3% data would consider random and will be filled with the most frequency in the pipeline.Client_Occupation, Credit_Bureau, ID_Days, Loan_Annuity, and Population_Region_Relative all have more than 3% missing data and will be filled with custom methods.Client_Occupation has 34% missing data. However, we don't want to drop it because it may give us vital information. Missing data will be filled with \"other.\""
   ]
  },
  {
   "cell_type": "code",
   "execution_count": null,
   "id": "a958cac9",
   "metadata": {},
   "outputs": [],
   "source": []
  },
  {
   "cell_type": "code",
   "execution_count": null,
   "id": "2289f76c",
   "metadata": {},
   "outputs": [],
   "source": []
  },
  {
   "cell_type": "markdown",
   "id": "2a64c64c",
   "metadata": {},
   "source": [
    "# Train Test Split"
   ]
  },
  {
   "cell_type": "markdown",
   "id": "3263e20a",
   "metadata": {},
   "source": [
    "In the test_train split section, we will assign X as the features and y as the target, which is the ['Default'] variable. "
   ]
  },
  {
   "cell_type": "code",
   "execution_count": null,
   "id": "bd09509e",
   "metadata": {},
   "outputs": [],
   "source": []
  },
  {
   "cell_type": "code",
   "execution_count": null,
   "id": "bae0b2a0",
   "metadata": {},
   "outputs": [],
   "source": []
  },
  {
   "cell_type": "code",
   "execution_count": null,
   "id": "ca66bda4",
   "metadata": {},
   "outputs": [],
   "source": []
  },
  {
   "cell_type": "code",
   "execution_count": null,
   "id": "d8174cb7",
   "metadata": {},
   "outputs": [],
   "source": []
  },
  {
   "cell_type": "code",
   "execution_count": null,
   "id": "c0cc4578",
   "metadata": {},
   "outputs": [],
   "source": [
    "def print_cv_scores(pipe, x, y):\n",
    "    '''\n",
    "    using given pipeline and prints the training and cross_val scores\n",
    "    '''\n",
    "    scoring = ['accuracy', 'precision_macro', 'recall_macro', 'f1_macro', 'roc_auc_ovr']\n",
    "    # This speeds up the processing\n",
    "    with parallel_backend('threading', n_jobs=-1):\n",
    "        # Pass in pipe to cross validate along with a feature list; keep standard 5-fold cross-validation\n",
    "        results = cross_validate(pipe, x, y, cv=5, return_train_score=True, scoring=scoring)\n",
    "    \n",
    "    print(f\"Training Accuracy: {round(results['train_accuracy'].mean(), 6)}\")\n",
    "    print(f\"Cross_Val Accuracy: {round(results['test_accuracy'].mean(), 6)}\")\n",
    "    print('-'*40)\n",
    "    print(f\"Training Macro Precision: {round(results['train_precision_macro'].mean(), 6)}\")\n",
    "    print(f\"Cross_Val Macro Precision: {round(results['test_precision_macro'].mean(), 6)}\")\n",
    "    print('-'*40)\n",
    "    print(f\"Training Macro Recall: {round(results['train_recall_macro'].mean(), 6)}\")\n",
    "    print(f\"Cross_Val Macro Recall: {round(results['test_recall_macro'].mean(), 6)}\")\n",
    "    print('-'*40)\n",
    "    print(f\"Training Macro F1 Score: {round(results['train_f1_macro'].mean(), 6)}\")\n",
    "    print(f\"Cross_Val Macro F1 Score: {round(results['test_f1_macro'].mean(), 6)}\")\n",
    "    print('-'*40)\n",
    "    print(f\"Training Macro AUC Score: {round(results['train_roc_auc_ovr'].mean(), 6)}\")\n",
    "    print(f\"Cross_Val Macro AUC Score: {round(results['test_roc_auc_ovr'].mean(), 6)}\")"
   ]
  },
  {
   "cell_type": "code",
   "execution_count": null,
   "id": "2b674998",
   "metadata": {},
   "outputs": [],
   "source": [
    "x_train, x_test, y_train, y_test = train_test_split(x, y, test_size=0.2, random_state=42)"
   ]
  },
  {
   "cell_type": "markdown",
   "id": "b46dcc4f",
   "metadata": {},
   "source": [
    "# Create Column Transformer to Preprocess Data"
   ]
  },
  {
   "cell_type": "markdown",
   "id": "d04a1b1f",
   "metadata": {},
   "source": [
    "Let's set up a column transformer first. This columntransformer is made up 5 different pipelines. They are first imputed with the data as disccused in the EDA sections. For categorical variables, it will be transformed with either one hot encoder or ordinal encorder. Then, they will be all set up in the columntransformer.  "
   ]
  },
  {
   "cell_type": "code",
   "execution_count": null,
   "id": "dca1c6b5",
   "metadata": {},
   "outputs": [],
   "source": [
    "#Lets Set up the column transformer\n",
    "Client_Education_list = ['Junior secondary','Secondary','Graduation dropout','Graduation','Post Grad']\n",
    "Client_Marital_Status_list = ['D','W','M','S']\n",
    "ohe_cols = ['Accompany_Client','Client_Income_Type','Client_Gender','Loan_Contract_Type','Client_Housing_Type','Application_Process_Day','Application_Process_Hour']\n",
    "num_cols = list(x.select_dtypes(['int', 'float']).columns)\n",
    "\n",
    "nominal_Client_Occupation_pipeline = Pipeline([\n",
    "    ('onehotimputer',SimpleImputer(strategy = 'constant',fill_value= \"Other\") ),\n",
    "    ('onehotenc', OneHotEncoder(sparse = False, handle_unknown='ignore')), \n",
    "    ('onehotnorm', StandardScaler())])\n",
    "\n",
    "numeric_pipeline = Pipeline([\n",
    "    ('numimputer', SimpleImputer(strategy = 'mean')), \n",
    "    ('numnorm', StandardScaler())])\n",
    "\n",
    "nominal_pipeline = Pipeline([\n",
    "    ('onehotimputer', SimpleImputer(strategy = 'most_frequent')),\n",
    "    ('onehotenc', OneHotEncoder(sparse = False,handle_unknown='ignore')), \n",
    "    ('onehotnorm', StandardScaler())])\n",
    "\n",
    "ordinal_Client_Marital_Status_pipeline = Pipeline([\n",
    "    ('ordimputer', SimpleImputer(strategy = 'most_frequent')),\n",
    "    ('ordenc', OrdinalEncoder(categories = [Client_Marital_Status_list])),\n",
    "    ('ordnorm', StandardScaler())])\n",
    "\n",
    "ordinal_Client_Education_pipeline = Pipeline([\n",
    "     ('ordimputer', SimpleImputer(strategy = 'most_frequent')),\n",
    "    ('ordenc', OrdinalEncoder(categories = [Client_Education_list])),\n",
    "     ('ordnorm', StandardScaler())])\n",
    "\n",
    "ct = ColumnTransformer(\n",
    "    [ (\"ordinalpipe\", ordinal_Client_Education_pipeline, ['Client_Education']),\n",
    "       (\"ordinalpipe2\", ordinal_Client_Marital_Status_pipeline, ['Client_Marital_Status']),\n",
    "       (\"nominalpipe\", nominal_pipeline,ohe_cols),\n",
    "       (\"nominalpipe2\", nominal_Client_Occupation_pipeline,['Client_Occupation']),\n",
    "       (\"numpipe\", numeric_pipeline, num_cols)])"
   ]
  },
  {
   "cell_type": "markdown",
   "id": "43723cdb",
   "metadata": {},
   "source": [
    "# Pipeline and Baseline Model"
   ]
  },
  {
   "cell_type": "markdown",
   "id": "4f7e9a08",
   "metadata": {},
   "source": [
    "We use SMOTE to oversample our data. However, SMOTE doesn't work if we only use 1 sklearn pipeline as it doesn't has the fit_transfrom function. We have to break it into 2 different pipelines. One for preprocessing data with column transformer and SMOTE, and the other is for the modeling pipeline. Standscaler is used to scaled the data after SMOTE. PCA is used for feature selection at .9."
   ]
  },
  {
   "cell_type": "code",
   "execution_count": null,
   "id": "d4637bf3",
   "metadata": {},
   "outputs": [],
   "source": [
    "# Need to seperate 2 pipelines\n",
    "pre_pipe = Pipeline([('ct', ct),\n",
    "                     ('smote', SMOTE(random_state=11))\n",
    "                    ])  #setup preprocessing pipeline\n",
    "\n",
    "baseline_pipe = Pipeline([\n",
    "                          \n",
    "                          ('classifier', DummyClassifier(strategy='most_frequent'))]) #set up model pipeline"
   ]
  },
  {
   "cell_type": "code",
   "execution_count": null,
   "id": "40e7b6ce",
   "metadata": {},
   "outputs": [],
   "source": [
    "x_resampled, y_resampled = pre_pipe.fit_resample(x_train, y_train) # train prepipeline get balanced data for train"
   ]
  },
  {
   "cell_type": "markdown",
   "id": "b799b847",
   "metadata": {},
   "source": [
    "Let's check to see if our y_train data is balanced."
   ]
  },
  {
   "cell_type": "code",
   "execution_count": null,
   "id": "c51fe8c8",
   "metadata": {
    "scrolled": true
   },
   "outputs": [],
   "source": [
    "print(y_resampled.value_counts())"
   ]
  },
  {
   "cell_type": "markdown",
   "id": "080ddf84",
   "metadata": {},
   "source": [
    "That's 50-50 for both classes instead of 92%-8%."
   ]
  },
  {
   "cell_type": "code",
   "execution_count": null,
   "id": "a20fd0c8",
   "metadata": {
    "scrolled": true
   },
   "outputs": [],
   "source": [
    "print_cv_scores(baseline_pipe, x_resampled, y_resampled.values.ravel())"
   ]
  },
  {
   "cell_type": "code",
   "execution_count": null,
   "id": "d54dfdba",
   "metadata": {
    "scrolled": false
   },
   "outputs": [],
   "source": [
    " baseline_pipe.fit(x_resampled, y_resampled)  #train the baseline model"
   ]
  },
  {
   "cell_type": "markdown",
   "id": "c8cc87b7",
   "metadata": {},
   "source": [
    "We also need to transfrom x_test_data."
   ]
  },
  {
   "cell_type": "code",
   "execution_count": null,
   "id": "0b9fed87",
   "metadata": {},
   "outputs": [],
   "source": [
    "x_test_processed = pre_pipe.named_steps['ct'].transform(x_test) #transform x_test_data"
   ]
  },
  {
   "cell_type": "code",
   "execution_count": null,
   "id": "ce7d4ac6",
   "metadata": {},
   "outputs": [],
   "source": [
    "y_pred0 = baseline_pipe.predict(x_test_processed) #baseline model prediction"
   ]
  },
  {
   "cell_type": "code",
   "execution_count": null,
   "id": "8aa6d13a",
   "metadata": {
    "scrolled": true
   },
   "outputs": [],
   "source": [
    "#plot the confusion matrix\n",
    "status_labels = ['0: Normal', '1: Default']\n",
    "plot_confusion_matrix(baseline_pipe,x_test_processed,y_test,display_labels = status_labels)\n",
    "plt.grid(False)\n",
    "plt.title('Confusion Matrix - Baseline')\n",
    "plt.show()\n",
    "\n",
    "baseline_classification_report = classification_report(y_test, y_pred0)\n",
    "print(baseline_classification_report)"
   ]
  },
  {
   "cell_type": "code",
   "execution_count": null,
   "id": "63d78b65",
   "metadata": {
    "scrolled": true
   },
   "outputs": [],
   "source": [
    "roc=roc_auc_score(y_test, y_pred0)\n",
    "acc = accuracy_score(y_test, y_pred0)\n",
    "prec = precision_score(y_test, y_pred0)\n",
    "rec = recall_score(y_test, y_pred0)\n",
    "f1 = f1_score(y_test, y_pred0)\n",
    "\n",
    "sum_results = pd.DataFrame([['Baseline', acc,prec,rec, f1,roc]],\n",
    "               columns = ['Model', 'Accuracy', 'Precision', 'Recall', 'F1 Score','ROC'])\n",
    "sum_results"
   ]
  },
  {
   "cell_type": "markdown",
   "id": "aa02cd67",
   "metadata": {},
   "source": [
    "Baseline model achieve 92% accuracy as there is 92% normal cases. However, it doesn't do well as it has 0% in precision and recall."
   ]
  },
  {
   "cell_type": "markdown",
   "id": "c6a5ac98",
   "metadata": {},
   "source": [
    "# Logistic Regression"
   ]
  },
  {
   "cell_type": "markdown",
   "id": "ad12fdf3",
   "metadata": {},
   "source": [
    "Let's do a regular Regression Model."
   ]
  },
  {
   "cell_type": "code",
   "execution_count": null,
   "id": "26e81569",
   "metadata": {},
   "outputs": [],
   "source": [
    "pre_pipe = Pipeline([('ct', ct),\n",
    "                     ('smote', SMOTE(random_state=11))])  #setup preprocessing pipeline \n",
    "\n",
    "logreg_pipe = Pipeline([\n",
    "                        \n",
    "                        ('logreg', LogisticRegression(random_state=42))]) #set up model pipeline"
   ]
  },
  {
   "cell_type": "code",
   "execution_count": null,
   "id": "e56f18ee",
   "metadata": {},
   "outputs": [],
   "source": [
    "x_resampled, y_resampled = pre_pipe.fit_resample(x_train, y_train) # train prepipeline get balanced data for train"
   ]
  },
  {
   "cell_type": "code",
   "execution_count": null,
   "id": "a7dadeb5",
   "metadata": {},
   "outputs": [],
   "source": [
    "print_cv_scores(logreg_pipe, x_resampled, y_resampled.values.ravel())"
   ]
  },
  {
   "cell_type": "code",
   "execution_count": null,
   "id": "4b0a1df8",
   "metadata": {},
   "outputs": [],
   "source": [
    "logreg_pipe.fit(x_resampled, y_resampled)  #train the logreg model"
   ]
  },
  {
   "cell_type": "code",
   "execution_count": null,
   "id": "1ab2f9af",
   "metadata": {},
   "outputs": [],
   "source": [
    "x_test_processed = pre_pipe.named_steps['ct'].transform(x_test)"
   ]
  },
  {
   "cell_type": "code",
   "execution_count": null,
   "id": "dec75c0e",
   "metadata": {},
   "outputs": [],
   "source": [
    "y_pred1 = logreg_pipe.predict(x_test_processed) #prediction"
   ]
  },
  {
   "cell_type": "code",
   "execution_count": null,
   "id": "3bec4455",
   "metadata": {},
   "outputs": [],
   "source": [
    "status_labels = ['0: Normal', '1: Default']\n",
    "plot_confusion_matrix(logreg_pipe,x_test_processed,y_test,display_labels = status_labels)\n",
    "plt.grid(False)\n",
    "plt.title('Confusion Matrix - Logistic Regression')\n",
    "plt.show()\n",
    "\n",
    "baseline_classification_report = classification_report(y_test, y_pred1)\n",
    "print(baseline_classification_report)"
   ]
  },
  {
   "cell_type": "code",
   "execution_count": null,
   "id": "64113e67",
   "metadata": {
    "scrolled": false
   },
   "outputs": [],
   "source": [
    "roc=roc_auc_score(y_test, y_pred1)\n",
    "acc = accuracy_score(y_test, y_pred1)\n",
    "prec = precision_score(y_test, y_pred1)\n",
    "rec = recall_score(y_test, y_pred1)\n",
    "f1 = f1_score(y_test, y_pred1)\n",
    "\n",
    "results = pd.DataFrame([['Logistic Regression', acc,prec,rec, f1,roc]],\n",
    "               columns = ['Model', 'Accuracy', 'Precision', 'Recall', 'F1 Score','ROC'])\n",
    "\n",
    "sum_results = sum_results.append(results, ignore_index = True)\n",
    "sum_results"
   ]
  },
  {
   "cell_type": "markdown",
   "id": "71cf7dcd",
   "metadata": {},
   "source": [
    "Even though our cross validation has a decent score, we still have a really poor F1 score when we compare to our test set."
   ]
  },
  {
   "cell_type": "raw",
   "id": "12f552bd",
   "metadata": {},
   "source": [
    "Logistic Regression GridSearch"
   ]
  },
  {
   "cell_type": "code",
   "execution_count": null,
   "id": "fe803f97",
   "metadata": {},
   "outputs": [],
   "source": [
    "pre_pipe = Pipeline([('ct', ct),\n",
    "                     ('smote', SMOTE(random_state=11))])  #setup preprocessing pipeline \n",
    "\n",
    "logreg_pipe = Pipeline([\n",
    "                        ('logreg', LogisticRegression(random_state=42))]) #set up model pipeline"
   ]
  },
  {
   "cell_type": "markdown",
   "id": "ed77cc21",
   "metadata": {},
   "source": [
    "Data need to fed into preprocessing pipeline first before GridSearch"
   ]
  },
  {
   "cell_type": "code",
   "execution_count": null,
   "id": "76dcb612",
   "metadata": {},
   "outputs": [],
   "source": [
    "#x_test_processed = pre_pipe.named_steps['ct'].transform(x_test) #preprocessing for x_test"
   ]
  },
  {
   "cell_type": "markdown",
   "id": "b7c41523",
   "metadata": {},
   "source": [
    "Going to optimize regulation strength and maximum number of iteraion to improve the model performance."
   ]
  },
  {
   "cell_type": "code",
   "execution_count": null,
   "id": "8603ea79",
   "metadata": {},
   "outputs": [],
   "source": [
    "#pipe_grid = {'logreg__C': [10, 15, 20], \n",
    "#              'logreg__max_iter': [200, 300]\n",
    "         \n",
    "#            }\n",
    "\n",
    "#model_2_gs_pipe = GridSearchCV(estimator= logreg_pipe, \n",
    "#                             param_grid=pipe_grid, \n",
    "#                             cv=3,  # 3-fold cross-validation\n",
    "#                             scoring= \"roc_auc\",\n",
    "#                             n_jobs=-1,  # Speed up computational time by using all processors\n",
    "#                             verbose=True)  # Print how many folds, candidates, and fits we're solving for    \n",
    "#with parallel_backend('threading', n_jobs=-1):\n",
    "#        model_2_gs_pipe.fit(x_resampled, y_resampled)"
   ]
  },
  {
   "cell_type": "code",
   "execution_count": null,
   "id": "0ded680a",
   "metadata": {},
   "outputs": [],
   "source": []
  },
  {
   "cell_type": "code",
   "execution_count": null,
   "id": "2d95a1c7",
   "metadata": {},
   "outputs": [],
   "source": [
    "# Pickle GridSearchCV object so we don't have to re-run that cell when reloading notebook\n",
    "#with open('model_2_gs_pipe.pkl', 'wb') as f:\n",
    "#     joblib.dump(model_2_gs_pipe, f)"
   ]
  },
  {
   "cell_type": "code",
   "execution_count": null,
   "id": "eb2d03b1",
   "metadata": {},
   "outputs": [],
   "source": [
    "# Load in pickled object\n",
    "with open('model_2_gs_pipe.pkl', 'rb') as f:\n",
    "    model_2_gs_pipe = joblib.load(f)"
   ]
  },
  {
   "cell_type": "code",
   "execution_count": null,
   "id": "f606a63e",
   "metadata": {},
   "outputs": [],
   "source": [
    "optimal_C = model_2_gs_pipe.best_params_['logreg__C']\n",
    "optimal_max_iter = model_2_gs_pipe.best_params_['logreg__max_iter']\n",
    "logreg2_pipe = Pipeline([\n",
    "                        ('logreg', LogisticRegression(C=optimal_C, max_iter=optimal_max_iter,random_state=42))]) #set up logestic regression w the best parameter\n",
    "logreg2_pipe.fit(x_resampled, y_resampled)"
   ]
  },
  {
   "cell_type": "code",
   "execution_count": null,
   "id": "bee4b462",
   "metadata": {},
   "outputs": [],
   "source": [
    "x_test_processed = pre_pipe.named_steps['ct'].transform(x_test)"
   ]
  },
  {
   "cell_type": "code",
   "execution_count": null,
   "id": "d1cfa829",
   "metadata": {},
   "outputs": [],
   "source": [
    "y_pred2 = logreg2_pipe.predict(x_test_processed) #prediction"
   ]
  },
  {
   "cell_type": "code",
   "execution_count": null,
   "id": "a6fd0c42",
   "metadata": {},
   "outputs": [],
   "source": [
    "status_labels = ['0: Normal', '1: Default']\n",
    "plot_confusion_matrix(logreg2_pipe,x_test_processed,y_test,display_labels = status_labels)\n",
    "plt.grid(False)\n",
    "plt.title('Confusion Matrix - Logistic Regression GS')\n",
    "plt.show()\n",
    "\n",
    "LogisticRegressionGS_classification_report = classification_report(y_test, y_pred2)\n",
    "print(LogisticRegressionGS_classification_report)"
   ]
  },
  {
   "cell_type": "code",
   "execution_count": null,
   "id": "dc760814",
   "metadata": {},
   "outputs": [],
   "source": [
    "roc=roc_auc_score(y_test, y_pred2)\n",
    "acc = accuracy_score(y_test, y_pred2)\n",
    "prec = precision_score(y_test, y_pred2)\n",
    "rec = recall_score(y_test, y_pred2)\n",
    "f1 = f1_score(y_test, y_pred2)\n",
    "\n",
    "results = pd.DataFrame([['Logistic Regression GS', acc,prec,rec, f1,roc]],\n",
    "               columns = ['Model', 'Accuracy', 'Precision', 'Recall', 'F1 Score','ROC'])\n",
    "\n",
    "sum_results = sum_results.append(results, ignore_index = True)\n",
    "sum_results"
   ]
  },
  {
   "cell_type": "markdown",
   "id": "f3f09b9b",
   "metadata": {},
   "source": [
    "There is not much improvement on the logistic regression gridsearch model. We are going to move on to the decision tree model."
   ]
  },
  {
   "cell_type": "markdown",
   "id": "6fb1864c",
   "metadata": {},
   "source": [
    "# Decision Tree"
   ]
  },
  {
   "cell_type": "code",
   "execution_count": null,
   "id": "5828f1fe",
   "metadata": {},
   "outputs": [],
   "source": [
    "pre_pipe = Pipeline([('ct', ct),\n",
    "                     ('smote', SMOTE(random_state=11))])  #setup preprocessing pipeline   \n",
    "\n",
    "dt_pipe = Pipeline([\n",
    "                    \n",
    "                    ('dt', DecisionTreeClassifier(random_state=42))]) #set up model pipeline  \n"
   ]
  },
  {
   "cell_type": "code",
   "execution_count": null,
   "id": "88939f4b",
   "metadata": {},
   "outputs": [],
   "source": [
    "x_resampled, y_resampled = pre_pipe.fit_resample(x_train, y_train) # train prepipeline get balanced data for train"
   ]
  },
  {
   "cell_type": "code",
   "execution_count": null,
   "id": "9ff42834",
   "metadata": {},
   "outputs": [],
   "source": [
    "print_cv_scores(dt_pipe, x_resampled, y_resampled.values.ravel())"
   ]
  },
  {
   "cell_type": "code",
   "execution_count": null,
   "id": "da000e8d",
   "metadata": {},
   "outputs": [],
   "source": [
    "dt_pipe.fit(x_resampled, y_resampled)  #train the DT model"
   ]
  },
  {
   "cell_type": "code",
   "execution_count": null,
   "id": "21a0ab4e",
   "metadata": {},
   "outputs": [],
   "source": [
    "x_test_processed = pre_pipe.named_steps['ct'].transform(x_test)"
   ]
  },
  {
   "cell_type": "code",
   "execution_count": null,
   "id": "d7b5ccc5",
   "metadata": {},
   "outputs": [],
   "source": [
    "y_pred3 = dt_pipe.predict(x_test_processed) #prediction"
   ]
  },
  {
   "cell_type": "code",
   "execution_count": null,
   "id": "5a813349",
   "metadata": {
    "scrolled": true
   },
   "outputs": [],
   "source": [
    "status_labels = ['0: Normal', '1: Default']\n",
    "plot_confusion_matrix(dt_pipe,x_test_processed,y_test,display_labels = status_labels)\n",
    "plt.grid(False)\n",
    "plt.title('Confusion Matrix - Decision Tree')\n",
    "plt.show()\n",
    "\n",
    "dt_classification_report = classification_report(y_test, y_pred3)\n",
    "print(dt_classification_report)"
   ]
  },
  {
   "cell_type": "code",
   "execution_count": null,
   "id": "e454a3fa",
   "metadata": {
    "scrolled": true
   },
   "outputs": [],
   "source": [
    "roc=roc_auc_score(y_test, y_pred3)\n",
    "acc = accuracy_score(y_test, y_pred3)\n",
    "prec = precision_score(y_test, y_pred3)\n",
    "rec = recall_score(y_test, y_pred3)\n",
    "f1 = f1_score(y_test, y_pred3)\n",
    "\n",
    "results = pd.DataFrame([['Decision Tree', acc,prec,rec, f1,roc]],\n",
    "               columns = ['Model', 'Accuracy', 'Precision', 'Recall', 'F1 Score','ROC'])\n",
    "\n",
    "sum_results = sum_results.append(results, ignore_index = True)\n",
    "sum_results"
   ]
  },
  {
   "cell_type": "code",
   "execution_count": null,
   "id": "e207dc98",
   "metadata": {},
   "outputs": [],
   "source": []
  },
  {
   "cell_type": "code",
   "execution_count": null,
   "id": "b8215dd0",
   "metadata": {},
   "outputs": [],
   "source": []
  },
  {
   "cell_type": "code",
   "execution_count": null,
   "id": "7becfba1",
   "metadata": {},
   "outputs": [],
   "source": [
    "#pipe_grid = {    \n",
    "#              'dt__min_samples_leaf': [5, 6, 7], #minimum number of samples required in the leaf mode\n",
    "#              'dt__max_features': [10, 20, 30]} #number of features to decide on next split to prevent overfittinh\n",
    "\n",
    "#model_dt_gs_pipe = GridSearchCV(estimator= dt_pipe, \n",
    "#                             param_grid=pipe_grid, \n",
    "#                             cv=5,  # 5-fold cross-validation\n",
    "#                             scoring= \"roc_auc\",\n",
    "#                             n_jobs=-1,  # Speed up computational time by using all processors\n",
    "#                             verbose=True)  # Print how many folds, candidates, and fits we're solving for\n",
    "#with parallel_backend('threading', n_jobs=-1):\n",
    " #    model_dt_gs_pipe.fit(x_resampled, y_resampled)"
   ]
  },
  {
   "cell_type": "code",
   "execution_count": null,
   "id": "06064f8f",
   "metadata": {},
   "outputs": [],
   "source": [
    "##Pickle GridSearchCV object so we don't have to re-run that cell when reloading notebook\n",
    "#with open('model_dt_gs_pipe.pkl', 'wb') as f:\n",
    "#     joblib.dump(model_dt_gs_pipe, f)"
   ]
  },
  {
   "cell_type": "code",
   "execution_count": null,
   "id": "c3b02e97",
   "metadata": {},
   "outputs": [],
   "source": [
    "with open('model_dt_gs_pipe.pkl', 'rb') as f:\n",
    "    model_dt_gs_pipe = joblib.load(f)"
   ]
  },
  {
   "cell_type": "code",
   "execution_count": null,
   "id": "bd614155",
   "metadata": {},
   "outputs": [],
   "source": [
    "optimal_min_samples_leaf = model_dt_gs_pipe.best_params_['dt__min_samples_leaf']\n",
    "optimal_max_features = model_dt_gs_pipe.best_params_['dt__max_features']\n",
    "dt2_pipe = Pipeline([\n",
    "                        ('dt',DecisionTreeClassifier(min_samples_leaf = optimal_min_samples_leaf, max_features=optimal_max_features, random_state=42))]) #set up logestic regression w the best parameter\n",
    "dt2_pipe.fit(x_resampled, y_resampled)"
   ]
  },
  {
   "cell_type": "code",
   "execution_count": null,
   "id": "1e3bb78c",
   "metadata": {},
   "outputs": [],
   "source": [
    "x_test_processed = pre_pipe.named_steps['ct'].transform(x_test)"
   ]
  },
  {
   "cell_type": "code",
   "execution_count": null,
   "id": "7dd3213e",
   "metadata": {},
   "outputs": [],
   "source": [
    "y_pred4 = dt_pipe.predict(x_test_processed) #prediction"
   ]
  },
  {
   "cell_type": "code",
   "execution_count": null,
   "id": "c341024c",
   "metadata": {},
   "outputs": [],
   "source": [
    "status_labels = ['0: Normal', '1: Default']\n",
    "plot_confusion_matrix(dt2_pipe,x_test_processed,y_test,display_labels = status_labels)\n",
    "plt.grid(False)\n",
    "plt.title('Confusion Matrix - Decision Tree')\n",
    "plt.show()\n",
    "\n",
    "dt_classification_report = classification_report(y_test, y_pred4)\n",
    "print(dt_classification_report)"
   ]
  },
  {
   "cell_type": "code",
   "execution_count": null,
   "id": "310215a0",
   "metadata": {},
   "outputs": [],
   "source": [
    "roc=roc_auc_score(y_test, y_pred4)\n",
    "acc = accuracy_score(y_test, y_pred4)\n",
    "prec = precision_score(y_test, y_pred4)\n",
    "rec = recall_score(y_test, y_pred4)\n",
    "f1 = f1_score(y_test, y_pred4)\n",
    "\n",
    "results = pd.DataFrame([['Decision Tree GS', acc,prec,rec, f1,roc]],\n",
    "               columns = ['Model', 'Accuracy', 'Precision', 'Recall', 'F1 Score','ROC'])\n",
    "\n",
    "sum_results = sum_results.append(results, ignore_index = True)\n",
    "sum_results"
   ]
  },
  {
   "cell_type": "code",
   "execution_count": null,
   "id": "ba773bc2",
   "metadata": {},
   "outputs": [],
   "source": []
  },
  {
   "cell_type": "code",
   "execution_count": null,
   "id": "d9d810f7",
   "metadata": {},
   "outputs": [],
   "source": []
  },
  {
   "cell_type": "code",
   "execution_count": null,
   "id": "2f918821",
   "metadata": {},
   "outputs": [],
   "source": []
  },
  {
   "cell_type": "code",
   "execution_count": null,
   "id": "8e0fedc7",
   "metadata": {},
   "outputs": [],
   "source": []
  },
  {
   "cell_type": "markdown",
   "id": "a3f4e9b0",
   "metadata": {},
   "source": [
    "# Random forest"
   ]
  },
  {
   "cell_type": "code",
   "execution_count": null,
   "id": "2e1f311a",
   "metadata": {},
   "outputs": [],
   "source": [
    "pre_pipe = Pipeline([('ct', ct),\n",
    "                     ('smote', SMOTE(random_state=11))])  #setup preprocessing pipeline \n",
    "\n",
    "rf_pipe = Pipeline([\n",
    "                     \n",
    "                     ('rf_clf', RandomForestClassifier(random_state=42))]) #set up model pipeline"
   ]
  },
  {
   "cell_type": "code",
   "execution_count": null,
   "id": "6b643338",
   "metadata": {},
   "outputs": [],
   "source": [
    "x_resampled, y_resampled = pre_pipe.fit_resample(x_train, y_train) # train prepipeline get balanced data for train"
   ]
  },
  {
   "cell_type": "code",
   "execution_count": null,
   "id": "898d4b19",
   "metadata": {},
   "outputs": [],
   "source": [
    "print_cv_scores(rf_pipe, x_resampled, y_resampled.values.ravel())"
   ]
  },
  {
   "cell_type": "code",
   "execution_count": null,
   "id": "48c75fc7",
   "metadata": {},
   "outputs": [],
   "source": [
    "rf_pipe.fit(x_resampled, y_resampled)  #train the RF model"
   ]
  },
  {
   "cell_type": "code",
   "execution_count": null,
   "id": "25a19467",
   "metadata": {},
   "outputs": [],
   "source": [
    "x_test_processed = pre_pipe.named_steps['ct'].transform(x_test)# train prepipeline get balanced data for test"
   ]
  },
  {
   "cell_type": "code",
   "execution_count": null,
   "id": "dcf814cc",
   "metadata": {},
   "outputs": [],
   "source": [
    "y_pred4 = rf_pipe.predict(x_test_processed) # rf prediction"
   ]
  },
  {
   "cell_type": "code",
   "execution_count": null,
   "id": "52d3d3cd",
   "metadata": {},
   "outputs": [],
   "source": [
    "status_labels = ['0: Normal', '1: Default']\n",
    "plot_confusion_matrix(rf_pipe,x_test_processed,y_test,display_labels = status_labels)\n",
    "plt.grid(False)\n",
    "plt.title('Confusion Matrix - Random Forest')\n",
    "plt.show()\n",
    "\n",
    "rf_classification_report = classification_report(y_test, y_pred4)\n",
    "print(rf_classification_report)"
   ]
  },
  {
   "cell_type": "code",
   "execution_count": null,
   "id": "4de32293",
   "metadata": {},
   "outputs": [],
   "source": [
    "roc=roc_auc_score(y_test, y_pred4)\n",
    "acc = accuracy_score(y_test, y_pred4)\n",
    "prec = precision_score(y_test, y_pred4)\n",
    "rec = recall_score(y_test, y_pred4)\n",
    "f1 = f1_score(y_test, y_pred4)\n",
    "\n",
    "results = pd.DataFrame([['Random Forrest', acc,prec,rec, f1,roc]],\n",
    "               columns = ['Model', 'Accuracy', 'Precision', 'Recall', 'F1 Score','ROC'])\n",
    "\n",
    "sum_results = sum_results.append(results, ignore_index = True)\n",
    "sum_results"
   ]
  },
  {
   "cell_type": "code",
   "execution_count": null,
   "id": "9828da5f",
   "metadata": {},
   "outputs": [],
   "source": []
  },
  {
   "cell_type": "raw",
   "id": "ec84f4d8",
   "metadata": {},
   "source": [
    "# Neural Network"
   ]
  },
  {
   "cell_type": "code",
   "execution_count": null,
   "id": "9a8afe75",
   "metadata": {},
   "outputs": [],
   "source": [
    "pre_pipe = Pipeline([('ct', ct),\n",
    "                     ('smote', SMOTE(random_state=11))])  #setup preprocessing pipeline "
   ]
  },
  {
   "cell_type": "code",
   "execution_count": null,
   "id": "c06cd2b3",
   "metadata": {},
   "outputs": [],
   "source": [
    "x_resampled_clean = np.asarray(x_resampled).astype(np.float32)\n",
    "x_test_processed_clean = np.asarray(x_test_processed).astype(np.float32)\n",
    "y_resampled_clean = np.asarray(y_resampled).astype(np.float32)\n",
    "y_test_clean = np.asarray(y_test).astype(np.float32)"
   ]
  },
  {
   "cell_type": "code",
   "execution_count": null,
   "id": "54d10dda",
   "metadata": {},
   "outputs": [],
   "source": [
    "early_stopping = tf.keras.callbacks.EarlyStopping(\n",
    "    monitor='val_prc', \n",
    "    verbose=1,\n",
    "    patience=20,\n",
    "    mode='max',\n",
    "    restore_best_weights=True)"
   ]
  },
  {
   "cell_type": "code",
   "execution_count": null,
   "id": "09248e88",
   "metadata": {},
   "outputs": [],
   "source": [
    "METRICS = [\n",
    "      keras.metrics.TruePositives(name='tp'),\n",
    "      keras.metrics.FalsePositives(name='fp'),\n",
    "      keras.metrics.TrueNegatives(name='tn'),\n",
    "      keras.metrics.FalseNegatives(name='fn'), \n",
    "      keras.metrics.BinaryAccuracy(name='accuracy'),\n",
    "      keras.metrics.Precision(name='precision'),\n",
    "      keras.metrics.Recall(name='recall'),\n",
    "      keras.metrics.AUC(name='auc'),\n",
    "      keras.metrics.AUC(name='prc', curve='PR'), # precision-recall curve\n",
    "]"
   ]
  },
  {
   "cell_type": "code",
   "execution_count": null,
   "id": "317e0423",
   "metadata": {},
   "outputs": [],
   "source": [
    "def visualize_training_results(results):\n",
    "    history = results.history\n",
    "    plt.figure()\n",
    "    plt.plot(history['val_loss'])\n",
    "    plt.plot(history['loss'])\n",
    "    plt.legend(['val_loss', 'train_loss'])\n",
    "    plt.title('Loss')\n",
    "    plt.xlabel('Epochs')\n",
    "    plt.ylabel('Loss')\n",
    "    plt.show()\n",
    "    \n",
    "    plt.figure()\n",
    "    plt.plot(history['val_accuracy'])\n",
    "    plt.plot(history['accuracy'])\n",
    "    plt.legend(['val_accuracy', 'accuracy'])\n",
    "    plt.title('Accuracy')\n",
    "    plt.xlabel('Epochs')\n",
    "    plt.ylabel('Accuracy')\n",
    "    plt.show()"
   ]
  },
  {
   "cell_type": "markdown",
   "id": "43b30068",
   "metadata": {},
   "source": [
    "Neural Network_baseline"
   ]
  },
  {
   "cell_type": "code",
   "execution_count": 588,
   "id": "078fc966",
   "metadata": {
    "scrolled": true
   },
   "outputs": [
    {
     "name": "stdout",
     "output_type": "stream",
     "text": [
      "Model: \"sequential_2\"\n",
      "_________________________________________________________________\n",
      "Layer (type)                 Output Shape              Param #   \n",
      "=================================================================\n",
      "dense_4 (Dense)              (None, 16)                1568      \n",
      "_________________________________________________________________\n",
      "dense_5 (Dense)              (None, 1)                 17        \n",
      "=================================================================\n",
      "Total params: 1,585\n",
      "Trainable params: 1,585\n",
      "Non-trainable params: 0\n",
      "_________________________________________________________________\n"
     ]
    }
   ],
   "source": [
    "model_nn_base = Sequential()\n",
    "model_nn_base.add(Dense(16, input_shape=(97,), activation='relu')),\n",
    "#model_24.add(Dropout(0.2)),\n",
    "#model_24.add(Dense(32, activation='relu')),\n",
    "#model_24.add(Dropout(0.2)),\n",
    "#model_24.add(Dense(64, activation='relu')),\n",
    "model_nn_base.add(Dense(1, activation='sigmoid'))\n",
    "#Compile model\n",
    "model_nn_base.compile(\n",
    "                loss='binary_crossentropy', \n",
    "                optimizer= keras.optimizers.Adam(learning_rate=1e-3),\n",
    "                metrics=METRICS)\n",
    "model_nn_base.summary()"
   ]
  },
  {
   "cell_type": "code",
   "execution_count": 589,
   "id": "269c5bc1",
   "metadata": {},
   "outputs": [],
   "source": [
    "# terminate training if doesnt improve on specified min_delta for 5 epochs\n",
    "earlystopper = EarlyStopping(monitor='accuracy', min_delta = 1e-2, patience = 5)"
   ]
  },
  {
   "cell_type": "code",
   "execution_count": 590,
   "id": "ad73195a",
   "metadata": {
    "scrolled": true
   },
   "outputs": [
    {
     "name": "stdout",
     "output_type": "stream",
     "text": [
      "Epoch 1/10\n",
      "30460/30460 [==============================] - 104s 3ms/step - loss: 0.5924 - tp: 50747.0000 - fp: 19163.0000 - tn: 70423.0000 - fn: 38839.0000 - accuracy: 0.6763 - precision: 0.7259 - recall: 0.5665 - auc: 0.7516 - prc: 0.7514 - val_loss: 0.7445 - val_tp: 15866.0000 - val_fp: 0.0000e+00 - val_tn: 0.0000e+00 - val_fn: 11010.0000 - val_accuracy: 0.5903 - val_precision: 1.0000 - val_recall: 0.5903 - val_auc: 0.0000e+00 - val_prc: 1.0000ion: 0.7317 - recall: 0.5 - E\n",
      "Epoch 2/10\n",
      "30460/30460 [==============================] - 120s 4ms/step - loss: 0.5642 - tp: 37551.0000 - fp: 18559.0000 - tn: 71027.0000 - fn: 25159.0000 - accuracy: 0.7129 - precision: 0.6692 - recall: 0.5988 - auc: 0.7771 - prc: 0.6824 - val_loss: 0.6917 - val_tp: 17220.0000 - val_fp: 0.0000e+00 - val_tn: 0.0000e+00 - val_fn: 9656.0000 - val_accuracy: 0.6407 - val_precision: 1.0000 - val_recall: 0.6407 - val_auc: 0.0000e+00 - val_prc: 1.0000ion: 0.6739 - recall: 0.5975 - auc: 0.7795 - prc:  - ETA: 1:35 - loss: 0.6053 - tp: 1488.0000 - fp: 720.0000 - tn: 2831.0000 - fn: 996.0000 - accuracy: - ETA: 1:40 - loss: 0.5919 - tp: 2083.0000 - fp: 1008.0000 - tn: 3968.0000 - fn: 1406.0000 - accuracy: 0.7148 - precision: 0.6739 - recall: 0.5970 - auc: 0.7781 - prc: 0.68 - ETA: 1:40 - loss: 0.59 - ETA:  - ETA: 1:34 - loss:  - ETA: 1:17 - loss: 0.5665 - tp: 10284.0000 - fp: 5 - ETA: 9s\n",
      "Epoch 3/10\n",
      "30460/30460 [==============================] - 95s 3ms/step - loss: 0.5539 - tp: 38559.0000 - fp: 18123.0000 - tn: 71463.0000 - fn: 24151.0000 - accuracy: 0.7224 - precision: 0.6803 - recall: 0.6149 - auc: 0.7888 - prc: 0.6983 - val_loss: 0.6877 - val_tp: 17153.0000 - val_fp: 0.0000e+00 - val_tn: 0.0000e+00 - val_fn: 9723.0000 - val_accuracy: 0.6382 - val_precision: 1.0000 - val_recall: 0.6382 - val_auc: 0.0000e+00 - val_prc: 1.0000\n",
      "Epoch 4/10\n",
      "30460/30460 [==============================] - 90s 3ms/step - loss: 0.5386 - tp: 39150.0000 - fp: 16659.0000 - tn: 72927.0000 - fn: 23560.0000 - accuracy: 0.7359 - precision: 0.7015 - recall: 0.6243 - auc: 0.8038 - prc: 0.7257 - val_loss: 0.6528 - val_tp: 18020.0000 - val_fp: 0.0000e+00 - val_tn: 0.0000e+00 - val_fn: 8856.0000 - val_accuracy: 0.6705 - val_precision: 1.0000 - val_recall: 0.6705 - val_auc: 0.0000e+00 - val_prc: 1.0000\n",
      "Epoch 5/10\n",
      "30460/30460 [==============================] - 131s 4ms/step - loss: 0.5204 - tp: 39924.0000 - fp: 15541.0000 - tn: 74045.0000 - fn: 22786.0000 - accuracy: 0.7483 - precision: 0.7198 - recall: 0.6366 - auc: 0.8182 - prc: 0.7542 - val_loss: 0.6205 - val_tp: 18240.0000 - val_fp: 0.0000e+00 - val_tn: 0.0000e+00 - val_fn: 8636.0000 - val_accuracy: 0.6787 - val_precision: 1.0000 - val_recall: 0.6787 - val_auc: 0.0000e+00 - val_prc: 1.0000uracy: 0.7406 - precision: 0.7126 - recall: 0.6350  - ETA: 2:16 - loss: 0.5246 - tp: 4808.0000 - fp: 1957.0000 - tn: 8644.0000 - fn: 2776.0000 - accuracy: 0.7397 - precision: 0.7107 - recall - ETA: 2:13 - loss: 0.5235 - tp: 5320.0000 - fp: 2155.0000 - tn: 9615.0000 - fn: 3085.0000 - accuracy: 0.7403 - p - ETA: 51s - loss: 0.5169 - tp: 24641.0000 - fp: 9718.0000 - tn: 46035.0000 - fn: 14196.0000 - accuracy: 0.7472 - precision: 0.7172 - recall: 0.6345 - ETA: 50s - l - ETA: 44s - loss: 0.5168 - tp: 26581.0000 - fp: 10481.0000 - tn: 49598.0000 - fn: 15305.0000 - accuracy: 0.7471 - precision: 0.7172 -  - ETA: 43s - loss: 0.5168 - tp: 26932.0000 - fp: 10627.0000 - tn: 50244.0000 - fn: 15502.0000 - accuracy: 0.7471 - precision: 0.7171 - recall: 0.6347 - auc: 0.8163 - prc - ETA: 43s - loss: 0.5169 - tp: 26979.0000 - fp: 10650.0000 - tn: 50388.0000 - fn: 15543.0000 - accuracy: 0.7471 - precision: 0.7170 - recall: 0.6345 - auc:  - ETA: 42s - loss: 0.5168 - tp: 27121.0000 - fp: 10696.0000 - tn: 50719.0000 - fn: 15644.0000 - accuracy: 0.7472 - precision: 0.7172 - recall: 0.6342 - - ETA: 42s - loss: 0.5166 - tp: 27371.0000 - fp: 10777.0000 - tn: 51114.0000 - fn:  - ETA: 39s - loss: 0.5167 - tp: 28215.0000 - fp: 11112.0000 - tn: 52455.0000 - fn: 16178.0000 - accuracy: 0.7472 - precision: 0.717 - ETA: 38s - loss: 0.5166 - tp: 28602.0000 - fp: 11259.0000 - tn: 53182.0000 - fn: 16412.0000 - accuracy: 0.7472 - precision: 0.7175 - recall: 0.6354 - ETA: 6s - loss: 0.5215 - tp: 37811.0000 - fp: 14749.0000 - tn: 70105.0000 - fn: 21605.000\n",
      "Epoch 6/10\n",
      "30460/30460 [==============================] - 98s 3ms/step - loss: 0.5043 - tp: 40339.0000 - fp: 14461.0000 - tn: 75125.0000 - fn: 22371.0000 - accuracy: 0.7582 - precision: 0.7361 - recall: 0.6433 - auc: 0.8297 - prc: 0.7775 - val_loss: 0.5699 - val_tp: 19149.0000 - val_fp: 0.0000e+00 - val_tn: 0.0000e+00 - val_fn: 7727.0000 - val_accuracy: 0.7125 - val_precision: 1.0000 - val_recall: 0.7125 - val_auc: 0.0000e+00 - val_prc: 1.00003 - auc: 0.8280  - ETA: 27s - loss: 0.5069 - tp: 27475.0000 - fp: 10011.0000 - tn: 51166.0000 - fn: 15348.0000 - accurac - - ETA: 20s - loss: 0.5077 - tp: 30441.0000 - fp: 11045.0000 - tn: 56650.0000 - fn:  - ETA: 13s - loss: 0.5065 - tp: 33834.0000 - fp: 12251.0000 - tn: 63090.0000 - fn - ETA: 11s - loss: 0.5062 - tp: 35023.0000 - fp: 12650.0000 - tn: 65224.0000 - fn: 19468.0000 - accurac\n",
      "Epoch 7/10\n",
      "30460/30460 [==============================] - 90s 3ms/step - loss: 0.4899 - tp: 40876.0000 - fp: 13624.0000 - tn: 75962.0000 - fn: 21834.0000 - accuracy: 0.7672 - precision: 0.7500 - recall: 0.6518 - auc: 0.8391 - prc: 0.7947 - val_loss: 0.4893 - val_tp: 20606.0000 - val_fp: 0.0000e+00 - val_tn: 0.0000e+00 - val_fn: 6270.0000 - val_accuracy: 0.7667 - val_precision: 1.0000 - val_recall: 0.7667 - val_auc: 0.0000e+00 - val_prc: 1.0000\n",
      "Epoch 8/10\n",
      "30460/30460 [==============================] - 101s 3ms/step - loss: 0.4819 - tp: 40861.0000 - fp: 13056.0000 - tn: 76530.0000 - fn: 21849.0000 - accuracy: 0.7708 - precision: 0.7579 - recall: 0.6516 - auc: 0.8438 - prc: 0.8030 - val_loss: 0.5576 - val_tp: 18952.0000 - val_fp: 0.0000e+00 - val_tn: 0.0000e+00 - val_fn: 7924.0000 - val_accuracy: 0.7052 - val_precision: 1.0000 - val_recall: 0.7052 - val_auc: 0.0000e+00 - val_prc: 1.0000\n",
      "Epoch 9/10\n",
      "30460/30460 [==============================] - 100s 3ms/step - loss: 0.4759 - tp: 41047.0000 - fp: 12620.0000 - tn: 76966.0000 - fn: 21663.0000 - accuracy: 0.7749 - precision: 0.7648 - recall: 0.6546 - auc: 0.8473 - prc: 0.8097 - val_loss: 0.5651 - val_tp: 18861.0000 - val_fp: 0.0000e+00 - val_tn: 0.0000e+00 - val_fn: 8015.0000 - val_accuracy: 0.7018 - val_precision: 1.0000 - val_recall: 0.7018 - val_auc: 0.0000e+00 - val_prc: 1.0000\n",
      "Epoch 10/10\n",
      "30460/30460 [==============================] - 99s 3ms/step - loss: 0.4718 - tp: 41229.0000 - fp: 12446.0000 - tn: 77140.0000 - fn: 21481.0000 - accuracy: 0.7772 - precision: 0.7681 - recall: 0.6575 - auc: 0.8492 - prc: 0.8139 - val_loss: 0.5679 - val_tp: 18571.0000 - val_fp: 0.0000e+00 - val_tn: 0.0000e+00 - val_fn: 8305.0000 - val_accuracy: 0.6910 - val_precision: 1.0000 - val_recall: 0.6910 - val_auc: 0.0000e+00 - val_prc: 1.0000 41381.0000 - fn: 11544.0000 - accuracy: 0.7762 - precision: 0.7 - ETA: 35s - loss: 0.4740 - tp: 23680.0000 - fp: 7236.0000 - tn: 43638.0000 - fn: 12176.0000 - accuracy: 0.7762 - precision: 0.7659 - recall: 0.6604 - auc: 0.8490 - prc: 0.813 - ETA: 35s - loss: 0.4740 - tp: 23692.0000 - fp: 7241.0000 - tn: 43666.0000 - fn: 12186.0000 - accuracy: 0.7761 - precision: 0.7659 - recall: 0. - ETA: 34s - loss:  - ETA: 0s - loss: 0.4719 - tp: 40800.0000 - fp: 12316.0000 - tn: 76327.0000 - fn: 21257.0000 - accuracy: 0.7772 - precision: 0.7681 - recall: 0.6575 - auc: \n"
     ]
    }
   ],
   "source": [
    "results_nn_base = model_nn_base.fit(\n",
    "                    x=x_resampled_clean, \n",
    "                    y=y_resampled_clean, \n",
    "                    epochs=10, \n",
    "                    batch_size=5, \n",
    "                    validation_split=0.15,\n",
    "                    #validation_data=(x_validate, y_validate),\n",
    "                    #class_weight=sklearn_weights,\n",
    "                    callbacks = [earlystopper])"
   ]
  },
  {
   "cell_type": "code",
   "execution_count": null,
   "id": "fbc6a55e",
   "metadata": {},
   "outputs": [],
   "source": [
    "#Pickle GridSearchCV object so we don't have to re-run that cell when reloading notebook\n",
    "with open('model_nn_base.pkl', 'wb') as f:\n",
    "     joblib.dump(model_nn_base, f)"
   ]
  },
  {
   "cell_type": "code",
   "execution_count": null,
   "id": "969b47f5",
   "metadata": {},
   "outputs": [],
   "source": [
    "with open('model_dt_gs_pipe.pkl', 'rb') as f:\n",
    "    model_nn_base = joblib.load(f)"
   ]
  },
  {
   "cell_type": "code",
   "execution_count": null,
   "id": "d298fd5a",
   "metadata": {},
   "outputs": [],
   "source": [
    "status_labels = ['0: Normal', '1: Default']\n",
    "plot_confusion_matrix(model_nn_base,x_test_processed,y_test,display_labels = status_labels)\n",
    "plt.grid(False)\n",
    "plt.title('Confusion Matrix - NN Network')\n",
    "plt.show()\n",
    "\n",
    "nn_base_classification_report = classification_report(y_test, y_pred_nn_base)\n",
    "print(nn_base_classification_report)"
   ]
  },
  {
   "cell_type": "code",
   "execution_count": null,
   "id": "db72fc8c",
   "metadata": {},
   "outputs": [],
   "source": [
    "visualize_training_results(results_nn_base)"
   ]
  },
  {
   "cell_type": "code",
   "execution_count": 587,
   "id": "9feca1a8",
   "metadata": {},
   "outputs": [],
   "source": [
    "import itertools\n",
    "\n",
    "# Create a confusion matrix\n",
    "def plot_confusion_matrix(cm, classes,\n",
    "                          normalize=False,\n",
    "                          title='Confusion matrix',\n",
    "                          cmap=plt.cm.Blues):\n",
    "    \"\"\"\n",
    "    This function prints and plots the confusion matrix.\n",
    "    Normalization can be applied by setting `normalize=True`.\n",
    "    \"\"\"\n",
    "    if normalize:\n",
    "        cm = cm.astype('float') / cm.sum(axis=1)[:, np.newaxis]\n",
    "        print(\"Normalized confusion matrix\")\n",
    "    else:\n",
    "        print('Confusion matrix, without normalization')\n",
    "\n",
    "    print(cm)\n",
    "\n",
    "    plt.imshow(cm, interpolation='nearest', cmap=cmap)\n",
    "    plt.title(title, fontsize=14)\n",
    "    plt.colorbar()\n",
    "    tick_marks = np.arange(len(classes))\n",
    "    plt.xticks(tick_marks, classes, rotation=45)\n",
    "    plt.yticks(tick_marks, classes)\n",
    "\n",
    "    fmt = '.2f' if normalize else 'd'\n",
    "    thresh = cm.max() / 2.\n",
    "    for i, j in itertools.product(range(cm.shape[0]), range(cm.shape[1])):\n",
    "        plt.text(j, i, format(cm[i, j], fmt),\n",
    "                 horizontalalignment=\"center\",\n",
    "                 color=\"white\" if cm[i, j] > thresh else \"black\")\n",
    "\n",
    "    plt.tight_layout()\n",
    "    plt.ylabel('True label')\n",
    "    plt.xlabel('Predicted label')"
   ]
  },
  {
   "cell_type": "code",
   "execution_count": null,
   "id": "94264856",
   "metadata": {},
   "outputs": [],
   "source": [
    "undersample_cm = confusion_matrix(original_ytest, undersample_fraud_predictions)\n",
    "actual_cm = confusion_matrix(original_ytest, original_ytest)\n",
    "labels = ['No Fraud', 'Fraud']\n",
    "\n",
    "fig = plt.figure(figsize=(16,8))\n",
    "\n",
    "fig.add_subplot(221)\n",
    "plot_confusion_matrix(undersample_cm, labels, title=\"Random UnderSample \\n Confusion Matrix\", cmap=plt.cm.Reds)\n",
    "\n",
    "fig.add_subplot(222)\n",
    "plot_confusion_matrix(actual_cm, labels, title=\"Confusion Matrix \\n (with 100% accuracy)\", cmap=plt.cm.Greens)"
   ]
  },
  {
   "cell_type": "markdown",
   "id": "5b062f83",
   "metadata": {},
   "source": [
    "Add l1 regulaizer"
   ]
  },
  {
   "cell_type": "code",
   "execution_count": null,
   "id": "83df7c11",
   "metadata": {},
   "outputs": [],
   "source": [
    "from keras.regularizers import l1, l2"
   ]
  },
  {
   "cell_type": "code",
   "execution_count": null,
   "id": "98120c14",
   "metadata": {},
   "outputs": [],
   "source": [
    "# establish the regularization strength of lambda\n",
    "reg_l1 = l1(3e-3) # 1e-5 to .1"
   ]
  },
  {
   "cell_type": "code",
   "execution_count": null,
   "id": "5c5c6a36",
   "metadata": {},
   "outputs": [],
   "source": [
    "x_resampled_clean = np.asarray(x_resampled).astype(np.float32)\n",
    "x_test_processed_clean = np.asarray(x_test_processed).astype(np.float32)\n",
    "y_resampled_clean = np.asarray(y_resampled).astype(np.float32)\n",
    "y_test_clean = np.asarray(y_test).astype(np.float32)"
   ]
  },
  {
   "cell_type": "code",
   "execution_count": null,
   "id": "1616426f",
   "metadata": {},
   "outputs": [],
   "source": [
    "model_nn_l1 = Sequential()\n",
    "model_nn_l1.add(Dense(16, input_shape=(97,), activation='relu')),\n",
    "#model_24.add(Dropout(0.2)),\n",
    "model_nn_l1.add(Dense(32, activation='relu')),\n",
    "model_nn_l1.add(Dropout(0.2)),\n",
    "model_nn_l1.add(Dense(32, \n",
    "                     activation='relu',\n",
    "                     kernel_regularizer = reg_l1)),\n",
    "model_nn_l1.add(Dense(1, activation='sigmoid'))\n",
    "#Compile model\n",
    "model_nn_l1.compile(\n",
    "                loss='binary_crossentropy', \n",
    "                optimizer= keras.optimizers.Adam(learning_rate=1e-3),\n",
    "                metrics=METRICS)\n",
    "model_nn_l1.summary()"
   ]
  },
  {
   "cell_type": "code",
   "execution_count": null,
   "id": "f1345bd4",
   "metadata": {},
   "outputs": [],
   "source": [
    "results_nn_l1 = model_nn_l1.fit(\n",
    "                    x=x_resampled_clean, \n",
    "                    y=y_resampled_clean, \n",
    "                    epochs=10, \n",
    "                    batch_size=5, \n",
    "                    validation_split=0.15,\n",
    "                    #validation_data=(x_validate, y_validate),\n",
    "                    #class_weight=sklearn_weights,\n",
    "                    callbacks = [earlystopper])\n"
   ]
  },
  {
   "cell_type": "code",
   "execution_count": null,
   "id": "3bd5e271",
   "metadata": {},
   "outputs": [],
   "source": [
    "visualize_training_results(results_nn_l1)"
   ]
  },
  {
   "cell_type": "code",
   "execution_count": null,
   "id": "2bede1ed",
   "metadata": {},
   "outputs": [],
   "source": []
  },
  {
   "cell_type": "code",
   "execution_count": null,
   "id": "f4550857",
   "metadata": {},
   "outputs": [],
   "source": []
  },
  {
   "cell_type": "code",
   "execution_count": null,
   "id": "16f8d076",
   "metadata": {},
   "outputs": [],
   "source": []
  },
  {
   "cell_type": "code",
   "execution_count": null,
   "id": "fdad66e2",
   "metadata": {},
   "outputs": [],
   "source": []
  },
  {
   "cell_type": "code",
   "execution_count": null,
   "id": "e5366481",
   "metadata": {},
   "outputs": [],
   "source": []
  }
 ],
 "metadata": {
  "kernelspec": {
   "display_name": "Python 3 (ipykernel)",
   "language": "python",
   "name": "python3"
  },
  "language_info": {
   "codemirror_mode": {
    "name": "ipython",
    "version": 3
   },
   "file_extension": ".py",
   "mimetype": "text/x-python",
   "name": "python",
   "nbconvert_exporter": "python",
   "pygments_lexer": "ipython3",
   "version": "3.9.12"
  }
 },
 "nbformat": 4,
 "nbformat_minor": 5
}
